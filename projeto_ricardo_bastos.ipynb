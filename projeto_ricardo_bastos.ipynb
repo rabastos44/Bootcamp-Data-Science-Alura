{
  "nbformat": 4,
  "nbformat_minor": 0,
  "metadata": {
    "colab": {
      "name": "projeto_ricardo_bastos.ipynb",
      "provenance": [],
      "collapsed_sections": [],
      "toc_visible": true,
      "include_colab_link": true
    },
    "kernelspec": {
      "name": "python3",
      "display_name": "Python 3"
    }
  },
  "cells": [
    {
      "cell_type": "markdown",
      "metadata": {
        "id": "view-in-github",
        "colab_type": "text"
      },
      "source": [
        "<a href=\"https://colab.research.google.com/github/rabastos44/Bootcamp-Data-Science-Alura/blob/master/projeto_ricardo_bastos.ipynb\" target=\"_parent\"><img src=\"https://colab.research.google.com/assets/colab-badge.svg\" alt=\"Open In Colab\"/></a>"
      ]
    },
    {
      "cell_type": "markdown",
      "metadata": {
        "id": "rgJ1Sjx1p6sU"
      },
      "source": [
        "# Projeto Modulo 3  \r\n",
        "\r\n",
        "Analisar a incidência do consumo de Álcool e outras Drogas entre os alunos da Base Pense 2015.\r\n",
        "Vamos analisar:\r\n",
        "-  o inicio do uso e o uso nos ultimos 30 dias por idade e tipo de instituição (Escola publica ou privada)\r\n",
        "- influências dos amigos\r\n",
        "- impacto da violência dentro de casa \r\n",
        "- impacto do bulling no consumo\r\n",
        "- influencia de emprego e do esporte \r\n",
        "\r\n",
        "Realizar teste das diferenças não visívies e das visíveis quando interessante"
      ]
    },
    {
      "cell_type": "code",
      "metadata": {
        "colab": {
          "base_uri": "https://localhost:8080/"
        },
        "id": "aY1OmO-1XU1L",
        "outputId": "b6e94eba-f1d4-44ac-cc77-504f3b69c897"
      },
      "source": [
        "from google.colab import drive\n",
        "drive.mount('/content/drive')"
      ],
      "execution_count": 1,
      "outputs": [
        {
          "output_type": "stream",
          "text": [
            "Drive already mounted at /content/drive; to attempt to forcibly remount, call drive.mount(\"/content/drive\", force_remount=True).\n"
          ],
          "name": "stdout"
        }
      ]
    },
    {
      "cell_type": "markdown",
      "metadata": {
        "id": "wcAYKkgn6Mp1"
      },
      "source": [
        "### Funções"
      ]
    },
    {
      "cell_type": "code",
      "metadata": {
        "id": "hHgqOD4f5KLF"
      },
      "source": [
        "def tabela_de_frequencia_qualitativa(dados):\r\n",
        "  tamanho_amostra = len(dados)\r\n",
        "\r\n",
        "  frequencia = dados.value_counts()\r\n",
        "  percentual = dados.value_counts(normalize = True) * 100\r\n",
        "  dist_freq = pd.DataFrame({\"Frequência\": frequencia, \"Percentual\": percentual })\r\n",
        "  return dist_freq\r\n"
      ],
      "execution_count": 2,
      "outputs": []
    },
    {
      "cell_type": "markdown",
      "metadata": {
        "id": "4lZ4fIQI6Tf0"
      },
      "source": [
        "### Analises"
      ]
    },
    {
      "cell_type": "code",
      "metadata": {
        "id": "Y7myIvIB-wvn"
      },
      "source": [
        "import pandas as pd\r\n",
        "import seaborn as sns\r\n",
        "from zipfile import ZipFile"
      ],
      "execution_count": 3,
      "outputs": []
    },
    {
      "cell_type": "code",
      "metadata": {
        "id": "I8NC-hoTnzu8"
      },
      "source": [
        "caminho = \"/content/drive/MyDrive/PeNSE_2015_AMOSTRA2.zip\"\n",
        "zip = ZipFile(caminho)\n",
        "caminho_pasta_zipada = zip.namelist()[1]\n",
        "\n",
        "dados = pd.read_csv(zip.open(caminho_pasta_zipada), sep = \";\", thousands = \".\", decimal = \",\")"
      ],
      "execution_count": 4,
      "outputs": []
    },
    {
      "cell_type": "code",
      "metadata": {
        "colab": {
          "base_uri": "https://localhost:8080/",
          "height": 111
        },
        "id": "vwJ_ParY6cIk",
        "outputId": "140e90b1-d6c3-413a-ff7b-bc6abb7e391c"
      },
      "source": [
        "tabela_de_frequencia_qualitativa(dados[\"V0007\"])"
      ],
      "execution_count": 5,
      "outputs": [
        {
          "output_type": "execute_result",
          "data": {
            "text/html": [
              "<div>\n",
              "<style scoped>\n",
              "    .dataframe tbody tr th:only-of-type {\n",
              "        vertical-align: middle;\n",
              "    }\n",
              "\n",
              "    .dataframe tbody tr th {\n",
              "        vertical-align: top;\n",
              "    }\n",
              "\n",
              "    .dataframe thead th {\n",
              "        text-align: right;\n",
              "    }\n",
              "</style>\n",
              "<table border=\"1\" class=\"dataframe\">\n",
              "  <thead>\n",
              "    <tr style=\"text-align: right;\">\n",
              "      <th></th>\n",
              "      <th>Frequência</th>\n",
              "      <th>Percentual</th>\n",
              "    </tr>\n",
              "  </thead>\n",
              "  <tbody>\n",
              "    <tr>\n",
              "      <th>1</th>\n",
              "      <td>12381</td>\n",
              "      <td>74.782556</td>\n",
              "    </tr>\n",
              "    <tr>\n",
              "      <th>2</th>\n",
              "      <td>4175</td>\n",
              "      <td>25.217444</td>\n",
              "    </tr>\n",
              "  </tbody>\n",
              "</table>\n",
              "</div>"
            ],
            "text/plain": [
              "   Frequência  Percentual\n",
              "1       12381   74.782556\n",
              "2        4175   25.217444"
            ]
          },
          "metadata": {
            "tags": []
          },
          "execution_count": 5
        }
      ]
    },
    {
      "cell_type": "code",
      "metadata": {
        "id": "qAe8ExYG5QlH"
      },
      "source": [
        "uso_drogas_idade_sexo= pd.crosstab(index = [dados.VB01003,dados.VB01001],\r\n",
        "              columns = dados.VB06001,\r\n",
        "              colnames = [\"jÁ Usou alguma droga?\"], normalize=\"index\" )\r\n",
        "\r\n",
        "uso_drogas_idade_sexo = uso_drogas_idade_sexo.reset_index()\r\n",
        "uso_drogas_idade_sexo.columns = [\"Idade\",\"Sexo\",\"Pulo\",\"Sim\",\"Não\",\"NI\"]\r\n"
      ],
      "execution_count": 18,
      "outputs": []
    },
    {
      "cell_type": "code",
      "metadata": {
        "colab": {
          "base_uri": "https://localhost:8080/",
          "height": 390
        },
        "id": "7oGrzIXV8bQ2",
        "outputId": "8cbcf586-dd2f-40cf-e970-15d39fee2c57"
      },
      "source": [
        "ax = sns.barplot(data = uso_drogas_idade_sexo, \r\n",
        "                 hue = \"Sexo\", x = \"Idade\", \r\n",
        "                 y = \"Sim\", palette=\"Set1\")\r\n",
        "ax.figure.set_size_inches(12,6)"
      ],
      "execution_count": 21,
      "outputs": [
        {
          "output_type": "display_data",
          "data": {
            "image/png": "[encoded data removed]",
            "text/plain": [
              "<Figure size 864x432 with 1 Axes>"
            ]
          },
          "metadata": {
            "tags": [],
            "needs_background": "light"
          }
        }
      ]
    },
    {
      "cell_type": "code",
      "metadata": {
        "id": "Xlt0YsUJ7m96"
      },
      "source": [
        ""
      ],
      "execution_count": null,
      "outputs": []
    }
  ]
}