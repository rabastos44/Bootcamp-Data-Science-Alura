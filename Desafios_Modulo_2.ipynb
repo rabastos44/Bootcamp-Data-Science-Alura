{
  "nbformat": 4,
  "nbformat_minor": 0,
  "metadata": {
    "colab": {
      "name": "Desafios Modulo 2",
      "provenance": [],
      "toc_visible": true,
      "authorship_tag": "ABX9TyOSYeatgyNEt25Y/TkEckVY",
      "include_colab_link": true
    },
    "kernelspec": {
      "name": "python3",
      "display_name": "Python 3"
    }
  },
  "cells": [
    {
      "cell_type": "markdown",
      "metadata": {
        "id": "view-in-github",
        "colab_type": "text"
      },
      "source": [
        "<a href=\"https://colab.research.google.com/github/rabastos44/Bootcamp-Data-Science-Alura/blob/master/Desafios_Modulo_2.ipynb\" target=\"_parent\"><img src=\"https://colab.research.google.com/assets/colab-badge.svg\" alt=\"Open In Colab\"/></a>"
      ]
    },
    {
      "cell_type": "code",
      "metadata": {
        "id": "uEd89cVWYtOa"
      },
      "source": [
        "import pandas as pd\n",
        "import numpy as np\n",
        "import matplotlib.pyplot as plt\n",
        "import matplotlib.ticker as ticker\n"
      ],
      "execution_count": 1,
      "outputs": []
    },
    {
      "cell_type": "markdown",
      "metadata": {
        "id": "VXgmPTlFaysy"
      },
      "source": [
        "# Dados Modulo 1"
      ]
    },
    {
      "cell_type": "code",
      "metadata": {
        "colab": {
          "base_uri": "https://localhost:8080/"
        },
        "id": "McROrIBOYqDP",
        "outputId": "3567f79c-3218-4c77-f5e9-a26c1bcb4f0e"
      },
      "source": [
        "dados = pd.read_csv(\"https://raw.githubusercontent.com/alura-cursos/agendamento-hospitalar/main/dados/A160324189_28_143_208.csv\",\n",
        "                    encoding=\"ISO-8859-1\", \n",
        "                    skiprows = 3, sep=\";\", skipfooter=12,\n",
        "                    thousands=\".\", decimal=\",\")\n",
        "\n",
        "colunas_usaveis = dados.mean().index.tolist()\n",
        "colunas_usaveis.insert(0, \"Unidade da Federação\")\n",
        "usaveis = dados[colunas_usaveis]\n",
        "usaveis = usaveis.set_index(\"Unidade da Federação\")\n",
        "usaveis = usaveis.drop(\"Total\", axis=1)\n",
        "usaveis[\"Total\"] = usaveis.sum(axis=1) # [0,1,2] [\"SP\"]\n",
        "ordenado_por_total = usaveis.sort_values(\"Total\", ascending=False)\n",
        "ordenado_por_total = ordenado_por_total.drop(\"Total\", axis=1)\n",
        "colunas_interessadas = ordenado_por_total.columns[6:]\n",
        "ordenado_por_total = ordenado_por_total[colunas_interessadas]\n",
        "ordenado_por_total = ordenado_por_total / 1000000\n",
        "meses_filtrados = ordenado_por_total.columns[47:150]\n",
        "mes_mais_recente = ordenado_por_total.columns[-1]\n",
        "gastos_do_mais_recente = ordenado_por_total[mes_mais_recente]\n",
        "gastos_do_mais_recente = gastos_do_mais_recente.sort_values(ascending=False)\n",
        "gastos_proporcionais = gastos_do_mais_recente / gastos_do_mais_recente.sum()\n"
      ],
      "execution_count": 2,
      "outputs": [
        {
          "output_type": "stream",
          "text": [
            "/usr/local/lib/python3.6/dist-packages/ipykernel_launcher.py:4: ParserWarning: Falling back to the 'python' engine because the 'c' engine does not support skipfooter; you can avoid this warning by specifying engine='python'.\n",
            "  after removing the cwd from sys.path.\n"
          ],
          "name": "stderr"
        }
      ]
    },
    {
      "cell_type": "markdown",
      "metadata": {
        "id": "vtozfoRya3OE"
      },
      "source": [
        "#Modulo 2 - Desafios"
      ]
    },
    {
      "cell_type": "markdown",
      "metadata": {
        "id": "SroFIP11cLid"
      },
      "source": [
        "##Aula 1"
      ]
    },
    {
      "cell_type": "markdown",
      "metadata": {
        "id": "A2cAAGvwa8qP"
      },
      "source": [
        "###Desafio 01 - Entre nos dados do wikipedia e Leia a Base de dados direto do wikipedia.\n",
        "\n"
      ]
    },
    {
      "cell_type": "code",
      "metadata": {
        "colab": {
          "base_uri": "https://localhost:8080/",
          "height": 886
        },
        "id": "tZuU0wRGbmZl",
        "outputId": "8ca552a6-64ec-4815-959a-c0de82eced2b"
      },
      "source": [
        "wiki = pd.read_html(\"https://pt.wikipedia.org/wiki/Lista_de_unidades_federativas_do_Brasil_por_popula%C3%A7%C3%A3o\")\n",
        "tabela_populacao = wiki[0]\n",
        "tabela_populacao[['Unidade federativa','População']]\n"
      ],
      "execution_count": 3,
      "outputs": [
        {
          "output_type": "execute_result",
          "data": {
            "text/html": [
              "<div>\n",
              "<style scoped>\n",
              "    .dataframe tbody tr th:only-of-type {\n",
              "        vertical-align: middle;\n",
              "    }\n",
              "\n",
              "    .dataframe tbody tr th {\n",
              "        vertical-align: top;\n",
              "    }\n",
              "\n",
              "    .dataframe thead th {\n",
              "        text-align: right;\n",
              "    }\n",
              "</style>\n",
              "<table border=\"1\" class=\"dataframe\">\n",
              "  <thead>\n",
              "    <tr style=\"text-align: right;\">\n",
              "      <th></th>\n",
              "      <th>Unidade federativa</th>\n",
              "      <th>População</th>\n",
              "    </tr>\n",
              "  </thead>\n",
              "  <tbody>\n",
              "    <tr>\n",
              "      <th>0</th>\n",
              "      <td>São Paulo</td>\n",
              "      <td>46 289 333</td>\n",
              "    </tr>\n",
              "    <tr>\n",
              "      <th>1</th>\n",
              "      <td>Minas Gerais</td>\n",
              "      <td>21 292 666</td>\n",
              "    </tr>\n",
              "    <tr>\n",
              "      <th>2</th>\n",
              "      <td>Rio de Janeiro</td>\n",
              "      <td>17 366 189</td>\n",
              "    </tr>\n",
              "    <tr>\n",
              "      <th>3</th>\n",
              "      <td>Bahia</td>\n",
              "      <td>14 930 634</td>\n",
              "    </tr>\n",
              "    <tr>\n",
              "      <th>4</th>\n",
              "      <td>Paraná</td>\n",
              "      <td>11 516 840</td>\n",
              "    </tr>\n",
              "    <tr>\n",
              "      <th>5</th>\n",
              "      <td>Rio Grande do Sul</td>\n",
              "      <td>11 422 973</td>\n",
              "    </tr>\n",
              "    <tr>\n",
              "      <th>6</th>\n",
              "      <td>Pernambuco</td>\n",
              "      <td>9 616 621</td>\n",
              "    </tr>\n",
              "    <tr>\n",
              "      <th>7</th>\n",
              "      <td>Ceará</td>\n",
              "      <td>9 187 103</td>\n",
              "    </tr>\n",
              "    <tr>\n",
              "      <th>8</th>\n",
              "      <td>Pará</td>\n",
              "      <td>8 690 745</td>\n",
              "    </tr>\n",
              "    <tr>\n",
              "      <th>9</th>\n",
              "      <td>Santa Catarina</td>\n",
              "      <td>7 252 502</td>\n",
              "    </tr>\n",
              "    <tr>\n",
              "      <th>10</th>\n",
              "      <td>Maranhão</td>\n",
              "      <td>7 114 598</td>\n",
              "    </tr>\n",
              "    <tr>\n",
              "      <th>11</th>\n",
              "      <td>Goiás</td>\n",
              "      <td>7 113 540</td>\n",
              "    </tr>\n",
              "    <tr>\n",
              "      <th>12</th>\n",
              "      <td>Amazonas</td>\n",
              "      <td>4 207 714</td>\n",
              "    </tr>\n",
              "    <tr>\n",
              "      <th>13</th>\n",
              "      <td>Espírito Santo</td>\n",
              "      <td>4 064 052</td>\n",
              "    </tr>\n",
              "    <tr>\n",
              "      <th>14</th>\n",
              "      <td>Paraíba</td>\n",
              "      <td>4 039 277</td>\n",
              "    </tr>\n",
              "    <tr>\n",
              "      <th>15</th>\n",
              "      <td>Rio Grande do Norte</td>\n",
              "      <td>3 534 165</td>\n",
              "    </tr>\n",
              "    <tr>\n",
              "      <th>16</th>\n",
              "      <td>Mato Grosso</td>\n",
              "      <td>3 526 220</td>\n",
              "    </tr>\n",
              "    <tr>\n",
              "      <th>17</th>\n",
              "      <td>Alagoas</td>\n",
              "      <td>3 351 543</td>\n",
              "    </tr>\n",
              "    <tr>\n",
              "      <th>18</th>\n",
              "      <td>Piauí</td>\n",
              "      <td>3 281 480</td>\n",
              "    </tr>\n",
              "    <tr>\n",
              "      <th>19</th>\n",
              "      <td>Distrito Federal</td>\n",
              "      <td>3 055 149</td>\n",
              "    </tr>\n",
              "    <tr>\n",
              "      <th>20</th>\n",
              "      <td>Mato Grosso do Sul</td>\n",
              "      <td>2 809 394</td>\n",
              "    </tr>\n",
              "    <tr>\n",
              "      <th>21</th>\n",
              "      <td>Sergipe</td>\n",
              "      <td>2 318 822</td>\n",
              "    </tr>\n",
              "    <tr>\n",
              "      <th>22</th>\n",
              "      <td>Rondônia</td>\n",
              "      <td>1 796 460</td>\n",
              "    </tr>\n",
              "    <tr>\n",
              "      <th>23</th>\n",
              "      <td>Tocantins</td>\n",
              "      <td>1 590 248</td>\n",
              "    </tr>\n",
              "    <tr>\n",
              "      <th>24</th>\n",
              "      <td>Acre</td>\n",
              "      <td>894 470</td>\n",
              "    </tr>\n",
              "    <tr>\n",
              "      <th>25</th>\n",
              "      <td>Amapá</td>\n",
              "      <td>861 773</td>\n",
              "    </tr>\n",
              "    <tr>\n",
              "      <th>26</th>\n",
              "      <td>Roraima</td>\n",
              "      <td>631 181</td>\n",
              "    </tr>\n",
              "  </tbody>\n",
              "</table>\n",
              "</div>"
            ],
            "text/plain": [
              "     Unidade federativa   População\n",
              "0             São Paulo  46 289 333\n",
              "1          Minas Gerais  21 292 666\n",
              "2        Rio de Janeiro  17 366 189\n",
              "3                 Bahia  14 930 634\n",
              "4                Paraná  11 516 840\n",
              "5     Rio Grande do Sul  11 422 973\n",
              "6            Pernambuco   9 616 621\n",
              "7                 Ceará   9 187 103\n",
              "8                  Pará   8 690 745\n",
              "9        Santa Catarina   7 252 502\n",
              "10             Maranhão   7 114 598\n",
              "11                Goiás   7 113 540\n",
              "12             Amazonas   4 207 714\n",
              "13       Espírito Santo   4 064 052\n",
              "14              Paraíba   4 039 277\n",
              "15  Rio Grande do Norte   3 534 165\n",
              "16          Mato Grosso   3 526 220\n",
              "17              Alagoas   3 351 543\n",
              "18                Piauí   3 281 480\n",
              "19     Distrito Federal   3 055 149\n",
              "20   Mato Grosso do Sul   2 809 394\n",
              "21              Sergipe   2 318 822\n",
              "22             Rondônia   1 796 460\n",
              "23            Tocantins   1 590 248\n",
              "24                 Acre     894 470\n",
              "25                Amapá     861 773\n",
              "26              Roraima     631 181"
            ]
          },
          "metadata": {
            "tags": []
          },
          "execution_count": 3
        }
      ]
    },
    {
      "cell_type": "markdown",
      "metadata": {
        "id": "qjHidIXccD67"
      },
      "source": [
        "###Desafio 02 - Neste desafio temos uma série de passos:\n",
        "\n",
        "- Padronizar os nomes das colunas\n",
        "- Transformar os dados nos tipos corretos\n",
        "- Transformar a UF em index"
      ]
    },
    {
      "cell_type": "code",
      "metadata": {
        "id": "nrhRO87VcZlr"
      },
      "source": [
        "# - Padronizar os nomes das colunas\n",
        "populacao = tabela_populacao.loc[:,['Unidade federativa','População']]\n",
        "populacao['populacao']= populacao.loc[:,'População']\n",
        "populacao['uf'] = populacao.loc[:,'Unidade federativa'] \n",
        "populacao = populacao[['uf','populacao']]\n",
        "# - Transformar os dados nos tipos corretos\n",
        "populacao['populacao']= populacao['populacao'].str.replace(' ','').astype(int)\n",
        "# - Transformar a UF em index\n",
        "populacao.set_index('uf', inplace=True)"
      ],
      "execution_count": 4,
      "outputs": []
    },
    {
      "cell_type": "markdown",
      "metadata": {
        "id": "gN9sX_kzbUri"
      },
      "source": [
        "###Desafio 03 - Buscar na documentação alguns métodos envolvendo strings\n",
        "\n",
        "\n",
        "\n",
        "\n"
      ]
    },
    {
      "cell_type": "code",
      "metadata": {
        "colab": {
          "base_uri": "https://localhost:8080/"
        },
        "id": "dLZBc_5imLHY",
        "outputId": "2b1291a0-3a06-4018-b353-d1a9f2e6f898"
      },
      "source": [
        "populacao.index.str.split(\" \")"
      ],
      "execution_count": 5,
      "outputs": [
        {
          "output_type": "execute_result",
          "data": {
            "text/plain": [
              "Index([                ['São', 'Paulo'],              ['Minas', 'Gerais'],\n",
              "               ['Rio', 'de', 'Janeiro'],                        ['Bahia'],\n",
              "                             ['Paraná'],   ['Rio', 'Grande', 'do', 'Sul'],\n",
              "                         ['Pernambuco'],                        ['Ceará'],\n",
              "                               ['Pará'],            ['Santa', 'Catarina'],\n",
              "                           ['Maranhão'],                        ['Goiás'],\n",
              "                           ['Amazonas'],            ['Espírito', 'Santo'],\n",
              "                            ['Paraíba'], ['Rio', 'Grande', 'do', 'Norte'],\n",
              "                     ['Mato', 'Grosso'],                      ['Alagoas'],\n",
              "                              ['Piauí'],          ['Distrito', 'Federal'],\n",
              "        ['Mato', 'Grosso', 'do', 'Sul'],                      ['Sergipe'],\n",
              "                           ['Rondônia'],                    ['Tocantins'],\n",
              "                               ['Acre'],                        ['Amapá'],\n",
              "                            ['Roraima']],\n",
              "      dtype='object', name='uf')"
            ]
          },
          "metadata": {
            "tags": []
          },
          "execution_count": 5
        }
      ]
    },
    {
      "cell_type": "code",
      "metadata": {
        "colab": {
          "base_uri": "https://localhost:8080/"
        },
        "id": "AYP0YYBu73Fw",
        "outputId": "ce447a52-37d2-41c5-ad80-e792bbad1fd5"
      },
      "source": [
        "populacao.index.str.lower()"
      ],
      "execution_count": 6,
      "outputs": [
        {
          "output_type": "execute_result",
          "data": {
            "text/plain": [
              "Index(['são paulo', 'minas gerais', 'rio de janeiro', 'bahia', 'paraná',\n",
              "       'rio grande do sul', 'pernambuco', 'ceará', 'pará', 'santa catarina',\n",
              "       'maranhão', 'goiás', 'amazonas', 'espírito santo', 'paraíba',\n",
              "       'rio grande do norte', 'mato grosso', 'alagoas', 'piauí',\n",
              "       'distrito federal', 'mato grosso do sul', 'sergipe', 'rondônia',\n",
              "       'tocantins', 'acre', 'amapá', 'roraima'],\n",
              "      dtype='object', name='uf')"
            ]
          },
          "metadata": {
            "tags": []
          },
          "execution_count": 6
        }
      ]
    },
    {
      "cell_type": "code",
      "metadata": {
        "colab": {
          "base_uri": "https://localhost:8080/"
        },
        "id": "UznyHgM278zC",
        "outputId": "8e4862c9-a276-4944-fe26-c7e1be1e0a37"
      },
      "source": [
        "populacao.index.str.startswith('Mato')"
      ],
      "execution_count": 7,
      "outputs": [
        {
          "output_type": "execute_result",
          "data": {
            "text/plain": [
              "array([False, False, False, False, False, False, False, False, False,\n",
              "       False, False, False, False, False, False, False,  True, False,\n",
              "       False, False,  True, False, False, False, False, False, False])"
            ]
          },
          "metadata": {
            "tags": []
          },
          "execution_count": 7
        }
      ]
    },
    {
      "cell_type": "code",
      "metadata": {
        "colab": {
          "base_uri": "https://localhost:8080/"
        },
        "id": "dPejqkj-8MJp",
        "outputId": "5207ca01-9eb9-4e2f-e76f-2f026a91371d"
      },
      "source": [
        "populacao.index.str.rfind('Sul')"
      ],
      "execution_count": 8,
      "outputs": [
        {
          "output_type": "execute_result",
          "data": {
            "text/plain": [
              "Int64Index([-1, -1, -1, -1, -1, 14, -1, -1, -1, -1, -1, -1, -1, -1, -1, -1, -1,\n",
              "            -1, -1, -1, 15, -1, -1, -1, -1, -1, -1],\n",
              "           dtype='int64', name='uf')"
            ]
          },
          "metadata": {
            "tags": []
          },
          "execution_count": 8
        }
      ]
    },
    {
      "cell_type": "code",
      "metadata": {
        "colab": {
          "base_uri": "https://localhost:8080/"
        },
        "id": "zkMylFMhFmX-",
        "outputId": "3b1de2bb-96d4-44a5-8736-16489d5b6aaa"
      },
      "source": [
        "populacao.index.str[3:]"
      ],
      "execution_count": 9,
      "outputs": [
        {
          "output_type": "execute_result",
          "data": {
            "text/plain": [
              "Index([' Paulo', 'as Gerais', ' de Janeiro', 'ia', 'aná', ' Grande do Sul',\n",
              "       'nambuco', 'rá', 'á', 'ta Catarina', 'anhão', 'ás', 'zonas',\n",
              "       'írito Santo', 'aíba', ' Grande do Norte', 'o Grosso', 'goas', 'uí',\n",
              "       'trito Federal', 'o Grosso do Sul', 'gipe', 'dônia', 'antins', 'e',\n",
              "       'pá', 'aima'],\n",
              "      dtype='object', name='uf')"
            ]
          },
          "metadata": {
            "tags": []
          },
          "execution_count": 9
        }
      ]
    },
    {
      "cell_type": "code",
      "metadata": {
        "colab": {
          "base_uri": "https://localhost:8080/"
        },
        "id": "Bf3QVWauFmcS",
        "outputId": "e3902a9b-1a04-4d40-e281-f66855aac491"
      },
      "source": [
        "populacao.index"
      ],
      "execution_count": 10,
      "outputs": [
        {
          "output_type": "execute_result",
          "data": {
            "text/plain": [
              "Index(['São Paulo', 'Minas Gerais', 'Rio de Janeiro', 'Bahia', 'Paraná',\n",
              "       'Rio Grande do Sul', 'Pernambuco', 'Ceará', 'Pará', 'Santa Catarina',\n",
              "       'Maranhão', 'Goiás', 'Amazonas', 'Espírito Santo', 'Paraíba',\n",
              "       'Rio Grande do Norte', 'Mato Grosso', 'Alagoas', 'Piauí',\n",
              "       'Distrito Federal', 'Mato Grosso do Sul', 'Sergipe', 'Rondônia',\n",
              "       'Tocantins', 'Acre', 'Amapá', 'Roraima'],\n",
              "      dtype='object', name='uf')"
            ]
          },
          "metadata": {
            "tags": []
          },
          "execution_count": 10
        }
      ]
    },
    {
      "cell_type": "markdown",
      "metadata": {
        "id": "l7QHnRvxbU1K"
      },
      "source": [
        "###Desafio 04 - Desenvolver uma função para a limpeza e tratamento dos dados, retornando duas tabelas \"população\" e \"unida\".\n"
      ]
    },
    {
      "cell_type": "code",
      "metadata": {
        "id": "ZP6NbcVK8l3h"
      },
      "source": [
        "def adiciona_populacao(gastos_fonte, populacao_fonte):\n",
        "  populacao = populacao_fonte.loc[:,['Unidade federativa','População']]\n",
        "  populacao['populacao']= populacao.loc[:,'População']\n",
        "  populacao['uf'] = populacao.loc[:,'Unidade federativa'] \n",
        "  populacao = populacao[['uf','populacao']]\n",
        "  populacao['populacao']= populacao['populacao'].str.replace(' ','').astype(int)\n",
        "  populacao.set_index('uf',inplace=True)\n",
        "  populacao.index.str.strip()\n",
        "\n",
        "  gastos = gastos_fonte.copy()\n",
        "  gastos.index = gastos_fonte.index.str[3:]\n",
        "\n",
        "  unida = populacao.join(gastos)\n",
        "  unida['gastos'] = unida[unida.columns[1]]\n",
        "  unida = unida.drop(unida.columns[1],axis=1)\n",
        "  return populacao,unida\n",
        "\n",
        "populacao, gastos_e_populacao_recente = adiciona_populacao(gastos_do_mais_recente,tabela_populacao)\n"
      ],
      "execution_count": 11,
      "outputs": []
    },
    {
      "cell_type": "markdown",
      "metadata": {
        "id": "HoiNPsYRGLAk"
      },
      "source": [
        "##Aula 2"
      ]
    },
    {
      "cell_type": "markdown",
      "metadata": {
        "id": "Mdu-W1dlHC-W"
      },
      "source": [
        "###Desafio 01: Ordenar o gráfico e criar uma visualização de gastos por habitantes ordenada por habitante.\n",
        "\n"
      ]
    },
    {
      "cell_type": "code",
      "metadata": {
        "colab": {
          "base_uri": "https://localhost:8080/",
          "height": 399
        },
        "id": "HJpMYj9BHebb",
        "outputId": "226731be-af1a-4d3b-c237-adb6110f086a"
      },
      "source": [
        "gastos_e_populacao_recente[\"gasto_por_habitante\"] = gastos_e_populacao_recente[\"gastos\"] / gastos_e_populacao_recente[\"populacao\"]\n",
        "gastos_ordenado_por_populacao = gastos_e_populacao_recente.sort_values('gastos',ascending=False)\n",
        "gastos_e_populacao_recente['gasto_por_habitante'].plot(kind='bar')"
      ],
      "execution_count": 12,
      "outputs": [
        {
          "output_type": "execute_result",
          "data": {
            "text/plain": [
              "<matplotlib.axes._subplots.AxesSubplot at 0x7f82398196a0>"
            ]
          },
          "metadata": {
            "tags": []
          },
          "execution_count": 12
        },
        {
          "output_type": "display_data",
          "data": {
            "image/png": "[encoded data removed]",
            "text/plain": [
              "<Figure size 432x288 with 1 Axes>"
            ]
          },
          "metadata": {
            "tags": [],
            "needs_background": "light"
          }
        }
      ]
    },
    {
      "cell_type": "markdown",
      "metadata": {
        "id": "OOFXnU_oHDG2"
      },
      "source": [
        "###Desafio 02 (Super Desafio Gui): Fazer os mesmos gráficos do final da aulas 2.1 para meses anteriores, analisar e compartilhar suas hipóteses.\n",
        "\n"
      ]
    },
    {
      "cell_type": "code",
      "metadata": {
        "id": "b0LyDZNIiqR1",
        "outputId": "ebdcd81a-d454-4dad-92b1-80da36c0776b",
        "colab": {
          "base_uri": "https://localhost:8080/",
          "height": 388
        }
      },
      "source": [
        "mes_anterior_recente = ordenado_por_total.columns[-2]\n",
        "gastos_mes_anterior = ordenado_por_total[mes_anterior_recente]*1000000\n",
        "\n",
        "populacao, unida_anterior= adiciona_populacao(gastos_mes_anterior, tabela_populacao)\n",
        "unida_anterior['gasto_por_habitante'] = unida_anterior['gastos']/unida_anterior['populacao']\n",
        "\n",
        "unida_anterior['gasto_por_habitante'].plot(kind='bar')"
      ],
      "execution_count": 13,
      "outputs": [
        {
          "output_type": "execute_result",
          "data": {
            "text/plain": [
              "<matplotlib.axes._subplots.AxesSubplot at 0x7f82396f1748>"
            ]
          },
          "metadata": {
            "tags": []
          },
          "execution_count": 13
        },
        {
          "output_type": "display_data",
          "data": {
            "image/png": "[encoded data removed]",
            "text/plain": [
              "<Figure size 432x288 with 1 Axes>"
            ]
          },
          "metadata": {
            "tags": [],
            "needs_background": "light"
          }
        }
      ]
    },
    {
      "cell_type": "code",
      "metadata": {
        "colab": {
          "base_uri": "https://localhost:8080/",
          "height": 459
        },
        "id": "-csz-Qe6Q7oP",
        "outputId": "c83b5d74-e70b-49f2-a9ea-db0f4acbf440"
      },
      "source": [
        "import seaborn as sns\n",
        "\n",
        "plt.figure(figsize=(7,7))\n",
        "sns.scatterplot(data=unida_anterior/1000000 , x ='gastos', y='populacao')"
      ],
      "execution_count": 14,
      "outputs": [
        {
          "output_type": "execute_result",
          "data": {
            "text/plain": [
              "<matplotlib.axes._subplots.AxesSubplot at 0x7f822f1e92b0>"
            ]
          },
          "metadata": {
            "tags": []
          },
          "execution_count": 14
        },
        {
          "output_type": "display_data",
          "data": {
            "image/png": "[encoded data removed]",
            "text/plain": [
              "<Figure size 504x504 with 1 Axes>"
            ]
          },
          "metadata": {
            "tags": [],
            "needs_background": "light"
          }
        }
      ]
    },
    {
      "cell_type": "code",
      "metadata": {
        "id": "KqLPEWzrkQv2",
        "outputId": "bffc5e2a-c903-4193-9f81-f94e9195ab93",
        "colab": {
          "base_uri": "https://localhost:8080/",
          "height": 296
        }
      },
      "source": [
        "sns.scatterplot(data=unida_anterior, x=\"populacao\", y=\"gasto_por_habitante\")"
      ],
      "execution_count": 15,
      "outputs": [
        {
          "output_type": "execute_result",
          "data": {
            "text/plain": [
              "<matplotlib.axes._subplots.AxesSubplot at 0x7f822f16e780>"
            ]
          },
          "metadata": {
            "tags": []
          },
          "execution_count": 15
        },
        {
          "output_type": "display_data",
          "data": {
            "image/png": "[encoded data removed]",
            "text/plain": [
              "<Figure size 432x288 with 1 Axes>"
            ]
          },
          "metadata": {
            "tags": [],
            "needs_background": "light"
          }
        }
      ]
    },
    {
      "cell_type": "markdown",
      "metadata": {
        "id": "-kDWcm5XHDcl"
      },
      "source": [
        "\n",
        "###Desafio 03 (Super Desafio Thiago): Plotar no mesmos gráficos do final da aula o mês anterior e o mês correte, analisar e compartilhar suas hipóteses.\n",
        "\n"
      ]
    },
    {
      "cell_type": "code",
      "metadata": {
        "id": "6UBNXXRPrvRy"
      },
      "source": [
        "def insere_gastos_e_gasto_por_habitante_para(todos_os_gastos: pd.DataFrame, dados: pd.DataFrame, mes: str):\n",
        "  gastos_do_mes = todos_os_gastos[mes]\n",
        "  dados[f\"gastos_{mes}\"] = gastos_do_mes * 1000000\n",
        "  dados[f\"gasto_por_habitante_{mes}\"] = dados[f\"gastos_{mes}\"] / dados[\"populacao\"]\n",
        "  return  gastos_do_mes"
      ],
      "execution_count": 16,
      "outputs": []
    },
    {
      "cell_type": "code",
      "metadata": {
        "id": "Afuee6TVtBmC",
        "outputId": "3b3e4def-e3a8-4df0-bafe-17686730fcaa",
        "colab": {
          "base_uri": "https://localhost:8080/"
        }
      },
      "source": [
        "insere_gastos_e_gasto_por_habitante_para(ordenado_por_total,gastos_e_populacao_recente,'2020/Jun')\n"
      ],
      "execution_count": 17,
      "outputs": [
        {
          "output_type": "execute_result",
          "data": {
            "text/plain": [
              "Unidade da Federação\n",
              "35 São Paulo              299.060852\n",
              "31 Minas Gerais           135.977572\n",
              "41 Paraná                  92.901461\n",
              "43 Rio Grande do Sul       89.019479\n",
              "33 Rio de Janeiro          77.604925\n",
              "29 Bahia                   65.159301\n",
              "26 Pernambuco              68.145111\n",
              "42 Santa Catarina          56.503748\n",
              "23 Ceará                   42.146556\n",
              "52 Goiás                   34.437633\n",
              "15 Pará                    35.396031\n",
              "21 Maranhão                31.128145\n",
              "32 Espírito Santo          27.450865\n",
              "24 Rio Grande do Norte     20.219962\n",
              "25 Paraíba                 19.666097\n",
              "53 Distrito Federal        23.479773\n",
              "50 Mato Grosso do Sul      15.838659\n",
              "22 Piauí                   15.375524\n",
              "27 Alagoas                 14.278872\n",
              "51 Mato Grosso             14.585009\n",
              "13 Amazonas                17.509335\n",
              "28 Sergipe                  6.705923\n",
              "17 Tocantins                5.018138\n",
              "11 Rondônia                 9.193594\n",
              "12 Acre                     2.199921\n",
              "14 Roraima                  3.216467\n",
              "16 Amapá                    2.699492\n",
              "Name: 2020/Jun, dtype: float64"
            ]
          },
          "metadata": {
            "tags": []
          },
          "execution_count": 17
        }
      ]
    },
    {
      "cell_type": "code",
      "metadata": {
        "colab": {
          "base_uri": "https://localhost:8080/",
          "height": 531
        },
        "id": "pnaRpMjRY7EZ",
        "outputId": "3c6feb33-a841-4a4f-93bd-874d26767aff"
      },
      "source": [
        "import seaborn as sns\n",
        "\n",
        "mes_anterior_recente = ordenado_por_total.columns[-2]\n",
        "gastos_mes_anterior = ordenado_por_total[mes_anterior_recente]\n",
        "\n",
        "populacao, unida_anterior= adiciona_populacao(gastos_mes_anterior, tabela_populacao)\n",
        "unida_anterior['gastos por populacao'] = unida_anterior['gastos']*1000000/unida_anterior['populacao']\n",
        "\n",
        "plt.figure(figsize=(8,8))\n",
        "plt.legend()\n",
        "\n",
        "l1 = sns.scatterplot(data=unida_anterior, x=\"populacao\", y=\"gastos\")\n",
        "sns.scatterplot(data=gastos_e_populacao_recente, x=\"populacao\", y=\"gastos\")\n",
        "\n",
        "l1.legend(['Mes anterior','Mes mais recente'])\n"
      ],
      "execution_count": 18,
      "outputs": [
        {
          "output_type": "stream",
          "text": [
            "No handles with labels found to put in legend.\n"
          ],
          "name": "stderr"
        },
        {
          "output_type": "execute_result",
          "data": {
            "text/plain": [
              "<matplotlib.legend.Legend at 0x7f822f099e80>"
            ]
          },
          "metadata": {
            "tags": []
          },
          "execution_count": 18
        },
        {
          "output_type": "display_data",
          "data": {
            "image/png": "[encoded data removed]",
            "text/plain": [
              "<Figure size 576x576 with 1 Axes>"
            ]
          },
          "metadata": {
            "tags": [],
            "needs_background": "light"
          }
        }
      ]
    },
    {
      "cell_type": "markdown",
      "metadata": {
        "id": "kQ3R56-bHZnJ"
      },
      "source": [
        "###Desafio 04 (Próximo Vídeo): Analise os gráficos e tente chegar a hipóteses que explicam o que você está entendendo dos dados. Lembre-se que a conclusão é uma hipótese. E que esses dados serão alterados.\n",
        " \n"
      ]
    }
  ]
}