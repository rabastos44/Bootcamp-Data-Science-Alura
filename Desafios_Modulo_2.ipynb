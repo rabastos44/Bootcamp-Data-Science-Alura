{
  "nbformat": 4,
  "nbformat_minor": 0,
  "metadata": {
    "colab": {
      "name": "Desafios Modulo 2",
      "provenance": [],
      "collapsed_sections": [],
      "authorship_tag": "ABX9TyN2L6p+koMKp5gP2eDE3loO",
      "include_colab_link": true
    },
    "kernelspec": {
      "name": "python3",
      "display_name": "Python 3"
    }
  },
  "cells": [
    {
      "cell_type": "markdown",
      "metadata": {
        "id": "view-in-github",
        "colab_type": "text"
      },
      "source": [
        "<a href=\"https://colab.research.google.com/github/rabastos44/Bootcamp-Data-Science-Alura/blob/master/Desafios_Modulo_2.ipynb\" target=\"_parent\"><img src=\"https://colab.research.google.com/assets/colab-badge.svg\" alt=\"Open In Colab\"/></a>"
      ]
    },
    {
      "cell_type": "code",
      "metadata": {
        "id": "uEd89cVWYtOa"
      },
      "source": [
        "import pandas as pd\n",
        "import numpy as np\n",
        "import matplotlib.pyplot as plt\n",
        "import matplotlib.ticker as ticker\n"
      ],
      "execution_count": null,
      "outputs": []
    },
    {
      "cell_type": "markdown",
      "metadata": {
        "id": "VXgmPTlFaysy"
      },
      "source": [
        "# Dados Modulo 1"
      ]
    },
    {
      "cell_type": "code",
      "metadata": {
        "colab": {
          "base_uri": "https://localhost:8080/"
        },
        "id": "McROrIBOYqDP",
        "outputId": "032fca7e-2154-4fc7-cb05-06f05339d5e8"
      },
      "source": [
        "dados = pd.read_csv(\"https://raw.githubusercontent.com/alura-cursos/agendamento-hospitalar/main/dados/A160324189_28_143_208.csv\",\n",
        "                    encoding=\"ISO-8859-1\", \n",
        "                    skiprows = 3, sep=\";\", skipfooter=12,\n",
        "                    thousands=\".\", decimal=\",\")\n",
        "\n",
        "colunas_usaveis = dados.mean().index.tolist()\n",
        "colunas_usaveis.insert(0, \"Unidade da Federação\")\n",
        "usaveis = dados[colunas_usaveis]\n",
        "usaveis = usaveis.set_index(\"Unidade da Federação\")\n",
        "usaveis = usaveis.drop(\"Total\", axis=1)\n",
        "usaveis[\"Total\"] = usaveis.sum(axis=1) # [0,1,2] [\"SP\"]\n",
        "ordenado_por_total = usaveis.sort_values(\"Total\", ascending=False)\n",
        "ordenado_por_total = ordenado_por_total.drop(\"Total\", axis=1)\n",
        "colunas_interessadas = ordenado_por_total.columns[6:]\n",
        "ordenado_por_total = ordenado_por_total[colunas_interessadas]\n",
        "ordenado_por_total = ordenado_por_total / 1000000\n",
        "ordenado_por_total.index = ordenado_por_total.index.str[3:]\n",
        "meses_filtrados = ordenado_por_total.columns[47:150]\n",
        "mes_mais_recente = ordenado_por_total.columns[-1]\n",
        "gastos_do_mais_recente = ordenado_por_total[mes_mais_recente]\n",
        "gastos_do_mais_recente = gastos_do_mais_recente.sort_values(ascending=False)\n",
        "gastos_proporcionais = gastos_do_mais_recente / gastos_do_mais_recente.sum()\n"
      ],
      "execution_count": null,
      "outputs": [
        {
          "output_type": "stream",
          "text": [
            "/usr/local/lib/python3.6/dist-packages/ipykernel_launcher.py:4: ParserWarning: Falling back to the 'python' engine because the 'c' engine does not support skipfooter; you can avoid this warning by specifying engine='python'.\n",
            "  after removing the cwd from sys.path.\n"
          ],
          "name": "stderr"
        }
      ]
    },
    {
      "cell_type": "markdown",
      "metadata": {
        "id": "vtozfoRya3OE"
      },
      "source": [
        "#Modulo 2 - Desafios"
      ]
    },
    {
      "cell_type": "markdown",
      "metadata": {
        "id": "SroFIP11cLid"
      },
      "source": [
        "##Aula 1"
      ]
    },
    {
      "cell_type": "markdown",
      "metadata": {
        "id": "A2cAAGvwa8qP"
      },
      "source": [
        "###Desafio 01 - Entre nos dados do wikipedia e Leia a Base de dados direto do wikipedia.\n",
        "\n"
      ]
    },
    {
      "cell_type": "code",
      "metadata": {
        "colab": {
          "base_uri": "https://localhost:8080/",
          "height": 204
        },
        "id": "tZuU0wRGbmZl",
        "outputId": "6cad231d-c903-4723-db36-55634a5c5977"
      },
      "source": [
        "wiki = pd.read_html(\"https://pt.wikipedia.org/wiki/Lista_de_unidades_federativas_do_Brasil_por_popula%C3%A7%C3%A3o\")\n",
        "tabela_populacao = wiki[0]\n",
        "tabela_populacao[['Unidade federativa','População']].head()\n"
      ],
      "execution_count": null,
      "outputs": [
        {
          "output_type": "execute_result",
          "data": {
            "text/html": [
              "<div>\n",
              "<style scoped>\n",
              "    .dataframe tbody tr th:only-of-type {\n",
              "        vertical-align: middle;\n",
              "    }\n",
              "\n",
              "    .dataframe tbody tr th {\n",
              "        vertical-align: top;\n",
              "    }\n",
              "\n",
              "    .dataframe thead th {\n",
              "        text-align: right;\n",
              "    }\n",
              "</style>\n",
              "<table border=\"1\" class=\"dataframe\">\n",
              "  <thead>\n",
              "    <tr style=\"text-align: right;\">\n",
              "      <th></th>\n",
              "      <th>Unidade federativa</th>\n",
              "      <th>População</th>\n",
              "    </tr>\n",
              "  </thead>\n",
              "  <tbody>\n",
              "    <tr>\n",
              "      <th>0</th>\n",
              "      <td>São Paulo</td>\n",
              "      <td>46 289 333</td>\n",
              "    </tr>\n",
              "    <tr>\n",
              "      <th>1</th>\n",
              "      <td>Minas Gerais</td>\n",
              "      <td>21 292 666</td>\n",
              "    </tr>\n",
              "    <tr>\n",
              "      <th>2</th>\n",
              "      <td>Rio de Janeiro</td>\n",
              "      <td>17 366 189</td>\n",
              "    </tr>\n",
              "    <tr>\n",
              "      <th>3</th>\n",
              "      <td>Bahia</td>\n",
              "      <td>14 930 634</td>\n",
              "    </tr>\n",
              "    <tr>\n",
              "      <th>4</th>\n",
              "      <td>Paraná</td>\n",
              "      <td>11 516 840</td>\n",
              "    </tr>\n",
              "  </tbody>\n",
              "</table>\n",
              "</div>"
            ],
            "text/plain": [
              "  Unidade federativa   População\n",
              "0          São Paulo  46 289 333\n",
              "1       Minas Gerais  21 292 666\n",
              "2     Rio de Janeiro  17 366 189\n",
              "3              Bahia  14 930 634\n",
              "4             Paraná  11 516 840"
            ]
          },
          "metadata": {
            "tags": []
          },
          "execution_count": 3
        }
      ]
    },
    {
      "cell_type": "markdown",
      "metadata": {
        "id": "qjHidIXccD67"
      },
      "source": [
        "###Desafio 02 - Neste desafio temos uma série de passos:\n",
        "\n",
        "- Padronizar os nomes das colunas\n",
        "- Transformar os dados nos tipos corretos\n",
        "- Transformar a UF em index"
      ]
    },
    {
      "cell_type": "code",
      "metadata": {
        "id": "nrhRO87VcZlr",
        "colab": {
          "base_uri": "https://localhost:8080/",
          "height": 235
        },
        "outputId": "f5464d8b-e346-410d-c72f-f50e72fea647"
      },
      "source": [
        "# - Padronizar os nomes das colunas\n",
        "populacao = tabela_populacao.loc[:,['Unidade federativa','População']]\n",
        "populacao['populacao']= populacao.loc[:,'População']\n",
        "populacao['uf'] = populacao.loc[:,'Unidade federativa'] \n",
        "populacao = populacao[['uf','populacao']]\n",
        "# - Transformar os dados nos tipos corretos\n",
        "populacao['populacao']= populacao['populacao'].str.replace(' ','').astype(int)\n",
        "# - Transformar a UF em index\n",
        "populacao.set_index('uf', inplace=True)\n",
        "populacao.head()"
      ],
      "execution_count": null,
      "outputs": [
        {
          "output_type": "execute_result",
          "data": {
            "text/html": [
              "<div>\n",
              "<style scoped>\n",
              "    .dataframe tbody tr th:only-of-type {\n",
              "        vertical-align: middle;\n",
              "    }\n",
              "\n",
              "    .dataframe tbody tr th {\n",
              "        vertical-align: top;\n",
              "    }\n",
              "\n",
              "    .dataframe thead th {\n",
              "        text-align: right;\n",
              "    }\n",
              "</style>\n",
              "<table border=\"1\" class=\"dataframe\">\n",
              "  <thead>\n",
              "    <tr style=\"text-align: right;\">\n",
              "      <th></th>\n",
              "      <th>populacao</th>\n",
              "    </tr>\n",
              "    <tr>\n",
              "      <th>uf</th>\n",
              "      <th></th>\n",
              "    </tr>\n",
              "  </thead>\n",
              "  <tbody>\n",
              "    <tr>\n",
              "      <th>São Paulo</th>\n",
              "      <td>46289333</td>\n",
              "    </tr>\n",
              "    <tr>\n",
              "      <th>Minas Gerais</th>\n",
              "      <td>21292666</td>\n",
              "    </tr>\n",
              "    <tr>\n",
              "      <th>Rio de Janeiro</th>\n",
              "      <td>17366189</td>\n",
              "    </tr>\n",
              "    <tr>\n",
              "      <th>Bahia</th>\n",
              "      <td>14930634</td>\n",
              "    </tr>\n",
              "    <tr>\n",
              "      <th>Paraná</th>\n",
              "      <td>11516840</td>\n",
              "    </tr>\n",
              "  </tbody>\n",
              "</table>\n",
              "</div>"
            ],
            "text/plain": [
              "                populacao\n",
              "uf                       \n",
              "São Paulo        46289333\n",
              "Minas Gerais     21292666\n",
              "Rio de Janeiro   17366189\n",
              "Bahia            14930634\n",
              "Paraná           11516840"
            ]
          },
          "metadata": {
            "tags": []
          },
          "execution_count": 4
        }
      ]
    },
    {
      "cell_type": "markdown",
      "metadata": {
        "id": "gN9sX_kzbUri"
      },
      "source": [
        "###Desafio 03 - Buscar na documentação alguns métodos envolvendo strings\n",
        "\n",
        "\n",
        "\n",
        "\n"
      ]
    },
    {
      "cell_type": "code",
      "metadata": {
        "colab": {
          "base_uri": "https://localhost:8080/"
        },
        "id": "dLZBc_5imLHY",
        "outputId": "13036c1c-d8c4-4bf4-b243-7367c6b134f0"
      },
      "source": [
        "populacao.index.str.split(\" \")"
      ],
      "execution_count": null,
      "outputs": [
        {
          "output_type": "execute_result",
          "data": {
            "text/plain": [
              "Index([                ['São', 'Paulo'],              ['Minas', 'Gerais'],\n",
              "               ['Rio', 'de', 'Janeiro'],                        ['Bahia'],\n",
              "                             ['Paraná'],   ['Rio', 'Grande', 'do', 'Sul'],\n",
              "                         ['Pernambuco'],                        ['Ceará'],\n",
              "                               ['Pará'],            ['Santa', 'Catarina'],\n",
              "                           ['Maranhão'],                        ['Goiás'],\n",
              "                           ['Amazonas'],            ['Espírito', 'Santo'],\n",
              "                            ['Paraíba'], ['Rio', 'Grande', 'do', 'Norte'],\n",
              "                     ['Mato', 'Grosso'],                      ['Alagoas'],\n",
              "                              ['Piauí'],          ['Distrito', 'Federal'],\n",
              "        ['Mato', 'Grosso', 'do', 'Sul'],                      ['Sergipe'],\n",
              "                           ['Rondônia'],                    ['Tocantins'],\n",
              "                               ['Acre'],                        ['Amapá'],\n",
              "                            ['Roraima']],\n",
              "      dtype='object', name='uf')"
            ]
          },
          "metadata": {
            "tags": []
          },
          "execution_count": 5
        }
      ]
    },
    {
      "cell_type": "code",
      "metadata": {
        "colab": {
          "base_uri": "https://localhost:8080/"
        },
        "id": "AYP0YYBu73Fw",
        "outputId": "dc083432-1add-4375-8538-3c475ee5f6ce"
      },
      "source": [
        "populacao.index.str.lower()"
      ],
      "execution_count": null,
      "outputs": [
        {
          "output_type": "execute_result",
          "data": {
            "text/plain": [
              "Index(['são paulo', 'minas gerais', 'rio de janeiro', 'bahia', 'paraná',\n",
              "       'rio grande do sul', 'pernambuco', 'ceará', 'pará', 'santa catarina',\n",
              "       'maranhão', 'goiás', 'amazonas', 'espírito santo', 'paraíba',\n",
              "       'rio grande do norte', 'mato grosso', 'alagoas', 'piauí',\n",
              "       'distrito federal', 'mato grosso do sul', 'sergipe', 'rondônia',\n",
              "       'tocantins', 'acre', 'amapá', 'roraima'],\n",
              "      dtype='object', name='uf')"
            ]
          },
          "metadata": {
            "tags": []
          },
          "execution_count": 6
        }
      ]
    },
    {
      "cell_type": "code",
      "metadata": {
        "colab": {
          "base_uri": "https://localhost:8080/"
        },
        "id": "UznyHgM278zC",
        "outputId": "c671a3d3-3ddc-47f6-d906-5e512f68ac1a"
      },
      "source": [
        "populacao.index.str.startswith('Mato')"
      ],
      "execution_count": null,
      "outputs": [
        {
          "output_type": "execute_result",
          "data": {
            "text/plain": [
              "array([False, False, False, False, False, False, False, False, False,\n",
              "       False, False, False, False, False, False, False,  True, False,\n",
              "       False, False,  True, False, False, False, False, False, False])"
            ]
          },
          "metadata": {
            "tags": []
          },
          "execution_count": 7
        }
      ]
    },
    {
      "cell_type": "code",
      "metadata": {
        "colab": {
          "base_uri": "https://localhost:8080/"
        },
        "id": "dPejqkj-8MJp",
        "outputId": "cc7bbf22-7c09-43b0-d7dc-0684a89d35e3"
      },
      "source": [
        "populacao.index.str.rfind('Sul')"
      ],
      "execution_count": null,
      "outputs": [
        {
          "output_type": "execute_result",
          "data": {
            "text/plain": [
              "Int64Index([-1, -1, -1, -1, -1, 14, -1, -1, -1, -1, -1, -1, -1, -1, -1, -1, -1,\n",
              "            -1, -1, -1, 15, -1, -1, -1, -1, -1, -1],\n",
              "           dtype='int64', name='uf')"
            ]
          },
          "metadata": {
            "tags": []
          },
          "execution_count": 8
        }
      ]
    },
    {
      "cell_type": "code",
      "metadata": {
        "colab": {
          "base_uri": "https://localhost:8080/"
        },
        "id": "zkMylFMhFmX-",
        "outputId": "57d34dd1-698d-459d-fdcc-8be6acd8cd04"
      },
      "source": [
        "populacao.index.str[3:]"
      ],
      "execution_count": null,
      "outputs": [
        {
          "output_type": "execute_result",
          "data": {
            "text/plain": [
              "Index([' Paulo', 'as Gerais', ' de Janeiro', 'ia', 'aná', ' Grande do Sul',\n",
              "       'nambuco', 'rá', 'á', 'ta Catarina', 'anhão', 'ás', 'zonas',\n",
              "       'írito Santo', 'aíba', ' Grande do Norte', 'o Grosso', 'goas', 'uí',\n",
              "       'trito Federal', 'o Grosso do Sul', 'gipe', 'dônia', 'antins', 'e',\n",
              "       'pá', 'aima'],\n",
              "      dtype='object', name='uf')"
            ]
          },
          "metadata": {
            "tags": []
          },
          "execution_count": 9
        }
      ]
    },
    {
      "cell_type": "code",
      "metadata": {
        "colab": {
          "base_uri": "https://localhost:8080/"
        },
        "id": "Bf3QVWauFmcS",
        "outputId": "c2c07c85-b0ee-4c83-825c-ae0be0957001"
      },
      "source": [
        "populacao.index"
      ],
      "execution_count": null,
      "outputs": [
        {
          "output_type": "execute_result",
          "data": {
            "text/plain": [
              "Index(['São Paulo', 'Minas Gerais', 'Rio de Janeiro', 'Bahia', 'Paraná',\n",
              "       'Rio Grande do Sul', 'Pernambuco', 'Ceará', 'Pará', 'Santa Catarina',\n",
              "       'Maranhão', 'Goiás', 'Amazonas', 'Espírito Santo', 'Paraíba',\n",
              "       'Rio Grande do Norte', 'Mato Grosso', 'Alagoas', 'Piauí',\n",
              "       'Distrito Federal', 'Mato Grosso do Sul', 'Sergipe', 'Rondônia',\n",
              "       'Tocantins', 'Acre', 'Amapá', 'Roraima'],\n",
              "      dtype='object', name='uf')"
            ]
          },
          "metadata": {
            "tags": []
          },
          "execution_count": 10
        }
      ]
    },
    {
      "cell_type": "markdown",
      "metadata": {
        "id": "l7QHnRvxbU1K"
      },
      "source": [
        "###Desafio 04 - Desenvolver uma função para a limpeza e tratamento dos dados, retornando duas tabelas \"população\" e \"unida\".\n"
      ]
    },
    {
      "cell_type": "code",
      "metadata": {
        "id": "ZP6NbcVK8l3h"
      },
      "source": [
        "def adiciona_populacao(gastos_fonte, populacao_fonte):\n",
        "  populacao = populacao_fonte.loc[:,['Unidade federativa','População']]\n",
        "  populacao['populacao']= populacao.loc[:,'População']\n",
        "  populacao['uf'] = populacao.loc[:,'Unidade federativa'] \n",
        "  populacao = populacao[['uf','populacao']]\n",
        "  populacao['populacao']= populacao['populacao'].str.replace(' ','').astype(int)\n",
        "  populacao.set_index('uf',inplace=True)\n",
        "  populacao.index.str.strip()\n",
        "\n",
        "  gastos = gastos_fonte.copy()\n",
        "  gastos.index = gastos_fonte.index\n",
        "\n",
        "  unida = populacao.join(gastos)\n",
        "  unida['gastos'] = unida[unida.columns[1]]\n",
        "  unida = unida.drop(unida.columns[1],axis=1)\n",
        "  return populacao,unida\n",
        "\n",
        "populacao, gastos_e_populacao = adiciona_populacao(gastos_do_mais_recente,tabela_populacao)\n"
      ],
      "execution_count": null,
      "outputs": []
    },
    {
      "cell_type": "markdown",
      "metadata": {
        "id": "HoiNPsYRGLAk"
      },
      "source": [
        "##Aula 2"
      ]
    },
    {
      "cell_type": "markdown",
      "metadata": {
        "id": "Mdu-W1dlHC-W"
      },
      "source": [
        "###Desafio 01: Ordenar o gráfico e criar uma visualização de gastos por habitantes ordenada por habitante.\n",
        "\n"
      ]
    },
    {
      "cell_type": "code",
      "metadata": {
        "colab": {
          "base_uri": "https://localhost:8080/",
          "height": 388
        },
        "id": "HJpMYj9BHebb",
        "outputId": "4c0c7482-d424-4388-ab69-081b10c6fcb5"
      },
      "source": [
        "gastos_e_populacao[\"gasto_por_habitante\"] = gastos_e_populacao[\"gastos\"]*1000000 / gastos_e_populacao[\"populacao\"]\n",
        "gastos_ordenado_por_populacao = gastos_e_populacao.sort_values('gastos',ascending=False)\n",
        "gastos_e_populacao['gasto_por_habitante'].plot(kind='bar')"
      ],
      "execution_count": null,
      "outputs": [
        {
          "output_type": "execute_result",
          "data": {
            "text/plain": [
              "<matplotlib.axes._subplots.AxesSubplot at 0x7fe8da497940>"
            ]
          },
          "metadata": {
            "tags": []
          },
          "execution_count": 12
        },
        {
          "output_type": "display_data",
          "data": {
            "image/png": "[encoded data removed]",
            "text/plain": [
              "<Figure size 432x288 with 1 Axes>"
            ]
          },
          "metadata": {
            "tags": [],
            "needs_background": "light"
          }
        }
      ]
    },
    {
      "cell_type": "markdown",
      "metadata": {
        "id": "OOFXnU_oHDG2"
      },
      "source": [
        "###Desafio 02 (Super Desafio Gui): Fazer os mesmos gráficos do final da aulas 2.1 para meses anteriores, analisar e compartilhar suas hipóteses.\n",
        "\n"
      ]
    },
    {
      "cell_type": "code",
      "metadata": {
        "colab": {
          "base_uri": "https://localhost:8080/",
          "height": 388
        },
        "id": "b0LyDZNIiqR1",
        "outputId": "28d78c32-d55d-4ada-b19c-13e7e70335cd"
      },
      "source": [
        "mes_anterior_recente = ordenado_por_total.columns[-2]\n",
        "gastos_mes_anterior = ordenado_por_total[mes_anterior_recente]*1000000\n",
        "\n",
        "populacao, unida_anterior= adiciona_populacao(gastos_mes_anterior, tabela_populacao)\n",
        "unida_anterior['gasto_por_habitante'] = unida_anterior['gastos']/unida_anterior['populacao']\n",
        "\n",
        "unida_anterior['gasto_por_habitante'].plot(kind='bar')"
      ],
      "execution_count": null,
      "outputs": [
        {
          "output_type": "execute_result",
          "data": {
            "text/plain": [
              "<matplotlib.axes._subplots.AxesSubplot at 0x7fe8da36fc50>"
            ]
          },
          "metadata": {
            "tags": []
          },
          "execution_count": 13
        },
        {
          "output_type": "display_data",
          "data": {
            "image/png": "[encoded data removed]",
            "text/plain": [
              "<Figure size 432x288 with 1 Axes>"
            ]
          },
          "metadata": {
            "tags": [],
            "needs_background": "light"
          }
        }
      ]
    },
    {
      "cell_type": "code",
      "metadata": {
        "colab": {
          "base_uri": "https://localhost:8080/",
          "height": 459
        },
        "id": "-csz-Qe6Q7oP",
        "outputId": "77be6c66-2e67-4f3c-f7bb-1212be6094ba"
      },
      "source": [
        "import seaborn as sns\n",
        "\n",
        "plt.figure(figsize=(7,7))\n",
        "sns.scatterplot(data=unida_anterior/1000000 , x ='gastos', y='populacao')"
      ],
      "execution_count": null,
      "outputs": [
        {
          "output_type": "execute_result",
          "data": {
            "text/plain": [
              "<matplotlib.axes._subplots.AxesSubplot at 0x7fe8cfe67400>"
            ]
          },
          "metadata": {
            "tags": []
          },
          "execution_count": 14
        },
        {
          "output_type": "display_data",
          "data": {
            "image/png": "[encoded data removed]",
            "text/plain": [
              "<Figure size 504x504 with 1 Axes>"
            ]
          },
          "metadata": {
            "tags": [],
            "needs_background": "light"
          }
        }
      ]
    },
    {
      "cell_type": "code",
      "metadata": {
        "colab": {
          "base_uri": "https://localhost:8080/",
          "height": 296
        },
        "id": "KqLPEWzrkQv2",
        "outputId": "3ae57d94-cc93-4696-9bc4-eb8fabf279ed"
      },
      "source": [
        "sns.scatterplot(data=unida_anterior, x=\"populacao\", y=\"gasto_por_habitante\")"
      ],
      "execution_count": null,
      "outputs": [
        {
          "output_type": "execute_result",
          "data": {
            "text/plain": [
              "<matplotlib.axes._subplots.AxesSubplot at 0x7fe8da497898>"
            ]
          },
          "metadata": {
            "tags": []
          },
          "execution_count": 15
        },
        {
          "output_type": "display_data",
          "data": {
            "image/png": "[encoded data removed]",
            "text/plain": [
              "<Figure size 432x288 with 1 Axes>"
            ]
          },
          "metadata": {
            "tags": [],
            "needs_background": "light"
          }
        }
      ]
    },
    {
      "cell_type": "markdown",
      "metadata": {
        "id": "-kDWcm5XHDcl"
      },
      "source": [
        "\n",
        "###Desafio 03 (Super Desafio Thiago): Plotar no mesmos gráficos do final da aula o mês anterior e o mês correte, analisar e compartilhar suas hipóteses.\n",
        "\n"
      ]
    },
    {
      "cell_type": "code",
      "metadata": {
        "id": "6UBNXXRPrvRy"
      },
      "source": [
        "def insere_gastos_e_gasto_por_habitante_para(todos_os_gastos: pd.DataFrame, dados: pd.DataFrame, mes: str):\n",
        "  gastos_do_mes = todos_os_gastos[mes]\n",
        "  gastos_do_mes.index = gastos_do_mes.index\n",
        "  dados[f\"gastos_{mes}\"] = gastos_do_mes \n",
        "  dados[f\"gasto_por_habitante_{mes}\"] = dados[f\"gastos_{mes}\"]*1000000/ dados[\"populacao\"]\n"
      ],
      "execution_count": null,
      "outputs": []
    },
    {
      "cell_type": "code",
      "metadata": {
        "colab": {
          "base_uri": "https://localhost:8080/",
          "height": 306
        },
        "id": "K7uvQ8usMOKS",
        "outputId": "8a274cf5-0fd9-406a-a410-48afa2c1d6ed"
      },
      "source": [
        "\r\n",
        "insere_gastos_e_gasto_por_habitante_para(ordenado_por_total,gastos_e_populacao,'2020/Mai')\r\n",
        "insere_gastos_e_gasto_por_habitante_para(ordenado_por_total,gastos_e_populacao,'2020/Jun')\r\n",
        "insere_gastos_e_gasto_por_habitante_para(ordenado_por_total,gastos_e_populacao,'2020/Jul')\r\n",
        "\r\n",
        "gastos_e_populacao.head()"
      ],
      "execution_count": null,
      "outputs": [
        {
          "output_type": "execute_result",
          "data": {
            "text/html": [
              "<div>\n",
              "<style scoped>\n",
              "    .dataframe tbody tr th:only-of-type {\n",
              "        vertical-align: middle;\n",
              "    }\n",
              "\n",
              "    .dataframe tbody tr th {\n",
              "        vertical-align: top;\n",
              "    }\n",
              "\n",
              "    .dataframe thead th {\n",
              "        text-align: right;\n",
              "    }\n",
              "</style>\n",
              "<table border=\"1\" class=\"dataframe\">\n",
              "  <thead>\n",
              "    <tr style=\"text-align: right;\">\n",
              "      <th></th>\n",
              "      <th>populacao</th>\n",
              "      <th>gastos</th>\n",
              "      <th>gasto_por_habitante</th>\n",
              "      <th>gastos_2020/Mai</th>\n",
              "      <th>gasto_por_habitante_2020/Mai</th>\n",
              "      <th>gastos_2020/Jun</th>\n",
              "      <th>gasto_por_habitante_2020/Jun</th>\n",
              "      <th>gastos_2020/Jul</th>\n",
              "      <th>gasto_por_habitante_2020/Jul</th>\n",
              "    </tr>\n",
              "    <tr>\n",
              "      <th>uf</th>\n",
              "      <th></th>\n",
              "      <th></th>\n",
              "      <th></th>\n",
              "      <th></th>\n",
              "      <th></th>\n",
              "      <th></th>\n",
              "      <th></th>\n",
              "      <th></th>\n",
              "      <th></th>\n",
              "    </tr>\n",
              "  </thead>\n",
              "  <tbody>\n",
              "    <tr>\n",
              "      <th>São Paulo</th>\n",
              "      <td>46289333</td>\n",
              "      <td>282.709570</td>\n",
              "      <td>6.107445</td>\n",
              "      <td>302.857661</td>\n",
              "      <td>6.542710</td>\n",
              "      <td>299.060852</td>\n",
              "      <td>6.460686</td>\n",
              "      <td>282.709570</td>\n",
              "      <td>6.107445</td>\n",
              "    </tr>\n",
              "    <tr>\n",
              "      <th>Minas Gerais</th>\n",
              "      <td>21292666</td>\n",
              "      <td>120.467187</td>\n",
              "      <td>5.657685</td>\n",
              "      <td>136.867276</td>\n",
              "      <td>6.427907</td>\n",
              "      <td>135.977572</td>\n",
              "      <td>6.386122</td>\n",
              "      <td>120.467187</td>\n",
              "      <td>5.657685</td>\n",
              "    </tr>\n",
              "    <tr>\n",
              "      <th>Rio de Janeiro</th>\n",
              "      <td>17366189</td>\n",
              "      <td>71.540227</td>\n",
              "      <td>4.119512</td>\n",
              "      <td>86.281033</td>\n",
              "      <td>4.968334</td>\n",
              "      <td>77.604925</td>\n",
              "      <td>4.468737</td>\n",
              "      <td>71.540227</td>\n",
              "      <td>4.119512</td>\n",
              "    </tr>\n",
              "    <tr>\n",
              "      <th>Bahia</th>\n",
              "      <td>14930634</td>\n",
              "      <td>58.898100</td>\n",
              "      <td>3.944782</td>\n",
              "      <td>61.756776</td>\n",
              "      <td>4.136246</td>\n",
              "      <td>65.159301</td>\n",
              "      <td>4.364135</td>\n",
              "      <td>58.898100</td>\n",
              "      <td>3.944782</td>\n",
              "    </tr>\n",
              "    <tr>\n",
              "      <th>Paraná</th>\n",
              "      <td>11516840</td>\n",
              "      <td>80.320853</td>\n",
              "      <td>6.974209</td>\n",
              "      <td>106.103738</td>\n",
              "      <td>9.212921</td>\n",
              "      <td>92.901461</td>\n",
              "      <td>8.066576</td>\n",
              "      <td>80.320853</td>\n",
              "      <td>6.974209</td>\n",
              "    </tr>\n",
              "  </tbody>\n",
              "</table>\n",
              "</div>"
            ],
            "text/plain": [
              "                populacao  ...  gasto_por_habitante_2020/Jul\n",
              "uf                         ...                              \n",
              "São Paulo        46289333  ...                      6.107445\n",
              "Minas Gerais     21292666  ...                      5.657685\n",
              "Rio de Janeiro   17366189  ...                      4.119512\n",
              "Bahia            14930634  ...                      3.944782\n",
              "Paraná           11516840  ...                      6.974209\n",
              "\n",
              "[5 rows x 9 columns]"
            ]
          },
          "metadata": {
            "tags": []
          },
          "execution_count": 17
        }
      ]
    },
    {
      "cell_type": "code",
      "metadata": {
        "colab": {
          "base_uri": "https://localhost:8080/",
          "height": 204
        },
        "id": "M4wQPr57NHjH",
        "outputId": "45ebf52c-fec3-4ed9-ffe1-75b41a596efe"
      },
      "source": [
        "gastos_mensais = gastos_e_populacao[['populacao',\r\n",
        "                    'gastos_2020/Mai',\r\n",
        "                    'gastos_2020/Jun',\r\n",
        "                    'gastos_2020/Jul']]\r\n",
        "\r\n",
        "gastos_mensais = gastos_mensais.reset_index()\r\n",
        "gastos_mensais_melt = gastos_mensais.melt(id_vars=['uf','populacao'],var_name='mes',value_name='valor')\r\n",
        "gastos_mensais_melt.head()"
      ],
      "execution_count": null,
      "outputs": [
        {
          "output_type": "execute_result",
          "data": {
            "text/html": [
              "<div>\n",
              "<style scoped>\n",
              "    .dataframe tbody tr th:only-of-type {\n",
              "        vertical-align: middle;\n",
              "    }\n",
              "\n",
              "    .dataframe tbody tr th {\n",
              "        vertical-align: top;\n",
              "    }\n",
              "\n",
              "    .dataframe thead th {\n",
              "        text-align: right;\n",
              "    }\n",
              "</style>\n",
              "<table border=\"1\" class=\"dataframe\">\n",
              "  <thead>\n",
              "    <tr style=\"text-align: right;\">\n",
              "      <th></th>\n",
              "      <th>uf</th>\n",
              "      <th>populacao</th>\n",
              "      <th>mes</th>\n",
              "      <th>valor</th>\n",
              "    </tr>\n",
              "  </thead>\n",
              "  <tbody>\n",
              "    <tr>\n",
              "      <th>0</th>\n",
              "      <td>São Paulo</td>\n",
              "      <td>46289333</td>\n",
              "      <td>gastos_2020/Mai</td>\n",
              "      <td>302.857661</td>\n",
              "    </tr>\n",
              "    <tr>\n",
              "      <th>1</th>\n",
              "      <td>Minas Gerais</td>\n",
              "      <td>21292666</td>\n",
              "      <td>gastos_2020/Mai</td>\n",
              "      <td>136.867276</td>\n",
              "    </tr>\n",
              "    <tr>\n",
              "      <th>2</th>\n",
              "      <td>Rio de Janeiro</td>\n",
              "      <td>17366189</td>\n",
              "      <td>gastos_2020/Mai</td>\n",
              "      <td>86.281033</td>\n",
              "    </tr>\n",
              "    <tr>\n",
              "      <th>3</th>\n",
              "      <td>Bahia</td>\n",
              "      <td>14930634</td>\n",
              "      <td>gastos_2020/Mai</td>\n",
              "      <td>61.756776</td>\n",
              "    </tr>\n",
              "    <tr>\n",
              "      <th>4</th>\n",
              "      <td>Paraná</td>\n",
              "      <td>11516840</td>\n",
              "      <td>gastos_2020/Mai</td>\n",
              "      <td>106.103738</td>\n",
              "    </tr>\n",
              "  </tbody>\n",
              "</table>\n",
              "</div>"
            ],
            "text/plain": [
              "               uf  populacao              mes       valor\n",
              "0       São Paulo   46289333  gastos_2020/Mai  302.857661\n",
              "1    Minas Gerais   21292666  gastos_2020/Mai  136.867276\n",
              "2  Rio de Janeiro   17366189  gastos_2020/Mai   86.281033\n",
              "3           Bahia   14930634  gastos_2020/Mai   61.756776\n",
              "4          Paraná   11516840  gastos_2020/Mai  106.103738"
            ]
          },
          "metadata": {
            "tags": []
          },
          "execution_count": 18
        }
      ]
    },
    {
      "cell_type": "code",
      "metadata": {
        "colab": {
          "base_uri": "https://localhost:8080/",
          "height": 279
        },
        "id": "pnaRpMjRY7EZ",
        "outputId": "1fc19782-82a6-476a-f9e9-60bff6567eb2"
      },
      "source": [
        "import seaborn as sns\n",
        "\n",
        "axis = sns.scatterplot(data = gastos_mensais_melt, x='populacao', y='valor', hue= 'mes')\n"
      ],
      "execution_count": null,
      "outputs": [
        {
          "output_type": "display_data",
          "data": {
            "image/png": "[encoded data removed]",
            "text/plain": [
              "<Figure size 432x288 with 1 Axes>"
            ]
          },
          "metadata": {
            "tags": [],
            "needs_background": "light"
          }
        }
      ]
    },
    {
      "cell_type": "markdown",
      "metadata": {
        "id": "kQ3R56-bHZnJ"
      },
      "source": [
        "###Desafio 04 (Próximo Vídeo): Analise os gráficos e tente chegar a hipóteses que explicam o que você está entendendo dos dados. Lembre-se que a conclusão é uma hipótese. E que esses dados serão alterados.\n",
        " \n"
      ]
    },
    {
      "cell_type": "markdown",
      "metadata": {
        "id": "nvomhNejmtjM"
      },
      "source": [
        "## Aula 3"
      ]
    },
    {
      "cell_type": "code",
      "metadata": {
        "colab": {
          "base_uri": "https://localhost:8080/",
          "height": 258
        },
        "id": "ow_IlljLnkjh",
        "outputId": "55eaba6c-cf13-4026-9de4-186404893aed"
      },
      "source": [
        "mensal = ordenado_por_total.T\r\n",
        "mensal = mensal * 1000000\r\n",
        "mensal.head()"
      ],
      "execution_count": null,
      "outputs": [
        {
          "output_type": "execute_result",
          "data": {
            "text/html": [
              "<div>\n",
              "<style scoped>\n",
              "    .dataframe tbody tr th:only-of-type {\n",
              "        vertical-align: middle;\n",
              "    }\n",
              "\n",
              "    .dataframe tbody tr th {\n",
              "        vertical-align: top;\n",
              "    }\n",
              "\n",
              "    .dataframe thead th {\n",
              "        text-align: right;\n",
              "    }\n",
              "</style>\n",
              "<table border=\"1\" class=\"dataframe\">\n",
              "  <thead>\n",
              "    <tr style=\"text-align: right;\">\n",
              "      <th>Unidade da Federação</th>\n",
              "      <th>São Paulo</th>\n",
              "      <th>Minas Gerais</th>\n",
              "      <th>Paraná</th>\n",
              "      <th>Rio Grande do Sul</th>\n",
              "      <th>Rio de Janeiro</th>\n",
              "      <th>Bahia</th>\n",
              "      <th>Pernambuco</th>\n",
              "      <th>Santa Catarina</th>\n",
              "      <th>Ceará</th>\n",
              "      <th>Goiás</th>\n",
              "      <th>Pará</th>\n",
              "      <th>Maranhão</th>\n",
              "      <th>Espírito Santo</th>\n",
              "      <th>Rio Grande do Norte</th>\n",
              "      <th>Paraíba</th>\n",
              "      <th>Distrito Federal</th>\n",
              "      <th>Mato Grosso do Sul</th>\n",
              "      <th>Piauí</th>\n",
              "      <th>Alagoas</th>\n",
              "      <th>Mato Grosso</th>\n",
              "      <th>Amazonas</th>\n",
              "      <th>Sergipe</th>\n",
              "      <th>Tocantins</th>\n",
              "      <th>Rondônia</th>\n",
              "      <th>Acre</th>\n",
              "      <th>Roraima</th>\n",
              "      <th>Amapá</th>\n",
              "    </tr>\n",
              "  </thead>\n",
              "  <tbody>\n",
              "    <tr>\n",
              "      <th>2008/Fev</th>\n",
              "      <td>1.728349e+08</td>\n",
              "      <td>70301089.50</td>\n",
              "      <td>48855046.46</td>\n",
              "      <td>45897704.82</td>\n",
              "      <td>44122593.19</td>\n",
              "      <td>33410124.06</td>\n",
              "      <td>26222079.10</td>\n",
              "      <td>24409572.92</td>\n",
              "      <td>27643304.86</td>\n",
              "      <td>18149374.27</td>\n",
              "      <td>20126081.01</td>\n",
              "      <td>13452263.93</td>\n",
              "      <td>10032886.43</td>\n",
              "      <td>9110108.87</td>\n",
              "      <td>10871589.62</td>\n",
              "      <td>10215956.80</td>\n",
              "      <td>8279288.79</td>\n",
              "      <td>9711680.20</td>\n",
              "      <td>8112220.30</td>\n",
              "      <td>7929894.93</td>\n",
              "      <td>7934652.10</td>\n",
              "      <td>4636850.76</td>\n",
              "      <td>5051932.07</td>\n",
              "      <td>1940792.63</td>\n",
              "      <td>1743978.66</td>\n",
              "      <td>771687.83</td>\n",
              "      <td>1275063.72</td>\n",
              "    </tr>\n",
              "    <tr>\n",
              "      <th>2008/Mar</th>\n",
              "      <td>1.704818e+08</td>\n",
              "      <td>79119005.51</td>\n",
              "      <td>55611791.07</td>\n",
              "      <td>52928695.92</td>\n",
              "      <td>42892665.52</td>\n",
              "      <td>41301703.40</td>\n",
              "      <td>30716361.81</td>\n",
              "      <td>27483480.50</td>\n",
              "      <td>30085370.22</td>\n",
              "      <td>20992213.03</td>\n",
              "      <td>22149375.82</td>\n",
              "      <td>14750895.33</td>\n",
              "      <td>12262049.08</td>\n",
              "      <td>10126626.54</td>\n",
              "      <td>12348758.14</td>\n",
              "      <td>11627918.26</td>\n",
              "      <td>9793888.78</td>\n",
              "      <td>10428191.09</td>\n",
              "      <td>9210505.56</td>\n",
              "      <td>9416367.68</td>\n",
              "      <td>8641517.13</td>\n",
              "      <td>5017838.07</td>\n",
              "      <td>5200151.87</td>\n",
              "      <td>1955721.68</td>\n",
              "      <td>2057439.02</td>\n",
              "      <td>876091.18</td>\n",
              "      <td>1177745.93</td>\n",
              "    </tr>\n",
              "    <tr>\n",
              "      <th>2008/Abr</th>\n",
              "      <td>1.702783e+08</td>\n",
              "      <td>79046322.41</td>\n",
              "      <td>56115135.82</td>\n",
              "      <td>51972416.77</td>\n",
              "      <td>45295962.86</td>\n",
              "      <td>42826993.62</td>\n",
              "      <td>30589332.79</td>\n",
              "      <td>27806641.44</td>\n",
              "      <td>31376221.00</td>\n",
              "      <td>21049477.30</td>\n",
              "      <td>23436682.75</td>\n",
              "      <td>15148647.11</td>\n",
              "      <td>12453466.98</td>\n",
              "      <td>10964234.85</td>\n",
              "      <td>12680965.13</td>\n",
              "      <td>11922015.36</td>\n",
              "      <td>8997542.75</td>\n",
              "      <td>10227943.00</td>\n",
              "      <td>10466691.94</td>\n",
              "      <td>9390588.03</td>\n",
              "      <td>8531576.49</td>\n",
              "      <td>5265951.03</td>\n",
              "      <td>5343714.73</td>\n",
              "      <td>2143353.81</td>\n",
              "      <td>2057829.69</td>\n",
              "      <td>896952.53</td>\n",
              "      <td>1396371.51</td>\n",
              "    </tr>\n",
              "    <tr>\n",
              "      <th>2008/Mai</th>\n",
              "      <td>1.724022e+08</td>\n",
              "      <td>79268070.12</td>\n",
              "      <td>55574831.93</td>\n",
              "      <td>51679350.79</td>\n",
              "      <td>43951349.46</td>\n",
              "      <td>42071294.17</td>\n",
              "      <td>31409553.23</td>\n",
              "      <td>28354279.52</td>\n",
              "      <td>31189904.62</td>\n",
              "      <td>19162546.79</td>\n",
              "      <td>23861080.80</td>\n",
              "      <td>14543679.92</td>\n",
              "      <td>11789786.09</td>\n",
              "      <td>11032871.23</td>\n",
              "      <td>13258411.71</td>\n",
              "      <td>11900817.00</td>\n",
              "      <td>9842108.59</td>\n",
              "      <td>10562148.66</td>\n",
              "      <td>9844096.03</td>\n",
              "      <td>9378197.25</td>\n",
              "      <td>9079902.15</td>\n",
              "      <td>5367094.94</td>\n",
              "      <td>5344487.99</td>\n",
              "      <td>2280382.58</td>\n",
              "      <td>2226577.93</td>\n",
              "      <td>1027288.73</td>\n",
              "      <td>1411520.77</td>\n",
              "    </tr>\n",
              "    <tr>\n",
              "      <th>2008/Jun</th>\n",
              "      <td>1.754166e+08</td>\n",
              "      <td>79608652.53</td>\n",
              "      <td>56094754.74</td>\n",
              "      <td>53759674.01</td>\n",
              "      <td>44102925.77</td>\n",
              "      <td>39910042.40</td>\n",
              "      <td>28947510.92</td>\n",
              "      <td>28993292.76</td>\n",
              "      <td>29463965.11</td>\n",
              "      <td>20332533.92</td>\n",
              "      <td>23502915.90</td>\n",
              "      <td>14553978.06</td>\n",
              "      <td>11889687.35</td>\n",
              "      <td>10450599.08</td>\n",
              "      <td>12246686.33</td>\n",
              "      <td>11969271.76</td>\n",
              "      <td>10257782.00</td>\n",
              "      <td>10465088.93</td>\n",
              "      <td>10288668.11</td>\n",
              "      <td>9450300.60</td>\n",
              "      <td>8646295.77</td>\n",
              "      <td>4981036.36</td>\n",
              "      <td>5398413.09</td>\n",
              "      <td>2624542.97</td>\n",
              "      <td>2112576.82</td>\n",
              "      <td>938293.54</td>\n",
              "      <td>1420892.01</td>\n",
              "    </tr>\n",
              "  </tbody>\n",
              "</table>\n",
              "</div>"
            ],
            "text/plain": [
              "Unidade da Federação     São Paulo  Minas Gerais  ...     Roraima       Amapá\n",
              "2008/Fev              1.728349e+08   70301089.50  ...   771687.83  1275063.72\n",
              "2008/Mar              1.704818e+08   79119005.51  ...   876091.18  1177745.93\n",
              "2008/Abr              1.702783e+08   79046322.41  ...   896952.53  1396371.51\n",
              "2008/Mai              1.724022e+08   79268070.12  ...  1027288.73  1411520.77\n",
              "2008/Jun              1.754166e+08   79608652.53  ...   938293.54  1420892.01\n",
              "\n",
              "[5 rows x 27 columns]"
            ]
          },
          "metadata": {
            "tags": []
          },
          "execution_count": 20
        }
      ]
    },
    {
      "cell_type": "markdown",
      "metadata": {
        "id": "evYwxru7m0BY"
      },
      "source": [
        "\r\n",
        "###Desafio 01: Fazer o scatter plot feito em aula para o seu estado, leia um pouco da documentação sobre este gráfico e teste alguns parâmetros.\r\n",
        "###Desafio 02: Formatar o eixo y colocando a escala em milhões usando o StrMethodFormatter, colocar um título e colocar o título nos 2 eixos, alterando os tamanhos dos títulos"
      ]
    },
    {
      "cell_type": "code",
      "metadata": {
        "colab": {
          "base_uri": "https://localhost:8080/",
          "height": 418
        },
        "id": "ggptVnlKqTwk",
        "outputId": "f41d0d5a-278c-46d6-f35d-3be226092927"
      },
      "source": [
        "plt.figure(figsize=(10,6))\r\n",
        "ax = sns.lineplot(data=mensal, x=mensal.index, y='Pernambuco')\r\n",
        "plt.ylabel('Gastos', size=12)\r\n",
        "\r\n",
        "plt.xticks(rotation=30, size= 12)\r\n",
        "plt.ylim(0, 100000000)\r\n",
        "ax.yaxis.set_major_formatter(ticker.StrMethodFormatter('R${x:,.2f}'))\r\n",
        "ax.set_title('Internações por Sus em Pernambuco')\r\n",
        "ax.xaxis.set_major_locator(ticker.IndexLocator(base=12, offset=11))\r\n",
        "\r\n",
        "plt.show()\r\n"
      ],
      "execution_count": null,
      "outputs": [
        {
          "output_type": "display_data",
          "data": {
            "image/png": "[encoded data removed]",
            "text/plain": [
              "<Figure size 720x432 with 1 Axes>"
            ]
          },
          "metadata": {
            "tags": [],
            "needs_background": "light"
          }
        }
      ]
    },
    {
      "cell_type": "markdown",
      "metadata": {
        "id": "F43neDmTwGtw"
      },
      "source": [
        "##Aula 4"
      ]
    },
    {
      "cell_type": "code",
      "metadata": {
        "id": "C6ZTTWYZwH_X"
      },
      "source": [
        "from datetime import date\r\n",
        "\r\n",
        "meses = {\r\n",
        "    \"Jan\" : 1,\r\n",
        "    \"Fev\" : 2,\r\n",
        "    \"Mar\" : 3,\r\n",
        "    \"Abr\" : 4,\r\n",
        "    \"Mai\" : 5,\r\n",
        "    \"Jun\" : 6,\r\n",
        "    \"Jul\" : 7,\r\n",
        "    \"Ago\" : 8,\r\n",
        "    \"Set\" : 9,\r\n",
        "    \"Out\" : 10,\r\n",
        "    \"Nov\" : 11,\r\n",
        "    \"Dez\" : 12\r\n",
        "}\r\n",
        "\r\n",
        "def para_dia(ano_mes: str):\r\n",
        "  ano: int = int(ano_mes[:4])\r\n",
        "  mes: str = ano_mes[5:]\r\n",
        "  mes_numero: int = meses[mes]\r\n",
        "  return date(ano, mes_numero, 1)\r\n",
        "\r\n",
        "mensal.index = mensal.index.map(para_dia)"
      ],
      "execution_count": null,
      "outputs": []
    },
    {
      "cell_type": "markdown",
      "metadata": {
        "id": "9QUvVhIJwIXk"
      },
      "source": [
        "### Desafio 01: Estudar a documentação DateTime do Python, escolha dois métodos para se aprofundar faça alguns testes e compartilhe o conhecimento adquirido com seus colegas no Discord.\r\n",
        "\r\n"
      ]
    },
    {
      "cell_type": "code",
      "metadata": {
        "id": "i_e9jg6la7G8",
        "colab": {
          "base_uri": "https://localhost:8080/"
        },
        "outputId": "afd7cd70-9988-4901-a5d8-b1fe902342b7"
      },
      "source": [
        "import datetime \r\n",
        "dt = date(2020,12,8)\r\n",
        "dt.toordinal()\r\n",
        "dt.isocalendar()\r\n",
        "\r\n",
        "tm = time(23,59)\r\n",
        "tm2 = time(10,10) \r\n",
        "\r\n",
        "delta = timedelta(days=1)\r\n",
        "\r\n",
        "dt + delta\r\n"
      ],
      "execution_count": null,
      "outputs": [
        {
          "output_type": "execute_result",
          "data": {
            "text/plain": [
              "datetime.date(2020, 12, 9)"
            ]
          },
          "metadata": {
            "tags": []
          },
          "execution_count": 57
        }
      ]
    },
    {
      "cell_type": "markdown",
      "metadata": {
        "id": "nwafFCOvwXUG"
      },
      "source": [
        "\r\n",
        "###Desafio 02: Aprendemos a usar o Melt para desnormalizar sua base de dados, agora o desafio é realizar o processo contrário, voltar atrás partindo do mensal_aberto chegando no mensal.\r\n",
        "\r\n"
      ]
    },
    {
      "cell_type": "code",
      "metadata": {
        "colab": {
          "base_uri": "https://localhost:8080/"
        },
        "id": "-Nwe6gMJhZ77",
        "outputId": "63b2a23e-c0bc-4615-e688-0557929e671a"
      },
      "source": [
        "colunas = unida_anterior.index\r\n",
        "pd.pivot_table(mensal, columns=colunas, values=valor,)\r\n"
      ],
      "execution_count": null,
      "outputs": [
        {
          "output_type": "execute_result",
          "data": {
            "text/plain": [
              "Index(['São Paulo', 'Minas Gerais', 'Rio de Janeiro', 'Bahia', 'Paraná',\n",
              "       'Rio Grande do Sul', 'Pernambuco', 'Ceará', 'Pará', 'Santa Catarina',\n",
              "       'Maranhão', 'Goiás', 'Amazonas', 'Espírito Santo', 'Paraíba',\n",
              "       'Rio Grande do Norte', 'Mato Grosso', 'Alagoas', 'Piauí',\n",
              "       'Distrito Federal', 'Mato Grosso do Sul', 'Sergipe', 'Rondônia',\n",
              "       'Tocantins', 'Acre', 'Amapá', 'Roraima'],\n",
              "      dtype='object', name='uf')"
            ]
          },
          "metadata": {
            "tags": []
          },
          "execution_count": 59
        }
      ]
    },
    {
      "cell_type": "markdown",
      "metadata": {
        "id": "eA7uMy6Kwee7"
      },
      "source": [
        "###Desafio 03: Melhorar o gráfico da distribuição do gráfico:\r\n",
        "\r\n",
        "Escolha apenas alguns estados.\r\n",
        "Mude a palete de cores.\r\n",
        "Posicione a legenda de forma mais adequada.\r\n",
        "Adicione título principal e nos eixos x e y.\r\n"
      ]
    },
    {
      "cell_type": "code",
      "metadata": {
        "id": "d2srb7hhaw8m",
        "colab": {
          "base_uri": "https://localhost:8080/",
          "height": 163
        },
        "outputId": "b665693c-51c6-463b-b7ef-1135dc9830b7"
      },
      "source": [
        "mensal_"
      ],
      "execution_count": null,
      "outputs": [
        {
          "output_type": "error",
          "ename": "NameError",
          "evalue": "ignored",
          "traceback": [
            "\u001b[0;31m---------------------------------------------------------------------------\u001b[0m",
            "\u001b[0;31mNameError\u001b[0m                                 Traceback (most recent call last)",
            "\u001b[0;32m<ipython-input-61-6f7a66df256e>\u001b[0m in \u001b[0;36m<module>\u001b[0;34m()\u001b[0m\n\u001b[0;32m----> 1\u001b[0;31m \u001b[0mmensal_aberta\u001b[0m\u001b[0;34m\u001b[0m\u001b[0;34m\u001b[0m\u001b[0m\n\u001b[0m",
            "\u001b[0;31mNameError\u001b[0m: name 'mensal_aberta' is not defined"
          ]
        }
      ]
    },
    {
      "cell_type": "code",
      "metadata": {
        "id": "B_A-fDJIibSH"
      },
      "source": [
        ""
      ],
      "execution_count": null,
      "outputs": []
    }
  ]
}