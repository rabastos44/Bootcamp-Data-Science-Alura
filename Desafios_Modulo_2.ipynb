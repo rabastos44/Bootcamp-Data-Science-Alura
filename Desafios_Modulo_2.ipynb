{
  "nbformat": 4,
  "nbformat_minor": 0,
  "metadata": {
    "colab": {
      "name": "Desafios Modulo 2",
      "provenance": [],
      "toc_visible": true,
      "authorship_tag": "ABX9TyNh0v9FG3eP/rgnAHdleNB9",
      "include_colab_link": true
    },
    "kernelspec": {
      "name": "python3",
      "display_name": "Python 3"
    }
  },
  "cells": [
    {
      "cell_type": "markdown",
      "metadata": {
        "id": "view-in-github",
        "colab_type": "text"
      },
      "source": [
        "<a href=\"https://colab.research.google.com/github/rabastos44/Bootcamp-Data-Science-Alura/blob/master/Desafios_Modulo_2.ipynb\" target=\"_parent\"><img src=\"https://colab.research.google.com/assets/colab-badge.svg\" alt=\"Open In Colab\"/></a>"
      ]
    },
    {
      "cell_type": "code",
      "metadata": {
        "id": "uEd89cVWYtOa"
      },
      "source": [
        "import pandas as pd\n",
        "import numpy as np\n",
        "import matplotlib.pyplot as plt\n",
        "import matplotlib.ticker as ticker\n"
      ],
      "execution_count": 1,
      "outputs": []
    },
    {
      "cell_type": "markdown",
      "metadata": {
        "id": "VXgmPTlFaysy"
      },
      "source": [
        "# Dados Modulo 1"
      ]
    },
    {
      "cell_type": "code",
      "metadata": {
        "colab": {
          "base_uri": "https://localhost:8080/"
        },
        "id": "McROrIBOYqDP",
        "outputId": "d8f09194-2465-40a3-86be-299340ade0f3"
      },
      "source": [
        "dados = pd.read_csv(\"https://raw.githubusercontent.com/alura-cursos/agendamento-hospitalar/main/dados/A160324189_28_143_208.csv\",\n",
        "                    encoding=\"ISO-8859-1\", \n",
        "                    skiprows = 3, sep=\";\", skipfooter=12,\n",
        "                    thousands=\".\", decimal=\",\")\n",
        "\n",
        "colunas_usaveis = dados.mean().index.tolist()\n",
        "colunas_usaveis.insert(0, \"Unidade da Federação\")\n",
        "usaveis = dados[colunas_usaveis]\n",
        "usaveis = usaveis.set_index(\"Unidade da Federação\")\n",
        "usaveis = usaveis.drop(\"Total\", axis=1)\n",
        "usaveis[\"Total\"] = usaveis.sum(axis=1) # [0,1,2] [\"SP\"]\n",
        "ordenado_por_total = usaveis.sort_values(\"Total\", ascending=False)\n",
        "ordenado_por_total = ordenado_por_total.drop(\"Total\", axis=1)\n",
        "colunas_interessadas = ordenado_por_total.columns[6:]\n",
        "ordenado_por_total = ordenado_por_total[colunas_interessadas]\n",
        "ordenado_por_total = ordenado_por_total / 1000000\n",
        "meses_filtrados = ordenado_por_total.columns[47:150]\n",
        "mes_mais_recente = ordenado_por_total.columns[-1]\n",
        "gastos_do_mais_recente = ordenado_por_total[mes_mais_recente]\n",
        "gastos_do_mais_recente = gastos_do_mais_recente.sort_values(ascending=False)\n",
        "gastos_proporcionais = gastos_do_mais_recente / gastos_do_mais_recente.sum()\n"
      ],
      "execution_count": 2,
      "outputs": [
        {
          "output_type": "stream",
          "text": [
            "/usr/local/lib/python3.6/dist-packages/ipykernel_launcher.py:4: ParserWarning: Falling back to the 'python' engine because the 'c' engine does not support skipfooter; you can avoid this warning by specifying engine='python'.\n",
            "  after removing the cwd from sys.path.\n"
          ],
          "name": "stderr"
        }
      ]
    },
    {
      "cell_type": "markdown",
      "metadata": {
        "id": "vtozfoRya3OE"
      },
      "source": [
        "#Modulo 2 - Desafios"
      ]
    },
    {
      "cell_type": "markdown",
      "metadata": {
        "id": "SroFIP11cLid"
      },
      "source": [
        "##Aula 1"
      ]
    },
    {
      "cell_type": "markdown",
      "metadata": {
        "id": "A2cAAGvwa8qP"
      },
      "source": [
        "###Desafio 01 - Entre nos dados do wikipedia e Leia a Base de dados direto do wikipedia.\n",
        "\n"
      ]
    },
    {
      "cell_type": "code",
      "metadata": {
        "colab": {
          "base_uri": "https://localhost:8080/",
          "height": 857
        },
        "id": "tZuU0wRGbmZl",
        "outputId": "60608dce-338c-4374-bca7-bd5b76829765"
      },
      "source": [
        "wiki = pd.read_html(\"https://pt.wikipedia.org/wiki/Lista_de_unidades_federativas_do_Brasil_por_popula%C3%A7%C3%A3o\")\n",
        "tabela_populacao = wiki[0]\n",
        "tabela_populacao[['Unidade federativa','População']]\n"
      ],
      "execution_count": 3,
      "outputs": [
        {
          "output_type": "execute_result",
          "data": {
            "text/html": [
              "<div>\n",
              "<style scoped>\n",
              "    .dataframe tbody tr th:only-of-type {\n",
              "        vertical-align: middle;\n",
              "    }\n",
              "\n",
              "    .dataframe tbody tr th {\n",
              "        vertical-align: top;\n",
              "    }\n",
              "\n",
              "    .dataframe thead th {\n",
              "        text-align: right;\n",
              "    }\n",
              "</style>\n",
              "<table border=\"1\" class=\"dataframe\">\n",
              "  <thead>\n",
              "    <tr style=\"text-align: right;\">\n",
              "      <th></th>\n",
              "      <th>Unidade federativa</th>\n",
              "      <th>População</th>\n",
              "    </tr>\n",
              "  </thead>\n",
              "  <tbody>\n",
              "    <tr>\n",
              "      <th>0</th>\n",
              "      <td>São Paulo</td>\n",
              "      <td>46 289 333</td>\n",
              "    </tr>\n",
              "    <tr>\n",
              "      <th>1</th>\n",
              "      <td>Minas Gerais</td>\n",
              "      <td>21 292 666</td>\n",
              "    </tr>\n",
              "    <tr>\n",
              "      <th>2</th>\n",
              "      <td>Rio de Janeiro</td>\n",
              "      <td>17 366 189</td>\n",
              "    </tr>\n",
              "    <tr>\n",
              "      <th>3</th>\n",
              "      <td>Bahia</td>\n",
              "      <td>14 930 634</td>\n",
              "    </tr>\n",
              "    <tr>\n",
              "      <th>4</th>\n",
              "      <td>Paraná</td>\n",
              "      <td>11 516 840</td>\n",
              "    </tr>\n",
              "    <tr>\n",
              "      <th>5</th>\n",
              "      <td>Rio Grande do Sul</td>\n",
              "      <td>11 422 973</td>\n",
              "    </tr>\n",
              "    <tr>\n",
              "      <th>6</th>\n",
              "      <td>Pernambuco</td>\n",
              "      <td>9 616 621</td>\n",
              "    </tr>\n",
              "    <tr>\n",
              "      <th>7</th>\n",
              "      <td>Ceará</td>\n",
              "      <td>9 187 103</td>\n",
              "    </tr>\n",
              "    <tr>\n",
              "      <th>8</th>\n",
              "      <td>Pará</td>\n",
              "      <td>8 690 745</td>\n",
              "    </tr>\n",
              "    <tr>\n",
              "      <th>9</th>\n",
              "      <td>Santa Catarina</td>\n",
              "      <td>7 252 502</td>\n",
              "    </tr>\n",
              "    <tr>\n",
              "      <th>10</th>\n",
              "      <td>Maranhão</td>\n",
              "      <td>7 114 598</td>\n",
              "    </tr>\n",
              "    <tr>\n",
              "      <th>11</th>\n",
              "      <td>Goiás</td>\n",
              "      <td>7 113 540</td>\n",
              "    </tr>\n",
              "    <tr>\n",
              "      <th>12</th>\n",
              "      <td>Amazonas</td>\n",
              "      <td>4 207 714</td>\n",
              "    </tr>\n",
              "    <tr>\n",
              "      <th>13</th>\n",
              "      <td>Espírito Santo</td>\n",
              "      <td>4 064 052</td>\n",
              "    </tr>\n",
              "    <tr>\n",
              "      <th>14</th>\n",
              "      <td>Paraíba</td>\n",
              "      <td>4 039 277</td>\n",
              "    </tr>\n",
              "    <tr>\n",
              "      <th>15</th>\n",
              "      <td>Rio Grande do Norte</td>\n",
              "      <td>3 534 165</td>\n",
              "    </tr>\n",
              "    <tr>\n",
              "      <th>16</th>\n",
              "      <td>Mato Grosso</td>\n",
              "      <td>3 526 220</td>\n",
              "    </tr>\n",
              "    <tr>\n",
              "      <th>17</th>\n",
              "      <td>Alagoas</td>\n",
              "      <td>3 351 543</td>\n",
              "    </tr>\n",
              "    <tr>\n",
              "      <th>18</th>\n",
              "      <td>Piauí</td>\n",
              "      <td>3 281 480</td>\n",
              "    </tr>\n",
              "    <tr>\n",
              "      <th>19</th>\n",
              "      <td>Distrito Federal</td>\n",
              "      <td>3 055 149</td>\n",
              "    </tr>\n",
              "    <tr>\n",
              "      <th>20</th>\n",
              "      <td>Mato Grosso do Sul</td>\n",
              "      <td>2 809 394</td>\n",
              "    </tr>\n",
              "    <tr>\n",
              "      <th>21</th>\n",
              "      <td>Sergipe</td>\n",
              "      <td>2 318 822</td>\n",
              "    </tr>\n",
              "    <tr>\n",
              "      <th>22</th>\n",
              "      <td>Rondônia</td>\n",
              "      <td>1 796 460</td>\n",
              "    </tr>\n",
              "    <tr>\n",
              "      <th>23</th>\n",
              "      <td>Tocantins</td>\n",
              "      <td>1 590 248</td>\n",
              "    </tr>\n",
              "    <tr>\n",
              "      <th>24</th>\n",
              "      <td>Acre</td>\n",
              "      <td>894 470</td>\n",
              "    </tr>\n",
              "    <tr>\n",
              "      <th>25</th>\n",
              "      <td>Amapá</td>\n",
              "      <td>861 773</td>\n",
              "    </tr>\n",
              "    <tr>\n",
              "      <th>26</th>\n",
              "      <td>Roraima</td>\n",
              "      <td>631 181</td>\n",
              "    </tr>\n",
              "  </tbody>\n",
              "</table>\n",
              "</div>"
            ],
            "text/plain": [
              "     Unidade federativa   População\n",
              "0             São Paulo  46 289 333\n",
              "1          Minas Gerais  21 292 666\n",
              "2        Rio de Janeiro  17 366 189\n",
              "3                 Bahia  14 930 634\n",
              "4                Paraná  11 516 840\n",
              "5     Rio Grande do Sul  11 422 973\n",
              "6            Pernambuco   9 616 621\n",
              "7                 Ceará   9 187 103\n",
              "8                  Pará   8 690 745\n",
              "9        Santa Catarina   7 252 502\n",
              "10             Maranhão   7 114 598\n",
              "11                Goiás   7 113 540\n",
              "12             Amazonas   4 207 714\n",
              "13       Espírito Santo   4 064 052\n",
              "14              Paraíba   4 039 277\n",
              "15  Rio Grande do Norte   3 534 165\n",
              "16          Mato Grosso   3 526 220\n",
              "17              Alagoas   3 351 543\n",
              "18                Piauí   3 281 480\n",
              "19     Distrito Federal   3 055 149\n",
              "20   Mato Grosso do Sul   2 809 394\n",
              "21              Sergipe   2 318 822\n",
              "22             Rondônia   1 796 460\n",
              "23            Tocantins   1 590 248\n",
              "24                 Acre     894 470\n",
              "25                Amapá     861 773\n",
              "26              Roraima     631 181"
            ]
          },
          "metadata": {
            "tags": []
          },
          "execution_count": 3
        }
      ]
    },
    {
      "cell_type": "markdown",
      "metadata": {
        "id": "qjHidIXccD67"
      },
      "source": [
        "###Desafio 02 - Neste desafio temos uma série de passos:\n",
        "\n",
        "- Padronizar os nomes das colunas\n",
        "- Transformar os dados nos tipos corretos\n",
        "- Transformar a UF em index"
      ]
    },
    {
      "cell_type": "code",
      "metadata": {
        "id": "nrhRO87VcZlr"
      },
      "source": [
        "# - Padronizar os nomes das colunas\n",
        "populacao = tabela_populacao.loc[:,['Unidade federativa','População']]\n",
        "populacao['populacao']= populacao.loc[:,'População']\n",
        "populacao['uf'] = populacao.loc[:,'Unidade federativa'] \n",
        "populacao = populacao[['uf','populacao']]\n",
        "# - Transformar os dados nos tipos corretos\n",
        "populacao['populacao']= populacao['populacao'].str.replace(' ','').astype(int)\n",
        "# - Transformar a UF em index\n",
        "populacao.set_index('uf', inplace=True)"
      ],
      "execution_count": 4,
      "outputs": []
    },
    {
      "cell_type": "markdown",
      "metadata": {
        "id": "gN9sX_kzbUri"
      },
      "source": [
        "###Desafio 03 - Buscar na documentação alguns métodos envolvendo strings\n",
        "\n",
        "\n",
        "\n",
        "\n"
      ]
    },
    {
      "cell_type": "code",
      "metadata": {
        "colab": {
          "base_uri": "https://localhost:8080/"
        },
        "id": "dLZBc_5imLHY",
        "outputId": "301efa69-8af2-4e1b-a1cc-cd2762551670"
      },
      "source": [
        "populacao.index.str.split(\" \")"
      ],
      "execution_count": 5,
      "outputs": [
        {
          "output_type": "execute_result",
          "data": {
            "text/plain": [
              "Index([                ['São', 'Paulo'],              ['Minas', 'Gerais'],\n",
              "               ['Rio', 'de', 'Janeiro'],                        ['Bahia'],\n",
              "                             ['Paraná'],   ['Rio', 'Grande', 'do', 'Sul'],\n",
              "                         ['Pernambuco'],                        ['Ceará'],\n",
              "                               ['Pará'],            ['Santa', 'Catarina'],\n",
              "                           ['Maranhão'],                        ['Goiás'],\n",
              "                           ['Amazonas'],            ['Espírito', 'Santo'],\n",
              "                            ['Paraíba'], ['Rio', 'Grande', 'do', 'Norte'],\n",
              "                     ['Mato', 'Grosso'],                      ['Alagoas'],\n",
              "                              ['Piauí'],          ['Distrito', 'Federal'],\n",
              "        ['Mato', 'Grosso', 'do', 'Sul'],                      ['Sergipe'],\n",
              "                           ['Rondônia'],                    ['Tocantins'],\n",
              "                               ['Acre'],                        ['Amapá'],\n",
              "                            ['Roraima']],\n",
              "      dtype='object', name='uf')"
            ]
          },
          "metadata": {
            "tags": []
          },
          "execution_count": 5
        }
      ]
    },
    {
      "cell_type": "code",
      "metadata": {
        "colab": {
          "base_uri": "https://localhost:8080/"
        },
        "id": "AYP0YYBu73Fw",
        "outputId": "aa38a234-a149-4a5b-9541-e078b5853228"
      },
      "source": [
        "populacao.index.str.lower()"
      ],
      "execution_count": 6,
      "outputs": [
        {
          "output_type": "execute_result",
          "data": {
            "text/plain": [
              "Index(['são paulo', 'minas gerais', 'rio de janeiro', 'bahia', 'paraná',\n",
              "       'rio grande do sul', 'pernambuco', 'ceará', 'pará', 'santa catarina',\n",
              "       'maranhão', 'goiás', 'amazonas', 'espírito santo', 'paraíba',\n",
              "       'rio grande do norte', 'mato grosso', 'alagoas', 'piauí',\n",
              "       'distrito federal', 'mato grosso do sul', 'sergipe', 'rondônia',\n",
              "       'tocantins', 'acre', 'amapá', 'roraima'],\n",
              "      dtype='object', name='uf')"
            ]
          },
          "metadata": {
            "tags": []
          },
          "execution_count": 6
        }
      ]
    },
    {
      "cell_type": "code",
      "metadata": {
        "colab": {
          "base_uri": "https://localhost:8080/"
        },
        "id": "UznyHgM278zC",
        "outputId": "85b10a03-fe1e-4909-cfd0-39bb59ebb940"
      },
      "source": [
        "populacao.index.str.startswith('Mato')"
      ],
      "execution_count": 7,
      "outputs": [
        {
          "output_type": "execute_result",
          "data": {
            "text/plain": [
              "array([False, False, False, False, False, False, False, False, False,\n",
              "       False, False, False, False, False, False, False,  True, False,\n",
              "       False, False,  True, False, False, False, False, False, False])"
            ]
          },
          "metadata": {
            "tags": []
          },
          "execution_count": 7
        }
      ]
    },
    {
      "cell_type": "code",
      "metadata": {
        "colab": {
          "base_uri": "https://localhost:8080/"
        },
        "id": "dPejqkj-8MJp",
        "outputId": "81c1d153-d8c0-4e71-b70a-c20b81b76efb"
      },
      "source": [
        "populacao.index.str.rfind('Sul')"
      ],
      "execution_count": 8,
      "outputs": [
        {
          "output_type": "execute_result",
          "data": {
            "text/plain": [
              "Int64Index([-1, -1, -1, -1, -1, 14, -1, -1, -1, -1, -1, -1, -1, -1, -1, -1, -1,\n",
              "            -1, -1, -1, 15, -1, -1, -1, -1, -1, -1],\n",
              "           dtype='int64', name='uf')"
            ]
          },
          "metadata": {
            "tags": []
          },
          "execution_count": 8
        }
      ]
    },
    {
      "cell_type": "code",
      "metadata": {
        "colab": {
          "base_uri": "https://localhost:8080/"
        },
        "id": "zkMylFMhFmX-",
        "outputId": "51635cd6-39ef-4d5a-9f80-c3e6cdc990fc"
      },
      "source": [
        "populacao.index.str[3:]"
      ],
      "execution_count": 9,
      "outputs": [
        {
          "output_type": "execute_result",
          "data": {
            "text/plain": [
              "Index([' Paulo', 'as Gerais', ' de Janeiro', 'ia', 'aná', ' Grande do Sul',\n",
              "       'nambuco', 'rá', 'á', 'ta Catarina', 'anhão', 'ás', 'zonas',\n",
              "       'írito Santo', 'aíba', ' Grande do Norte', 'o Grosso', 'goas', 'uí',\n",
              "       'trito Federal', 'o Grosso do Sul', 'gipe', 'dônia', 'antins', 'e',\n",
              "       'pá', 'aima'],\n",
              "      dtype='object', name='uf')"
            ]
          },
          "metadata": {
            "tags": []
          },
          "execution_count": 9
        }
      ]
    },
    {
      "cell_type": "code",
      "metadata": {
        "colab": {
          "base_uri": "https://localhost:8080/"
        },
        "id": "Bf3QVWauFmcS",
        "outputId": "bc4804f1-c9a0-47aa-8dac-72e92068a65b"
      },
      "source": [
        "populacao.index"
      ],
      "execution_count": 10,
      "outputs": [
        {
          "output_type": "execute_result",
          "data": {
            "text/plain": [
              "Index(['São Paulo', 'Minas Gerais', 'Rio de Janeiro', 'Bahia', 'Paraná',\n",
              "       'Rio Grande do Sul', 'Pernambuco', 'Ceará', 'Pará', 'Santa Catarina',\n",
              "       'Maranhão', 'Goiás', 'Amazonas', 'Espírito Santo', 'Paraíba',\n",
              "       'Rio Grande do Norte', 'Mato Grosso', 'Alagoas', 'Piauí',\n",
              "       'Distrito Federal', 'Mato Grosso do Sul', 'Sergipe', 'Rondônia',\n",
              "       'Tocantins', 'Acre', 'Amapá', 'Roraima'],\n",
              "      dtype='object', name='uf')"
            ]
          },
          "metadata": {
            "tags": []
          },
          "execution_count": 10
        }
      ]
    },
    {
      "cell_type": "markdown",
      "metadata": {
        "id": "l7QHnRvxbU1K"
      },
      "source": [
        "###Desafio 04 - Desenvolver uma função para a limpeza e tratamento dos dados, retornando duas tabelas \"população\" e \"unida\".\n"
      ]
    },
    {
      "cell_type": "code",
      "metadata": {
        "id": "ZP6NbcVK8l3h"
      },
      "source": [
        "def adiciona_populacao(gastos_fonte, populacao_fonte):\n",
        "  populacao = populacao_fonte.loc[:,['Unidade federativa','População']]\n",
        "  populacao['populacao']= populacao.loc[:,'População']\n",
        "  populacao['uf'] = populacao.loc[:,'Unidade federativa'] \n",
        "  populacao = populacao[['uf','populacao']]\n",
        "  populacao['populacao']= populacao['populacao'].str.replace(' ','').astype(int)\n",
        "  populacao.set_index('uf',inplace=True)\n",
        "  populacao.index.str.strip()\n",
        "\n",
        "  gastos = gastos_fonte.copy()\n",
        "  gastos.index = gastos_fonte.index.str[3:]\n",
        "\n",
        "  unida = populacao.join(gastos)\n",
        "  unida['gastos'] = unida[unida.columns[1]]\n",
        "  unida = unida.drop(unida.columns[1],axis=1)\n",
        "  return populacao,unida\n",
        "\n",
        "populacao, gastos_e_populacao_recente = join_populacao(gastos_do_mais_recente,tabela_populacao)\n"
      ],
      "execution_count": 33,
      "outputs": []
    },
    {
      "cell_type": "markdown",
      "metadata": {
        "id": "HoiNPsYRGLAk"
      },
      "source": [
        "##Aula 2"
      ]
    },
    {
      "cell_type": "markdown",
      "metadata": {
        "id": "Mdu-W1dlHC-W"
      },
      "source": [
        "###Desafio 01: Ordenar o gráfico e criar uma visualização de gastos por habitantes ordenada por habitante.\n",
        "\n"
      ]
    },
    {
      "cell_type": "code",
      "metadata": {
        "colab": {
          "base_uri": "https://localhost:8080/",
          "height": 400
        },
        "id": "HJpMYj9BHebb",
        "outputId": "eea877a8-2db1-4d2c-a80e-9f91d5d12dc1"
      },
      "source": [
        "gastos_e_populacao_recente[\"gasto_por_habitante\"] = gastos_e_populacao_recente[\"gastos\"] / gastos_e_populacao_recente[\"populacao\"]\n",
        "gastos_ordenado_por_populacao = gastos_e_populacao_recente.sort_values('gastos',ascending=False)\n",
        "gastos_e_populacao_recente['gasto_por_habitante'].plot(kind='bar')"
      ],
      "execution_count": 27,
      "outputs": [
        {
          "output_type": "execute_result",
          "data": {
            "text/plain": [
              "<matplotlib.axes._subplots.AxesSubplot at 0x7f006f570fd0>"
            ]
          },
          "metadata": {
            "tags": []
          },
          "execution_count": 27
        },
        {
          "output_type": "display_data",
          "data": {
            "image/png": "[encoded data removed]",
            "text/plain": [
              "<Figure size 432x288 with 1 Axes>"
            ]
          },
          "metadata": {
            "tags": [],
            "needs_background": "light"
          }
        }
      ]
    },
    {
      "cell_type": "markdown",
      "metadata": {
        "id": "OOFXnU_oHDG2"
      },
      "source": [
        "###Desafio 02 (Super Desafio Gui): Fazer os mesmos gráficos do final da aulas 2.1 para meses anteriores, analisar e compartilhar suas hipóteses.\n",
        "\n"
      ]
    },
    {
      "cell_type": "code",
      "metadata": {
        "id": "-csz-Qe6Q7oP",
        "outputId": "4fd30372-dc85-4f5b-a042-dede5ebc5148",
        "colab": {
          "base_uri": "https://localhost:8080/",
          "height": 488
        }
      },
      "source": [
        "import seaborn as sns\n",
        "\n",
        "mes_anterior_recente = ordenado_por_total.columns[-2]\n",
        "gastos_mes_anterior = ordenado_por_total[mes_anterior_recente]\n",
        "\n",
        "populacao, unida_anterior= adiciona_populacao(gastos_mes_anterior, tabela_populacao)\n",
        "unida_anterior['gastos por populacao'] = unida_anterior['gastos']*1000000/unida_anterior['populacao']\n",
        "\n",
        "plt.figure(figsize=(7,7))\n",
        "plt.legend()\n",
        "\n",
        "l1 = sns.scatterplot(x=unida_anterior['gastos']*1000000,y=unida_anterior['populacao'])\n",
        "sns.scatterplot(x=gastos_e_populacao_recente['gastos']*1000000,y=gastos_e_populacao_recente['populacao'])\n",
        "\n",
        "l1.legend(['Mes anterior','Mes mais recente'])"
      ],
      "execution_count": 48,
      "outputs": [
        {
          "output_type": "stream",
          "text": [
            "No handles with labels found to put in legend.\n"
          ],
          "name": "stderr"
        },
        {
          "output_type": "execute_result",
          "data": {
            "text/plain": [
              "<matplotlib.legend.Legend at 0x7f0064dada58>"
            ]
          },
          "metadata": {
            "tags": []
          },
          "execution_count": 48
        },
        {
          "output_type": "display_data",
          "data": {
            "image/png": "[encoded data removed]",
            "text/plain": [
              "<Figure size 504x504 with 1 Axes>"
            ]
          },
          "metadata": {
            "tags": [],
            "needs_background": "light"
          }
        }
      ]
    },
    {
      "cell_type": "markdown",
      "metadata": {
        "id": "-kDWcm5XHDcl"
      },
      "source": [
        "\n",
        "###Desafio 03 (Super Desafio Thiago): Plotar no mesmos gráficos do final da aula o mês anterior e o mês correte, analisar e compartilhar suas hipóteses.\n",
        "\n"
      ]
    },
    {
      "cell_type": "code",
      "metadata": {
        "id": "pnaRpMjRY7EZ",
        "outputId": "e3ef77ca-6736-4717-838d-6123818f89ee",
        "colab": {
          "base_uri": "https://localhost:8080/",
          "height": 488
        }
      },
      "source": [
        "import seaborn as sns\n",
        "\n",
        "mes_anterior_recente = ordenado_por_total.columns[-2]\n",
        "gastos_mes_anterior = ordenado_por_total[mes_anterior_recente]\n",
        "\n",
        "populacao, unida_anterior= adiciona_populacao(gastos_mes_anterior, tabela_populacao)\n",
        "unida_anterior['gastos por populacao'] = unida_anterior['gastos']*1000000/unida_anterior['populacao']\n",
        "\n",
        "plt.figure(figsize=(7,7))\n",
        "plt.legend()\n",
        "\n",
        "l1 = sns.scatterplot(y=unida_anterior['gastos']*1000000,x=unida_anterior['populacao'])\n",
        "sns.scatterplot(y=gastos_e_populacao_recente['gastos']*1000000,x=gastos_e_populacao_recente['populacao'])\n",
        "\n",
        "l1.legend(['Mes anterior','Mes mais recente'])"
      ],
      "execution_count": 59,
      "outputs": [
        {
          "output_type": "stream",
          "text": [
            "No handles with labels found to put in legend.\n"
          ],
          "name": "stderr"
        },
        {
          "output_type": "execute_result",
          "data": {
            "text/plain": [
              "<matplotlib.legend.Legend at 0x7f0064dc4518>"
            ]
          },
          "metadata": {
            "tags": []
          },
          "execution_count": 59
        },
        {
          "output_type": "display_data",
          "data": {
            "image/png": "[encoded data removed]",
            "text/plain": [
              "<Figure size 504x504 with 1 Axes>"
            ]
          },
          "metadata": {
            "tags": [],
            "needs_background": "light"
          }
        }
      ]
    },
    {
      "cell_type": "code",
      "metadata": {
        "id": "gZFDExheZb2Q",
        "outputId": "7997c023-16fa-4f28-b8cc-33e3185dba0a",
        "colab": {
          "base_uri": "https://localhost:8080/",
          "height": 282
        }
      },
      "source": [
        "ultimos_meses = ordenado_por_total[ordenado_por_total.columns[-3:]]\n",
        "sns.scatterplot(x=unida['populacao'],y=ultimos_meses['2020/Jun'])"
      ],
      "execution_count": 62,
      "outputs": [
        {
          "output_type": "execute_result",
          "data": {
            "text/plain": [
              "<matplotlib.axes._subplots.AxesSubplot at 0x7f006f7b6390>"
            ]
          },
          "metadata": {
            "tags": []
          },
          "execution_count": 62
        },
        {
          "output_type": "display_data",
          "data": {
            "image/png": "[encoded data removed]",
            "text/plain": [
              "<Figure size 432x288 with 1 Axes>"
            ]
          },
          "metadata": {
            "tags": [],
            "needs_background": "light"
          }
        }
      ]
    },
    {
      "cell_type": "markdown",
      "metadata": {
        "id": "kQ3R56-bHZnJ"
      },
      "source": [
        "###Desafio 04 (Próximo Vídeo): Analise os gráficos e tente chegar a hipóteses que explicam o que você está entendendo dos dados. Lembre-se que a conclusão é uma hipótese. E que esses dados serão alterados.\n",
        "\n"
      ]
    },
    {
      "cell_type": "code",
      "metadata": {
        "id": "rjpYTtgkXCX9"
      },
      "source": [
        ""
      ],
      "execution_count": null,
      "outputs": []
    }
  ]
}