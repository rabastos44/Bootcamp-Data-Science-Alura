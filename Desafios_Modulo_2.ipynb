{
  "nbformat": 4,
  "nbformat_minor": 0,
  "metadata": {
    "colab": {
      "name": "Desafios Modulo 2",
      "provenance": [],
      "collapsed_sections": [],
      "authorship_tag": "ABX9TyMIX6p3KhcBIWN1x84Rumz7",
      "include_colab_link": true
    },
    "kernelspec": {
      "name": "python3",
      "display_name": "Python 3"
    }
  },
  "cells": [
    {
      "cell_type": "markdown",
      "metadata": {
        "id": "view-in-github",
        "colab_type": "text"
      },
      "source": [
        "<a href=\"https://colab.research.google.com/github/rabastos44/Bootcamp-Data-Science-Alura/blob/master/Desafios_Modulo_2.ipynb\" target=\"_parent\"><img src=\"https://colab.research.google.com/assets/colab-badge.svg\" alt=\"Open In Colab\"/></a>"
      ]
    },
    {
      "cell_type": "code",
      "metadata": {
        "id": "uEd89cVWYtOa"
      },
      "source": [
        "import pandas as pd\n",
        "import numpy as np\n",
        "import matplotlib.pyplot as plt\n",
        "import matplotlib.ticker as ticker\n"
      ],
      "execution_count": 1,
      "outputs": []
    },
    {
      "cell_type": "markdown",
      "metadata": {
        "id": "VXgmPTlFaysy"
      },
      "source": [
        "# Dados Modulo 1"
      ]
    },
    {
      "cell_type": "code",
      "metadata": {
        "colab": {
          "base_uri": "https://localhost:8080/"
        },
        "id": "McROrIBOYqDP",
        "outputId": "8047fbff-f687-4f98-d88f-fa1c649150be"
      },
      "source": [
        "dados = pd.read_csv(\"https://raw.githubusercontent.com/alura-cursos/agendamento-hospitalar/main/dados/A160324189_28_143_208.csv\",\n",
        "                    encoding=\"ISO-8859-1\", \n",
        "                    skiprows = 3, sep=\";\", skipfooter=12,\n",
        "                    thousands=\".\", decimal=\",\")\n",
        "\n",
        "colunas_usaveis = dados.mean().index.tolist()\n",
        "colunas_usaveis.insert(0, \"Unidade da Federação\")\n",
        "usaveis = dados[colunas_usaveis]\n",
        "usaveis = usaveis.set_index(\"Unidade da Federação\")\n",
        "usaveis = usaveis.drop(\"Total\", axis=1)\n",
        "usaveis[\"Total\"] = usaveis.sum(axis=1) # [0,1,2] [\"SP\"]\n",
        "ordenado_por_total = usaveis.sort_values(\"Total\", ascending=False)\n",
        "ordenado_por_total = ordenado_por_total.drop(\"Total\", axis=1)\n",
        "colunas_interessadas = ordenado_por_total.columns[6:]\n",
        "ordenado_por_total = ordenado_por_total[colunas_interessadas]\n",
        "ordenado_por_total = ordenado_por_total / 1000000\n",
        "ordenado_por_total.index = ordenado_por_total.index.str[3:]\n",
        "meses_filtrados = ordenado_por_total.columns[47:150]\n",
        "mes_mais_recente = ordenado_por_total.columns[-1]\n",
        "gastos_do_mais_recente = ordenado_por_total[mes_mais_recente]\n",
        "gastos_do_mais_recente = gastos_do_mais_recente.sort_values(ascending=False)\n",
        "gastos_proporcionais = gastos_do_mais_recente / gastos_do_mais_recente.sum()\n"
      ],
      "execution_count": 2,
      "outputs": [
        {
          "output_type": "stream",
          "text": [
            "/usr/local/lib/python3.6/dist-packages/ipykernel_launcher.py:4: ParserWarning: Falling back to the 'python' engine because the 'c' engine does not support skipfooter; you can avoid this warning by specifying engine='python'.\n",
            "  after removing the cwd from sys.path.\n"
          ],
          "name": "stderr"
        }
      ]
    },
    {
      "cell_type": "markdown",
      "metadata": {
        "id": "vtozfoRya3OE"
      },
      "source": [
        "#Modulo 2 - Desafios"
      ]
    },
    {
      "cell_type": "markdown",
      "metadata": {
        "id": "SroFIP11cLid"
      },
      "source": [
        "##Aula 1"
      ]
    },
    {
      "cell_type": "markdown",
      "metadata": {
        "id": "A2cAAGvwa8qP"
      },
      "source": [
        "###Desafio 01 - Entre nos dados do wikipedia e Leia a Base de dados direto do wikipedia.\n",
        "\n"
      ]
    },
    {
      "cell_type": "code",
      "metadata": {
        "colab": {
          "base_uri": "https://localhost:8080/",
          "height": 204
        },
        "id": "tZuU0wRGbmZl",
        "outputId": "2bd11982-3071-4d25-d863-b6a7a32abfca"
      },
      "source": [
        "wiki = pd.read_html(\"https://pt.wikipedia.org/wiki/Lista_de_unidades_federativas_do_Brasil_por_popula%C3%A7%C3%A3o\")\n",
        "tabela_populacao = wiki[0]\n",
        "tabela_populacao[['Unidade federativa','População']].head()\n"
      ],
      "execution_count": 3,
      "outputs": [
        {
          "output_type": "execute_result",
          "data": {
            "text/html": [
              "<div>\n",
              "<style scoped>\n",
              "    .dataframe tbody tr th:only-of-type {\n",
              "        vertical-align: middle;\n",
              "    }\n",
              "\n",
              "    .dataframe tbody tr th {\n",
              "        vertical-align: top;\n",
              "    }\n",
              "\n",
              "    .dataframe thead th {\n",
              "        text-align: right;\n",
              "    }\n",
              "</style>\n",
              "<table border=\"1\" class=\"dataframe\">\n",
              "  <thead>\n",
              "    <tr style=\"text-align: right;\">\n",
              "      <th></th>\n",
              "      <th>Unidade federativa</th>\n",
              "      <th>População</th>\n",
              "    </tr>\n",
              "  </thead>\n",
              "  <tbody>\n",
              "    <tr>\n",
              "      <th>0</th>\n",
              "      <td>São Paulo</td>\n",
              "      <td>46 289 333</td>\n",
              "    </tr>\n",
              "    <tr>\n",
              "      <th>1</th>\n",
              "      <td>Minas Gerais</td>\n",
              "      <td>21 292 666</td>\n",
              "    </tr>\n",
              "    <tr>\n",
              "      <th>2</th>\n",
              "      <td>Rio de Janeiro</td>\n",
              "      <td>17 366 189</td>\n",
              "    </tr>\n",
              "    <tr>\n",
              "      <th>3</th>\n",
              "      <td>Bahia</td>\n",
              "      <td>14 930 634</td>\n",
              "    </tr>\n",
              "    <tr>\n",
              "      <th>4</th>\n",
              "      <td>Paraná</td>\n",
              "      <td>11 516 840</td>\n",
              "    </tr>\n",
              "  </tbody>\n",
              "</table>\n",
              "</div>"
            ],
            "text/plain": [
              "  Unidade federativa   População\n",
              "0          São Paulo  46 289 333\n",
              "1       Minas Gerais  21 292 666\n",
              "2     Rio de Janeiro  17 366 189\n",
              "3              Bahia  14 930 634\n",
              "4             Paraná  11 516 840"
            ]
          },
          "metadata": {
            "tags": []
          },
          "execution_count": 3
        }
      ]
    },
    {
      "cell_type": "markdown",
      "metadata": {
        "id": "qjHidIXccD67"
      },
      "source": [
        "###Desafio 02 - Neste desafio temos uma série de passos:\n",
        "\n",
        "- Padronizar os nomes das colunas\n",
        "- Transformar os dados nos tipos corretos\n",
        "- Transformar a UF em index"
      ]
    },
    {
      "cell_type": "code",
      "metadata": {
        "id": "nrhRO87VcZlr",
        "colab": {
          "base_uri": "https://localhost:8080/",
          "height": 235
        },
        "outputId": "67a961ac-a7ff-40c2-dbb3-f15e544e87d9"
      },
      "source": [
        "# - Padronizar os nomes das colunas\n",
        "populacao = tabela_populacao.loc[:,['Unidade federativa','População']]\n",
        "populacao['populacao']= populacao.loc[:,'População']\n",
        "populacao['uf'] = populacao.loc[:,'Unidade federativa'] \n",
        "populacao = populacao[['uf','populacao']]\n",
        "# - Transformar os dados nos tipos corretos\n",
        "populacao['populacao']= populacao['populacao'].str.replace(' ','').astype(int)\n",
        "# - Transformar a UF em index\n",
        "populacao.set_index('uf', inplace=True)\n",
        "populacao.head()"
      ],
      "execution_count": 4,
      "outputs": [
        {
          "output_type": "execute_result",
          "data": {
            "text/html": [
              "<div>\n",
              "<style scoped>\n",
              "    .dataframe tbody tr th:only-of-type {\n",
              "        vertical-align: middle;\n",
              "    }\n",
              "\n",
              "    .dataframe tbody tr th {\n",
              "        vertical-align: top;\n",
              "    }\n",
              "\n",
              "    .dataframe thead th {\n",
              "        text-align: right;\n",
              "    }\n",
              "</style>\n",
              "<table border=\"1\" class=\"dataframe\">\n",
              "  <thead>\n",
              "    <tr style=\"text-align: right;\">\n",
              "      <th></th>\n",
              "      <th>populacao</th>\n",
              "    </tr>\n",
              "    <tr>\n",
              "      <th>uf</th>\n",
              "      <th></th>\n",
              "    </tr>\n",
              "  </thead>\n",
              "  <tbody>\n",
              "    <tr>\n",
              "      <th>São Paulo</th>\n",
              "      <td>46289333</td>\n",
              "    </tr>\n",
              "    <tr>\n",
              "      <th>Minas Gerais</th>\n",
              "      <td>21292666</td>\n",
              "    </tr>\n",
              "    <tr>\n",
              "      <th>Rio de Janeiro</th>\n",
              "      <td>17366189</td>\n",
              "    </tr>\n",
              "    <tr>\n",
              "      <th>Bahia</th>\n",
              "      <td>14930634</td>\n",
              "    </tr>\n",
              "    <tr>\n",
              "      <th>Paraná</th>\n",
              "      <td>11516840</td>\n",
              "    </tr>\n",
              "  </tbody>\n",
              "</table>\n",
              "</div>"
            ],
            "text/plain": [
              "                populacao\n",
              "uf                       \n",
              "São Paulo        46289333\n",
              "Minas Gerais     21292666\n",
              "Rio de Janeiro   17366189\n",
              "Bahia            14930634\n",
              "Paraná           11516840"
            ]
          },
          "metadata": {
            "tags": []
          },
          "execution_count": 4
        }
      ]
    },
    {
      "cell_type": "markdown",
      "metadata": {
        "id": "gN9sX_kzbUri"
      },
      "source": [
        "###Desafio 03 - Buscar na documentação alguns métodos envolvendo strings\n",
        "\n",
        "\n",
        "\n",
        "\n"
      ]
    },
    {
      "cell_type": "code",
      "metadata": {
        "colab": {
          "base_uri": "https://localhost:8080/"
        },
        "id": "dLZBc_5imLHY",
        "outputId": "7c83329d-a8f2-4744-f5ae-60938d0b9c25"
      },
      "source": [
        "populacao.index.str.split(\" \")"
      ],
      "execution_count": 5,
      "outputs": [
        {
          "output_type": "execute_result",
          "data": {
            "text/plain": [
              "Index([                ['São', 'Paulo'],              ['Minas', 'Gerais'],\n",
              "               ['Rio', 'de', 'Janeiro'],                        ['Bahia'],\n",
              "                             ['Paraná'],   ['Rio', 'Grande', 'do', 'Sul'],\n",
              "                         ['Pernambuco'],                        ['Ceará'],\n",
              "                               ['Pará'],            ['Santa', 'Catarina'],\n",
              "                           ['Maranhão'],                        ['Goiás'],\n",
              "                           ['Amazonas'],            ['Espírito', 'Santo'],\n",
              "                            ['Paraíba'], ['Rio', 'Grande', 'do', 'Norte'],\n",
              "                     ['Mato', 'Grosso'],                      ['Alagoas'],\n",
              "                              ['Piauí'],          ['Distrito', 'Federal'],\n",
              "        ['Mato', 'Grosso', 'do', 'Sul'],                      ['Sergipe'],\n",
              "                           ['Rondônia'],                    ['Tocantins'],\n",
              "                               ['Acre'],                        ['Amapá'],\n",
              "                            ['Roraima']],\n",
              "      dtype='object', name='uf')"
            ]
          },
          "metadata": {
            "tags": []
          },
          "execution_count": 5
        }
      ]
    },
    {
      "cell_type": "code",
      "metadata": {
        "colab": {
          "base_uri": "https://localhost:8080/"
        },
        "id": "AYP0YYBu73Fw",
        "outputId": "f0367cae-756b-4f62-cacf-5252b35b9d5c"
      },
      "source": [
        "populacao.index.str.lower()"
      ],
      "execution_count": 6,
      "outputs": [
        {
          "output_type": "execute_result",
          "data": {
            "text/plain": [
              "Index(['são paulo', 'minas gerais', 'rio de janeiro', 'bahia', 'paraná',\n",
              "       'rio grande do sul', 'pernambuco', 'ceará', 'pará', 'santa catarina',\n",
              "       'maranhão', 'goiás', 'amazonas', 'espírito santo', 'paraíba',\n",
              "       'rio grande do norte', 'mato grosso', 'alagoas', 'piauí',\n",
              "       'distrito federal', 'mato grosso do sul', 'sergipe', 'rondônia',\n",
              "       'tocantins', 'acre', 'amapá', 'roraima'],\n",
              "      dtype='object', name='uf')"
            ]
          },
          "metadata": {
            "tags": []
          },
          "execution_count": 6
        }
      ]
    },
    {
      "cell_type": "code",
      "metadata": {
        "colab": {
          "base_uri": "https://localhost:8080/"
        },
        "id": "UznyHgM278zC",
        "outputId": "efd5e134-5ae0-4f08-af7a-d44388f3241c"
      },
      "source": [
        "populacao.index.str.startswith('Mato')"
      ],
      "execution_count": 7,
      "outputs": [
        {
          "output_type": "execute_result",
          "data": {
            "text/plain": [
              "array([False, False, False, False, False, False, False, False, False,\n",
              "       False, False, False, False, False, False, False,  True, False,\n",
              "       False, False,  True, False, False, False, False, False, False])"
            ]
          },
          "metadata": {
            "tags": []
          },
          "execution_count": 7
        }
      ]
    },
    {
      "cell_type": "code",
      "metadata": {
        "colab": {
          "base_uri": "https://localhost:8080/"
        },
        "id": "dPejqkj-8MJp",
        "outputId": "e66d7bd3-5d12-4f99-a933-d1a91bafa7e0"
      },
      "source": [
        "populacao.index.str.rfind('Sul')"
      ],
      "execution_count": 8,
      "outputs": [
        {
          "output_type": "execute_result",
          "data": {
            "text/plain": [
              "Int64Index([-1, -1, -1, -1, -1, 14, -1, -1, -1, -1, -1, -1, -1, -1, -1, -1, -1,\n",
              "            -1, -1, -1, 15, -1, -1, -1, -1, -1, -1],\n",
              "           dtype='int64', name='uf')"
            ]
          },
          "metadata": {
            "tags": []
          },
          "execution_count": 8
        }
      ]
    },
    {
      "cell_type": "code",
      "metadata": {
        "colab": {
          "base_uri": "https://localhost:8080/"
        },
        "id": "zkMylFMhFmX-",
        "outputId": "52bdbb15-ebc3-4973-bccf-d56fb8dae4c2"
      },
      "source": [
        "populacao.index.str[3:]"
      ],
      "execution_count": 9,
      "outputs": [
        {
          "output_type": "execute_result",
          "data": {
            "text/plain": [
              "Index([' Paulo', 'as Gerais', ' de Janeiro', 'ia', 'aná', ' Grande do Sul',\n",
              "       'nambuco', 'rá', 'á', 'ta Catarina', 'anhão', 'ás', 'zonas',\n",
              "       'írito Santo', 'aíba', ' Grande do Norte', 'o Grosso', 'goas', 'uí',\n",
              "       'trito Federal', 'o Grosso do Sul', 'gipe', 'dônia', 'antins', 'e',\n",
              "       'pá', 'aima'],\n",
              "      dtype='object', name='uf')"
            ]
          },
          "metadata": {
            "tags": []
          },
          "execution_count": 9
        }
      ]
    },
    {
      "cell_type": "code",
      "metadata": {
        "colab": {
          "base_uri": "https://localhost:8080/"
        },
        "id": "Bf3QVWauFmcS",
        "outputId": "56b0cd66-c3eb-4295-fe84-89a5ea3ec0a2"
      },
      "source": [
        "populacao.index"
      ],
      "execution_count": 10,
      "outputs": [
        {
          "output_type": "execute_result",
          "data": {
            "text/plain": [
              "Index(['São Paulo', 'Minas Gerais', 'Rio de Janeiro', 'Bahia', 'Paraná',\n",
              "       'Rio Grande do Sul', 'Pernambuco', 'Ceará', 'Pará', 'Santa Catarina',\n",
              "       'Maranhão', 'Goiás', 'Amazonas', 'Espírito Santo', 'Paraíba',\n",
              "       'Rio Grande do Norte', 'Mato Grosso', 'Alagoas', 'Piauí',\n",
              "       'Distrito Federal', 'Mato Grosso do Sul', 'Sergipe', 'Rondônia',\n",
              "       'Tocantins', 'Acre', 'Amapá', 'Roraima'],\n",
              "      dtype='object', name='uf')"
            ]
          },
          "metadata": {
            "tags": []
          },
          "execution_count": 10
        }
      ]
    },
    {
      "cell_type": "markdown",
      "metadata": {
        "id": "l7QHnRvxbU1K"
      },
      "source": [
        "###Desafio 04 - Desenvolver uma função para a limpeza e tratamento dos dados, retornando duas tabelas \"população\" e \"unida\".\n"
      ]
    },
    {
      "cell_type": "code",
      "metadata": {
        "id": "ZP6NbcVK8l3h"
      },
      "source": [
        "def adiciona_populacao(gastos_fonte, populacao_fonte):\n",
        "  populacao = populacao_fonte.loc[:,['Unidade federativa','População']]\n",
        "  populacao['populacao']= populacao.loc[:,'População']\n",
        "  populacao['uf'] = populacao.loc[:,'Unidade federativa'] \n",
        "  populacao = populacao[['uf','populacao']]\n",
        "  populacao['populacao']= populacao['populacao'].str.replace(' ','').astype(int)\n",
        "  populacao.set_index('uf',inplace=True)\n",
        "  populacao.index.str.strip()\n",
        "\n",
        "  gastos = gastos_fonte.copy()\n",
        "  gastos.index = gastos_fonte.index\n",
        "\n",
        "  unida = populacao.join(gastos)\n",
        "  unida['gastos'] = unida[unida.columns[1]]\n",
        "  unida = unida.drop(unida.columns[1],axis=1)\n",
        "  return populacao,unida\n",
        "\n",
        "populacao, gastos_e_populacao = adiciona_populacao(gastos_do_mais_recente,tabela_populacao)\n"
      ],
      "execution_count": 11,
      "outputs": []
    },
    {
      "cell_type": "markdown",
      "metadata": {
        "id": "HoiNPsYRGLAk"
      },
      "source": [
        "##Aula 2"
      ]
    },
    {
      "cell_type": "markdown",
      "metadata": {
        "id": "Mdu-W1dlHC-W"
      },
      "source": [
        "###Desafio 01: Ordenar o gráfico e criar uma visualização de gastos por habitantes ordenada por habitante.\n",
        "\n"
      ]
    },
    {
      "cell_type": "code",
      "metadata": {
        "colab": {
          "base_uri": "https://localhost:8080/",
          "height": 388
        },
        "id": "HJpMYj9BHebb",
        "outputId": "00bf9ad2-5c53-4395-d327-293cf7f4da0f"
      },
      "source": [
        "gastos_e_populacao[\"gasto_por_habitante\"] = gastos_e_populacao[\"gastos\"]*1000000 / gastos_e_populacao[\"populacao\"]\n",
        "gastos_ordenado_por_populacao = gastos_e_populacao.sort_values('gastos',ascending=False)\n",
        "gastos_e_populacao['gasto_por_habitante'].plot(kind='bar')"
      ],
      "execution_count": 12,
      "outputs": [
        {
          "output_type": "execute_result",
          "data": {
            "text/plain": [
              "<matplotlib.axes._subplots.AxesSubplot at 0x7f9fafa9b978>"
            ]
          },
          "metadata": {
            "tags": []
          },
          "execution_count": 12
        },
        {
          "output_type": "display_data",
          "data": {
            "image/png": "[encoded data removed]",
            "text/plain": [
              "<Figure size 432x288 with 1 Axes>"
            ]
          },
          "metadata": {
            "tags": [],
            "needs_background": "light"
          }
        }
      ]
    },
    {
      "cell_type": "markdown",
      "metadata": {
        "id": "OOFXnU_oHDG2"
      },
      "source": [
        "###Desafio 02 (Super Desafio Gui): Fazer os mesmos gráficos do final da aulas 2.1 para meses anteriores, analisar e compartilhar suas hipóteses.\n",
        "\n"
      ]
    },
    {
      "cell_type": "code",
      "metadata": {
        "colab": {
          "base_uri": "https://localhost:8080/",
          "height": 388
        },
        "id": "b0LyDZNIiqR1",
        "outputId": "cf9a1c21-5c85-4ba7-94c4-26b7002b708a"
      },
      "source": [
        "mes_anterior_recente = ordenado_por_total.columns[-2]\n",
        "gastos_mes_anterior = ordenado_por_total[mes_anterior_recente]*1000000\n",
        "\n",
        "populacao, unida_anterior= adiciona_populacao(gastos_mes_anterior, tabela_populacao)\n",
        "unida_anterior['gasto_por_habitante'] = unida_anterior['gastos']/unida_anterior['populacao']\n",
        "\n",
        "unida_anterior['gasto_por_habitante'].plot(kind='bar')"
      ],
      "execution_count": 13,
      "outputs": [
        {
          "output_type": "execute_result",
          "data": {
            "text/plain": [
              "<matplotlib.axes._subplots.AxesSubplot at 0x7f9faf975cc0>"
            ]
          },
          "metadata": {
            "tags": []
          },
          "execution_count": 13
        },
        {
          "output_type": "display_data",
          "data": {
            "image/png": "[encoded data removed]",
            "text/plain": [
              "<Figure size 432x288 with 1 Axes>"
            ]
          },
          "metadata": {
            "tags": [],
            "needs_background": "light"
          }
        }
      ]
    },
    {
      "cell_type": "code",
      "metadata": {
        "colab": {
          "base_uri": "https://localhost:8080/",
          "height": 459
        },
        "id": "-csz-Qe6Q7oP",
        "outputId": "c66cb7a1-de37-4d92-8937-34ed877c4d22"
      },
      "source": [
        "import seaborn as sns\n",
        "\n",
        "plt.figure(figsize=(7,7))\n",
        "sns.scatterplot(data=unida_anterior/1000000 , x ='gastos', y='populacao')"
      ],
      "execution_count": 14,
      "outputs": [
        {
          "output_type": "execute_result",
          "data": {
            "text/plain": [
              "<matplotlib.axes._subplots.AxesSubplot at 0x7f9fa5467630>"
            ]
          },
          "metadata": {
            "tags": []
          },
          "execution_count": 14
        },
        {
          "output_type": "display_data",
          "data": {
            "image/png": "[encoded data removed]",
            "text/plain": [
              "<Figure size 504x504 with 1 Axes>"
            ]
          },
          "metadata": {
            "tags": [],
            "needs_background": "light"
          }
        }
      ]
    },
    {
      "cell_type": "code",
      "metadata": {
        "colab": {
          "base_uri": "https://localhost:8080/",
          "height": 296
        },
        "id": "KqLPEWzrkQv2",
        "outputId": "cbb2ce61-57c5-4027-d76f-09cd080f6a40"
      },
      "source": [
        "sns.scatterplot(data=unida_anterior, x=\"populacao\", y=\"gasto_por_habitante\")"
      ],
      "execution_count": 15,
      "outputs": [
        {
          "output_type": "execute_result",
          "data": {
            "text/plain": [
              "<matplotlib.axes._subplots.AxesSubplot at 0x7f9fa53f12b0>"
            ]
          },
          "metadata": {
            "tags": []
          },
          "execution_count": 15
        },
        {
          "output_type": "display_data",
          "data": {
            "image/png": "[encoded data removed]",
            "text/plain": [
              "<Figure size 432x288 with 1 Axes>"
            ]
          },
          "metadata": {
            "tags": [],
            "needs_background": "light"
          }
        }
      ]
    },
    {
      "cell_type": "markdown",
      "metadata": {
        "id": "-kDWcm5XHDcl"
      },
      "source": [
        "\n",
        "###Desafio 03 (Super Desafio Thiago): Plotar no mesmos gráficos do final da aula o mês anterior e o mês correte, analisar e compartilhar suas hipóteses.\n",
        "\n"
      ]
    },
    {
      "cell_type": "code",
      "metadata": {
        "id": "6UBNXXRPrvRy"
      },
      "source": [
        "def insere_gastos_e_gasto_por_habitante_para(todos_os_gastos: pd.DataFrame, dados: pd.DataFrame, mes: str):\n",
        "  gastos_do_mes = todos_os_gastos[mes]\n",
        "  gastos_do_mes.index = gastos_do_mes.index\n",
        "  dados[f\"gastos_{mes}\"] = gastos_do_mes \n",
        "  dados[f\"gasto_por_habitante_{mes}\"] = dados[f\"gastos_{mes}\"]*1000000/ dados[\"populacao\"]\n"
      ],
      "execution_count": 16,
      "outputs": []
    },
    {
      "cell_type": "code",
      "metadata": {
        "colab": {
          "base_uri": "https://localhost:8080/",
          "height": 306
        },
        "id": "K7uvQ8usMOKS",
        "outputId": "5d906ee4-b9df-487d-a7ca-2c0eb8b7d853"
      },
      "source": [
        "\r\n",
        "insere_gastos_e_gasto_por_habitante_para(ordenado_por_total,gastos_e_populacao,'2020/Mai')\r\n",
        "insere_gastos_e_gasto_por_habitante_para(ordenado_por_total,gastos_e_populacao,'2020/Jun')\r\n",
        "insere_gastos_e_gasto_por_habitante_para(ordenado_por_total,gastos_e_populacao,'2020/Jul')\r\n",
        "\r\n",
        "gastos_e_populacao.head()"
      ],
      "execution_count": 17,
      "outputs": [
        {
          "output_type": "execute_result",
          "data": {
            "text/html": [
              "<div>\n",
              "<style scoped>\n",
              "    .dataframe tbody tr th:only-of-type {\n",
              "        vertical-align: middle;\n",
              "    }\n",
              "\n",
              "    .dataframe tbody tr th {\n",
              "        vertical-align: top;\n",
              "    }\n",
              "\n",
              "    .dataframe thead th {\n",
              "        text-align: right;\n",
              "    }\n",
              "</style>\n",
              "<table border=\"1\" class=\"dataframe\">\n",
              "  <thead>\n",
              "    <tr style=\"text-align: right;\">\n",
              "      <th></th>\n",
              "      <th>populacao</th>\n",
              "      <th>gastos</th>\n",
              "      <th>gasto_por_habitante</th>\n",
              "      <th>gastos_2020/Mai</th>\n",
              "      <th>gasto_por_habitante_2020/Mai</th>\n",
              "      <th>gastos_2020/Jun</th>\n",
              "      <th>gasto_por_habitante_2020/Jun</th>\n",
              "      <th>gastos_2020/Jul</th>\n",
              "      <th>gasto_por_habitante_2020/Jul</th>\n",
              "    </tr>\n",
              "    <tr>\n",
              "      <th>uf</th>\n",
              "      <th></th>\n",
              "      <th></th>\n",
              "      <th></th>\n",
              "      <th></th>\n",
              "      <th></th>\n",
              "      <th></th>\n",
              "      <th></th>\n",
              "      <th></th>\n",
              "      <th></th>\n",
              "    </tr>\n",
              "  </thead>\n",
              "  <tbody>\n",
              "    <tr>\n",
              "      <th>São Paulo</th>\n",
              "      <td>46289333</td>\n",
              "      <td>282.709570</td>\n",
              "      <td>6.107445</td>\n",
              "      <td>302.857661</td>\n",
              "      <td>6.542710</td>\n",
              "      <td>299.060852</td>\n",
              "      <td>6.460686</td>\n",
              "      <td>282.709570</td>\n",
              "      <td>6.107445</td>\n",
              "    </tr>\n",
              "    <tr>\n",
              "      <th>Minas Gerais</th>\n",
              "      <td>21292666</td>\n",
              "      <td>120.467187</td>\n",
              "      <td>5.657685</td>\n",
              "      <td>136.867276</td>\n",
              "      <td>6.427907</td>\n",
              "      <td>135.977572</td>\n",
              "      <td>6.386122</td>\n",
              "      <td>120.467187</td>\n",
              "      <td>5.657685</td>\n",
              "    </tr>\n",
              "    <tr>\n",
              "      <th>Rio de Janeiro</th>\n",
              "      <td>17366189</td>\n",
              "      <td>71.540227</td>\n",
              "      <td>4.119512</td>\n",
              "      <td>86.281033</td>\n",
              "      <td>4.968334</td>\n",
              "      <td>77.604925</td>\n",
              "      <td>4.468737</td>\n",
              "      <td>71.540227</td>\n",
              "      <td>4.119512</td>\n",
              "    </tr>\n",
              "    <tr>\n",
              "      <th>Bahia</th>\n",
              "      <td>14930634</td>\n",
              "      <td>58.898100</td>\n",
              "      <td>3.944782</td>\n",
              "      <td>61.756776</td>\n",
              "      <td>4.136246</td>\n",
              "      <td>65.159301</td>\n",
              "      <td>4.364135</td>\n",
              "      <td>58.898100</td>\n",
              "      <td>3.944782</td>\n",
              "    </tr>\n",
              "    <tr>\n",
              "      <th>Paraná</th>\n",
              "      <td>11516840</td>\n",
              "      <td>80.320853</td>\n",
              "      <td>6.974209</td>\n",
              "      <td>106.103738</td>\n",
              "      <td>9.212921</td>\n",
              "      <td>92.901461</td>\n",
              "      <td>8.066576</td>\n",
              "      <td>80.320853</td>\n",
              "      <td>6.974209</td>\n",
              "    </tr>\n",
              "  </tbody>\n",
              "</table>\n",
              "</div>"
            ],
            "text/plain": [
              "                populacao  ...  gasto_por_habitante_2020/Jul\n",
              "uf                         ...                              \n",
              "São Paulo        46289333  ...                      6.107445\n",
              "Minas Gerais     21292666  ...                      5.657685\n",
              "Rio de Janeiro   17366189  ...                      4.119512\n",
              "Bahia            14930634  ...                      3.944782\n",
              "Paraná           11516840  ...                      6.974209\n",
              "\n",
              "[5 rows x 9 columns]"
            ]
          },
          "metadata": {
            "tags": []
          },
          "execution_count": 17
        }
      ]
    },
    {
      "cell_type": "code",
      "metadata": {
        "colab": {
          "base_uri": "https://localhost:8080/",
          "height": 204
        },
        "id": "M4wQPr57NHjH",
        "outputId": "252247ea-ddda-43b8-bac6-99aa93d055c7"
      },
      "source": [
        "gastos_mensais = gastos_e_populacao[['populacao',\r\n",
        "                    'gastos_2020/Mai',\r\n",
        "                    'gastos_2020/Jun',\r\n",
        "                    'gastos_2020/Jul']]\r\n",
        "\r\n",
        "gastos_mensais = gastos_mensais.reset_index()\r\n",
        "gastos_mensais_melt = gastos_mensais.melt(id_vars=['uf','populacao'],var_name='mes',value_name='valor')\r\n",
        "gastos_mensais_melt.head()"
      ],
      "execution_count": 18,
      "outputs": [
        {
          "output_type": "execute_result",
          "data": {
            "text/html": [
              "<div>\n",
              "<style scoped>\n",
              "    .dataframe tbody tr th:only-of-type {\n",
              "        vertical-align: middle;\n",
              "    }\n",
              "\n",
              "    .dataframe tbody tr th {\n",
              "        vertical-align: top;\n",
              "    }\n",
              "\n",
              "    .dataframe thead th {\n",
              "        text-align: right;\n",
              "    }\n",
              "</style>\n",
              "<table border=\"1\" class=\"dataframe\">\n",
              "  <thead>\n",
              "    <tr style=\"text-align: right;\">\n",
              "      <th></th>\n",
              "      <th>uf</th>\n",
              "      <th>populacao</th>\n",
              "      <th>mes</th>\n",
              "      <th>valor</th>\n",
              "    </tr>\n",
              "  </thead>\n",
              "  <tbody>\n",
              "    <tr>\n",
              "      <th>0</th>\n",
              "      <td>São Paulo</td>\n",
              "      <td>46289333</td>\n",
              "      <td>gastos_2020/Mai</td>\n",
              "      <td>302.857661</td>\n",
              "    </tr>\n",
              "    <tr>\n",
              "      <th>1</th>\n",
              "      <td>Minas Gerais</td>\n",
              "      <td>21292666</td>\n",
              "      <td>gastos_2020/Mai</td>\n",
              "      <td>136.867276</td>\n",
              "    </tr>\n",
              "    <tr>\n",
              "      <th>2</th>\n",
              "      <td>Rio de Janeiro</td>\n",
              "      <td>17366189</td>\n",
              "      <td>gastos_2020/Mai</td>\n",
              "      <td>86.281033</td>\n",
              "    </tr>\n",
              "    <tr>\n",
              "      <th>3</th>\n",
              "      <td>Bahia</td>\n",
              "      <td>14930634</td>\n",
              "      <td>gastos_2020/Mai</td>\n",
              "      <td>61.756776</td>\n",
              "    </tr>\n",
              "    <tr>\n",
              "      <th>4</th>\n",
              "      <td>Paraná</td>\n",
              "      <td>11516840</td>\n",
              "      <td>gastos_2020/Mai</td>\n",
              "      <td>106.103738</td>\n",
              "    </tr>\n",
              "  </tbody>\n",
              "</table>\n",
              "</div>"
            ],
            "text/plain": [
              "               uf  populacao              mes       valor\n",
              "0       São Paulo   46289333  gastos_2020/Mai  302.857661\n",
              "1    Minas Gerais   21292666  gastos_2020/Mai  136.867276\n",
              "2  Rio de Janeiro   17366189  gastos_2020/Mai   86.281033\n",
              "3           Bahia   14930634  gastos_2020/Mai   61.756776\n",
              "4          Paraná   11516840  gastos_2020/Mai  106.103738"
            ]
          },
          "metadata": {
            "tags": []
          },
          "execution_count": 18
        }
      ]
    },
    {
      "cell_type": "code",
      "metadata": {
        "colab": {
          "base_uri": "https://localhost:8080/",
          "height": 279
        },
        "id": "pnaRpMjRY7EZ",
        "outputId": "f2acd335-2401-479a-cc57-dd54499064a1"
      },
      "source": [
        "import seaborn as sns\n",
        "\n",
        "axis = sns.scatterplot(data = gastos_mensais_melt, x='populacao', y='valor', hue= 'mes')\n"
      ],
      "execution_count": 19,
      "outputs": [
        {
          "output_type": "display_data",
          "data": {
            "image/png": "[encoded data removed]",
            "text/plain": [
              "<Figure size 432x288 with 1 Axes>"
            ]
          },
          "metadata": {
            "tags": [],
            "needs_background": "light"
          }
        }
      ]
    },
    {
      "cell_type": "markdown",
      "metadata": {
        "id": "kQ3R56-bHZnJ"
      },
      "source": [
        "###Desafio 04 (Próximo Vídeo): Analise os gráficos e tente chegar a hipóteses que explicam o que você está entendendo dos dados. Lembre-se que a conclusão é uma hipótese. E que esses dados serão alterados.\n",
        " \n"
      ]
    },
    {
      "cell_type": "markdown",
      "metadata": {
        "id": "nvomhNejmtjM"
      },
      "source": [
        "## Aula 3"
      ]
    },
    {
      "cell_type": "code",
      "metadata": {
        "colab": {
          "base_uri": "https://localhost:8080/",
          "height": 258
        },
        "id": "ow_IlljLnkjh",
        "outputId": "164c6067-0d6b-4b49-acd7-2f85e67eb960"
      },
      "source": [
        "mensal = ordenado_por_total.T\r\n",
        "mensal.head()"
      ],
      "execution_count": 20,
      "outputs": [
        {
          "output_type": "execute_result",
          "data": {
            "text/html": [
              "<div>\n",
              "<style scoped>\n",
              "    .dataframe tbody tr th:only-of-type {\n",
              "        vertical-align: middle;\n",
              "    }\n",
              "\n",
              "    .dataframe tbody tr th {\n",
              "        vertical-align: top;\n",
              "    }\n",
              "\n",
              "    .dataframe thead th {\n",
              "        text-align: right;\n",
              "    }\n",
              "</style>\n",
              "<table border=\"1\" class=\"dataframe\">\n",
              "  <thead>\n",
              "    <tr style=\"text-align: right;\">\n",
              "      <th>Unidade da Federação</th>\n",
              "      <th>São Paulo</th>\n",
              "      <th>Minas Gerais</th>\n",
              "      <th>Paraná</th>\n",
              "      <th>Rio Grande do Sul</th>\n",
              "      <th>Rio de Janeiro</th>\n",
              "      <th>Bahia</th>\n",
              "      <th>Pernambuco</th>\n",
              "      <th>Santa Catarina</th>\n",
              "      <th>Ceará</th>\n",
              "      <th>Goiás</th>\n",
              "      <th>Pará</th>\n",
              "      <th>Maranhão</th>\n",
              "      <th>Espírito Santo</th>\n",
              "      <th>Rio Grande do Norte</th>\n",
              "      <th>Paraíba</th>\n",
              "      <th>Distrito Federal</th>\n",
              "      <th>Mato Grosso do Sul</th>\n",
              "      <th>Piauí</th>\n",
              "      <th>Alagoas</th>\n",
              "      <th>Mato Grosso</th>\n",
              "      <th>Amazonas</th>\n",
              "      <th>Sergipe</th>\n",
              "      <th>Tocantins</th>\n",
              "      <th>Rondônia</th>\n",
              "      <th>Acre</th>\n",
              "      <th>Roraima</th>\n",
              "      <th>Amapá</th>\n",
              "    </tr>\n",
              "  </thead>\n",
              "  <tbody>\n",
              "    <tr>\n",
              "      <th>2008/Fev</th>\n",
              "      <td>172.834915</td>\n",
              "      <td>70.301090</td>\n",
              "      <td>48.855046</td>\n",
              "      <td>45.897705</td>\n",
              "      <td>44.122593</td>\n",
              "      <td>33.410124</td>\n",
              "      <td>26.222079</td>\n",
              "      <td>24.409573</td>\n",
              "      <td>27.643305</td>\n",
              "      <td>18.149374</td>\n",
              "      <td>20.126081</td>\n",
              "      <td>13.452264</td>\n",
              "      <td>10.032886</td>\n",
              "      <td>9.110109</td>\n",
              "      <td>10.871590</td>\n",
              "      <td>10.215957</td>\n",
              "      <td>8.279289</td>\n",
              "      <td>9.711680</td>\n",
              "      <td>8.112220</td>\n",
              "      <td>7.929895</td>\n",
              "      <td>7.934652</td>\n",
              "      <td>4.636851</td>\n",
              "      <td>5.051932</td>\n",
              "      <td>1.940793</td>\n",
              "      <td>1.743979</td>\n",
              "      <td>0.771688</td>\n",
              "      <td>1.275064</td>\n",
              "    </tr>\n",
              "    <tr>\n",
              "      <th>2008/Mar</th>\n",
              "      <td>170.481850</td>\n",
              "      <td>79.119006</td>\n",
              "      <td>55.611791</td>\n",
              "      <td>52.928696</td>\n",
              "      <td>42.892666</td>\n",
              "      <td>41.301703</td>\n",
              "      <td>30.716362</td>\n",
              "      <td>27.483480</td>\n",
              "      <td>30.085370</td>\n",
              "      <td>20.992213</td>\n",
              "      <td>22.149376</td>\n",
              "      <td>14.750895</td>\n",
              "      <td>12.262049</td>\n",
              "      <td>10.126627</td>\n",
              "      <td>12.348758</td>\n",
              "      <td>11.627918</td>\n",
              "      <td>9.793889</td>\n",
              "      <td>10.428191</td>\n",
              "      <td>9.210506</td>\n",
              "      <td>9.416368</td>\n",
              "      <td>8.641517</td>\n",
              "      <td>5.017838</td>\n",
              "      <td>5.200152</td>\n",
              "      <td>1.955722</td>\n",
              "      <td>2.057439</td>\n",
              "      <td>0.876091</td>\n",
              "      <td>1.177746</td>\n",
              "    </tr>\n",
              "    <tr>\n",
              "      <th>2008/Abr</th>\n",
              "      <td>170.278286</td>\n",
              "      <td>79.046322</td>\n",
              "      <td>56.115136</td>\n",
              "      <td>51.972417</td>\n",
              "      <td>45.295963</td>\n",
              "      <td>42.826994</td>\n",
              "      <td>30.589333</td>\n",
              "      <td>27.806641</td>\n",
              "      <td>31.376221</td>\n",
              "      <td>21.049477</td>\n",
              "      <td>23.436683</td>\n",
              "      <td>15.148647</td>\n",
              "      <td>12.453467</td>\n",
              "      <td>10.964235</td>\n",
              "      <td>12.680965</td>\n",
              "      <td>11.922015</td>\n",
              "      <td>8.997543</td>\n",
              "      <td>10.227943</td>\n",
              "      <td>10.466692</td>\n",
              "      <td>9.390588</td>\n",
              "      <td>8.531576</td>\n",
              "      <td>5.265951</td>\n",
              "      <td>5.343715</td>\n",
              "      <td>2.143354</td>\n",
              "      <td>2.057830</td>\n",
              "      <td>0.896953</td>\n",
              "      <td>1.396372</td>\n",
              "    </tr>\n",
              "    <tr>\n",
              "      <th>2008/Mai</th>\n",
              "      <td>172.402181</td>\n",
              "      <td>79.268070</td>\n",
              "      <td>55.574832</td>\n",
              "      <td>51.679351</td>\n",
              "      <td>43.951349</td>\n",
              "      <td>42.071294</td>\n",
              "      <td>31.409553</td>\n",
              "      <td>28.354280</td>\n",
              "      <td>31.189905</td>\n",
              "      <td>19.162547</td>\n",
              "      <td>23.861081</td>\n",
              "      <td>14.543680</td>\n",
              "      <td>11.789786</td>\n",
              "      <td>11.032871</td>\n",
              "      <td>13.258412</td>\n",
              "      <td>11.900817</td>\n",
              "      <td>9.842109</td>\n",
              "      <td>10.562149</td>\n",
              "      <td>9.844096</td>\n",
              "      <td>9.378197</td>\n",
              "      <td>9.079902</td>\n",
              "      <td>5.367095</td>\n",
              "      <td>5.344488</td>\n",
              "      <td>2.280383</td>\n",
              "      <td>2.226578</td>\n",
              "      <td>1.027289</td>\n",
              "      <td>1.411521</td>\n",
              "    </tr>\n",
              "    <tr>\n",
              "      <th>2008/Jun</th>\n",
              "      <td>175.416596</td>\n",
              "      <td>79.608653</td>\n",
              "      <td>56.094755</td>\n",
              "      <td>53.759674</td>\n",
              "      <td>44.102926</td>\n",
              "      <td>39.910042</td>\n",
              "      <td>28.947511</td>\n",
              "      <td>28.993293</td>\n",
              "      <td>29.463965</td>\n",
              "      <td>20.332534</td>\n",
              "      <td>23.502916</td>\n",
              "      <td>14.553978</td>\n",
              "      <td>11.889687</td>\n",
              "      <td>10.450599</td>\n",
              "      <td>12.246686</td>\n",
              "      <td>11.969272</td>\n",
              "      <td>10.257782</td>\n",
              "      <td>10.465089</td>\n",
              "      <td>10.288668</td>\n",
              "      <td>9.450301</td>\n",
              "      <td>8.646296</td>\n",
              "      <td>4.981036</td>\n",
              "      <td>5.398413</td>\n",
              "      <td>2.624543</td>\n",
              "      <td>2.112577</td>\n",
              "      <td>0.938294</td>\n",
              "      <td>1.420892</td>\n",
              "    </tr>\n",
              "  </tbody>\n",
              "</table>\n",
              "</div>"
            ],
            "text/plain": [
              "Unidade da Federação   São Paulo  Minas Gerais  ...   Roraima     Amapá\n",
              "2008/Fev              172.834915     70.301090  ...  0.771688  1.275064\n",
              "2008/Mar              170.481850     79.119006  ...  0.876091  1.177746\n",
              "2008/Abr              170.278286     79.046322  ...  0.896953  1.396372\n",
              "2008/Mai              172.402181     79.268070  ...  1.027289  1.411521\n",
              "2008/Jun              175.416596     79.608653  ...  0.938294  1.420892\n",
              "\n",
              "[5 rows x 27 columns]"
            ]
          },
          "metadata": {
            "tags": []
          },
          "execution_count": 20
        }
      ]
    },
    {
      "cell_type": "markdown",
      "metadata": {
        "id": "evYwxru7m0BY"
      },
      "source": [
        "\r\n",
        "###Desafio 01: Fazer o scatter plot feito em aula para o seu estado, leia um pouco da documentação sobre este gráfico e teste alguns parâmetros.\r\n",
        "###Desafio 02: Formatar o eixo y colocando a escala em milhões usando o StrMethodFormatter, colocar um título e colocar o título nos 2 eixos, alterando os tamanhos dos títulos"
      ]
    },
    {
      "cell_type": "code",
      "metadata": {
        "colab": {
          "base_uri": "https://localhost:8080/",
          "height": 418
        },
        "id": "ggptVnlKqTwk",
        "outputId": "4c995880-b8af-49f3-a617-98507d8770a9"
      },
      "source": [
        "plt.figure(figsize=(10,6))\r\n",
        "ax = sns.lineplot(data=mensal*1000000, x=mensal.index, y='Pernambuco')\r\n",
        "plt.ylabel('Gastos', size=12)\r\n",
        "\r\n",
        "plt.xticks(rotation=30, size= 12)\r\n",
        "plt.ylim(0, 100000000)\r\n",
        "ax.yaxis.set_major_formatter(ticker.StrMethodFormatter('R${x:,.2f}'))\r\n",
        "ax.set_title('Internações por Sus em Pernambuco')\r\n",
        "ax.xaxis.set_major_locator(ticker.IndexLocator(base=12, offset=11))\r\n",
        "\r\n",
        "plt.show()\r\n"
      ],
      "execution_count": 21,
      "outputs": [
        {
          "output_type": "display_data",
          "data": {
            "image/png": "[encoded data removed]",
            "text/plain": [
              "<Figure size 720x432 with 1 Axes>"
            ]
          },
          "metadata": {
            "tags": [],
            "needs_background": "light"
          }
        }
      ]
    },
    {
      "cell_type": "markdown",
      "metadata": {
        "id": "F43neDmTwGtw"
      },
      "source": [
        "##Aula 4"
      ]
    },
    {
      "cell_type": "code",
      "metadata": {
        "id": "C6ZTTWYZwH_X"
      },
      "source": [
        "from datetime import date\r\n",
        "\r\n",
        "meses = {\r\n",
        "    \"Jan\" : 1,\r\n",
        "    \"Fev\" : 2,\r\n",
        "    \"Mar\" : 3,\r\n",
        "    \"Abr\" : 4,\r\n",
        "    \"Mai\" : 5,\r\n",
        "    \"Jun\" : 6,\r\n",
        "    \"Jul\" : 7,\r\n",
        "    \"Ago\" : 8,\r\n",
        "    \"Set\" : 9,\r\n",
        "    \"Out\" : 10,\r\n",
        "    \"Nov\" : 11,\r\n",
        "    \"Dez\" : 12\r\n",
        "}\r\n",
        "\r\n",
        "def para_dia(ano_mes: str):\r\n",
        "  ano: int = int(ano_mes[:4])\r\n",
        "  mes: str = ano_mes[5:]\r\n",
        "  mes_numero: int = meses[mes]\r\n",
        "  return date(ano, mes_numero, 1)\r\n",
        "\r\n",
        "mensal.index = mensal.index.map(para_dia)\r\n",
        "\r\n",
        "mensal_aberto = mensal.reset_index().melt(id_vars=[\"index\"], value_vars=mensal.columns)\r\n",
        "mensal_aberto.columns = [\"mes\", \"uf\", \"gasto\"]"
      ],
      "execution_count": 22,
      "outputs": []
    },
    {
      "cell_type": "markdown",
      "metadata": {
        "id": "9QUvVhIJwIXk"
      },
      "source": [
        "### Desafio 01: Estudar a documentação DateTime do Python, escolha dois métodos para se aprofundar faça alguns testes e compartilhe o conhecimento adquirido com seus colegas no Discord.\r\n",
        "\r\n"
      ]
    },
    {
      "cell_type": "code",
      "metadata": {
        "id": "i_e9jg6la7G8",
        "colab": {
          "base_uri": "https://localhost:8080/"
        },
        "outputId": "a5d74666-d0ea-4258-b1c4-9001ccbf3c17"
      },
      "source": [
        "from datetime import time\r\n",
        "from datetime import timedelta\r\n",
        "\r\n",
        "dt = date(2020,12,8)\r\n",
        "dt.toordinal()\r\n",
        "dt.isocalendar()\r\n",
        "\r\n",
        "tm = time(23,59)\r\n",
        "tm2 = time(10,10) \r\n",
        "\r\n",
        "delta = timedelta(days=1)\r\n",
        "\r\n",
        "dt + delta\r\n"
      ],
      "execution_count": 23,
      "outputs": [
        {
          "output_type": "execute_result",
          "data": {
            "text/plain": [
              "datetime.date(2020, 12, 9)"
            ]
          },
          "metadata": {
            "tags": []
          },
          "execution_count": 23
        }
      ]
    },
    {
      "cell_type": "markdown",
      "metadata": {
        "id": "nwafFCOvwXUG"
      },
      "source": [
        "\r\n",
        "###Desafio 02: Aprendemos a usar o Melt para desnormalizar sua base de dados, agora o desafio é realizar o processo contrário, voltar atrás partindo do mensal_aberto chegando no mensal.\r\n",
        "\r\n"
      ]
    },
    {
      "cell_type": "code",
      "metadata": {
        "colab": {
          "base_uri": "https://localhost:8080/",
          "height": 374
        },
        "id": "-Nwe6gMJhZ77",
        "outputId": "5cab5973-e61d-414b-c950-411fb47a99f0"
      },
      "source": [
        "colunas = mensal.index\r\n",
        "mensal_fechado= pd.pivot_table(mensal_aberto,index = 'mes', columns='uf',values = 'gasto', )\r\n",
        "mensal_fechado.head()"
      ],
      "execution_count": 24,
      "outputs": [
        {
          "output_type": "execute_result",
          "data": {
            "text/html": [
              "<div>\n",
              "<style scoped>\n",
              "    .dataframe tbody tr th:only-of-type {\n",
              "        vertical-align: middle;\n",
              "    }\n",
              "\n",
              "    .dataframe tbody tr th {\n",
              "        vertical-align: top;\n",
              "    }\n",
              "\n",
              "    .dataframe thead th {\n",
              "        text-align: right;\n",
              "    }\n",
              "</style>\n",
              "<table border=\"1\" class=\"dataframe\">\n",
              "  <thead>\n",
              "    <tr style=\"text-align: right;\">\n",
              "      <th>uf</th>\n",
              "      <th>Acre</th>\n",
              "      <th>Alagoas</th>\n",
              "      <th>Amapá</th>\n",
              "      <th>Amazonas</th>\n",
              "      <th>Bahia</th>\n",
              "      <th>Ceará</th>\n",
              "      <th>Distrito Federal</th>\n",
              "      <th>Espírito Santo</th>\n",
              "      <th>Goiás</th>\n",
              "      <th>Maranhão</th>\n",
              "      <th>Mato Grosso</th>\n",
              "      <th>Mato Grosso do Sul</th>\n",
              "      <th>Minas Gerais</th>\n",
              "      <th>Paraná</th>\n",
              "      <th>Paraíba</th>\n",
              "      <th>Pará</th>\n",
              "      <th>Pernambuco</th>\n",
              "      <th>Piauí</th>\n",
              "      <th>Rio Grande do Norte</th>\n",
              "      <th>Rio Grande do Sul</th>\n",
              "      <th>Rio de Janeiro</th>\n",
              "      <th>Rondônia</th>\n",
              "      <th>Roraima</th>\n",
              "      <th>Santa Catarina</th>\n",
              "      <th>Sergipe</th>\n",
              "      <th>São Paulo</th>\n",
              "      <th>Tocantins</th>\n",
              "    </tr>\n",
              "    <tr>\n",
              "      <th>mes</th>\n",
              "      <th></th>\n",
              "      <th></th>\n",
              "      <th></th>\n",
              "      <th></th>\n",
              "      <th></th>\n",
              "      <th></th>\n",
              "      <th></th>\n",
              "      <th></th>\n",
              "      <th></th>\n",
              "      <th></th>\n",
              "      <th></th>\n",
              "      <th></th>\n",
              "      <th></th>\n",
              "      <th></th>\n",
              "      <th></th>\n",
              "      <th></th>\n",
              "      <th></th>\n",
              "      <th></th>\n",
              "      <th></th>\n",
              "      <th></th>\n",
              "      <th></th>\n",
              "      <th></th>\n",
              "      <th></th>\n",
              "      <th></th>\n",
              "      <th></th>\n",
              "      <th></th>\n",
              "      <th></th>\n",
              "    </tr>\n",
              "  </thead>\n",
              "  <tbody>\n",
              "    <tr>\n",
              "      <th>2008-02-01</th>\n",
              "      <td>1.743979</td>\n",
              "      <td>8.112220</td>\n",
              "      <td>1.275064</td>\n",
              "      <td>7.934652</td>\n",
              "      <td>33.410124</td>\n",
              "      <td>27.643305</td>\n",
              "      <td>10.215957</td>\n",
              "      <td>10.032886</td>\n",
              "      <td>18.149374</td>\n",
              "      <td>13.452264</td>\n",
              "      <td>7.929895</td>\n",
              "      <td>8.279289</td>\n",
              "      <td>70.301090</td>\n",
              "      <td>48.855046</td>\n",
              "      <td>10.871590</td>\n",
              "      <td>20.126081</td>\n",
              "      <td>26.222079</td>\n",
              "      <td>9.711680</td>\n",
              "      <td>9.110109</td>\n",
              "      <td>45.897705</td>\n",
              "      <td>44.122593</td>\n",
              "      <td>1.940793</td>\n",
              "      <td>0.771688</td>\n",
              "      <td>24.409573</td>\n",
              "      <td>4.636851</td>\n",
              "      <td>172.834915</td>\n",
              "      <td>5.051932</td>\n",
              "    </tr>\n",
              "    <tr>\n",
              "      <th>2008-03-01</th>\n",
              "      <td>2.057439</td>\n",
              "      <td>9.210506</td>\n",
              "      <td>1.177746</td>\n",
              "      <td>8.641517</td>\n",
              "      <td>41.301703</td>\n",
              "      <td>30.085370</td>\n",
              "      <td>11.627918</td>\n",
              "      <td>12.262049</td>\n",
              "      <td>20.992213</td>\n",
              "      <td>14.750895</td>\n",
              "      <td>9.416368</td>\n",
              "      <td>9.793889</td>\n",
              "      <td>79.119006</td>\n",
              "      <td>55.611791</td>\n",
              "      <td>12.348758</td>\n",
              "      <td>22.149376</td>\n",
              "      <td>30.716362</td>\n",
              "      <td>10.428191</td>\n",
              "      <td>10.126627</td>\n",
              "      <td>52.928696</td>\n",
              "      <td>42.892666</td>\n",
              "      <td>1.955722</td>\n",
              "      <td>0.876091</td>\n",
              "      <td>27.483480</td>\n",
              "      <td>5.017838</td>\n",
              "      <td>170.481850</td>\n",
              "      <td>5.200152</td>\n",
              "    </tr>\n",
              "    <tr>\n",
              "      <th>2008-04-01</th>\n",
              "      <td>2.057830</td>\n",
              "      <td>10.466692</td>\n",
              "      <td>1.396372</td>\n",
              "      <td>8.531576</td>\n",
              "      <td>42.826994</td>\n",
              "      <td>31.376221</td>\n",
              "      <td>11.922015</td>\n",
              "      <td>12.453467</td>\n",
              "      <td>21.049477</td>\n",
              "      <td>15.148647</td>\n",
              "      <td>9.390588</td>\n",
              "      <td>8.997543</td>\n",
              "      <td>79.046322</td>\n",
              "      <td>56.115136</td>\n",
              "      <td>12.680965</td>\n",
              "      <td>23.436683</td>\n",
              "      <td>30.589333</td>\n",
              "      <td>10.227943</td>\n",
              "      <td>10.964235</td>\n",
              "      <td>51.972417</td>\n",
              "      <td>45.295963</td>\n",
              "      <td>2.143354</td>\n",
              "      <td>0.896953</td>\n",
              "      <td>27.806641</td>\n",
              "      <td>5.265951</td>\n",
              "      <td>170.278286</td>\n",
              "      <td>5.343715</td>\n",
              "    </tr>\n",
              "    <tr>\n",
              "      <th>2008-05-01</th>\n",
              "      <td>2.226578</td>\n",
              "      <td>9.844096</td>\n",
              "      <td>1.411521</td>\n",
              "      <td>9.079902</td>\n",
              "      <td>42.071294</td>\n",
              "      <td>31.189905</td>\n",
              "      <td>11.900817</td>\n",
              "      <td>11.789786</td>\n",
              "      <td>19.162547</td>\n",
              "      <td>14.543680</td>\n",
              "      <td>9.378197</td>\n",
              "      <td>9.842109</td>\n",
              "      <td>79.268070</td>\n",
              "      <td>55.574832</td>\n",
              "      <td>13.258412</td>\n",
              "      <td>23.861081</td>\n",
              "      <td>31.409553</td>\n",
              "      <td>10.562149</td>\n",
              "      <td>11.032871</td>\n",
              "      <td>51.679351</td>\n",
              "      <td>43.951349</td>\n",
              "      <td>2.280383</td>\n",
              "      <td>1.027289</td>\n",
              "      <td>28.354280</td>\n",
              "      <td>5.367095</td>\n",
              "      <td>172.402181</td>\n",
              "      <td>5.344488</td>\n",
              "    </tr>\n",
              "    <tr>\n",
              "      <th>2008-06-01</th>\n",
              "      <td>2.112577</td>\n",
              "      <td>10.288668</td>\n",
              "      <td>1.420892</td>\n",
              "      <td>8.646296</td>\n",
              "      <td>39.910042</td>\n",
              "      <td>29.463965</td>\n",
              "      <td>11.969272</td>\n",
              "      <td>11.889687</td>\n",
              "      <td>20.332534</td>\n",
              "      <td>14.553978</td>\n",
              "      <td>9.450301</td>\n",
              "      <td>10.257782</td>\n",
              "      <td>79.608653</td>\n",
              "      <td>56.094755</td>\n",
              "      <td>12.246686</td>\n",
              "      <td>23.502916</td>\n",
              "      <td>28.947511</td>\n",
              "      <td>10.465089</td>\n",
              "      <td>10.450599</td>\n",
              "      <td>53.759674</td>\n",
              "      <td>44.102926</td>\n",
              "      <td>2.624543</td>\n",
              "      <td>0.938294</td>\n",
              "      <td>28.993293</td>\n",
              "      <td>4.981036</td>\n",
              "      <td>175.416596</td>\n",
              "      <td>5.398413</td>\n",
              "    </tr>\n",
              "  </tbody>\n",
              "</table>\n",
              "</div>"
            ],
            "text/plain": [
              "uf              Acre    Alagoas     Amapá  ...   Sergipe   São Paulo  Tocantins\n",
              "mes                                        ...                                 \n",
              "2008-02-01  1.743979   8.112220  1.275064  ...  4.636851  172.834915   5.051932\n",
              "2008-03-01  2.057439   9.210506  1.177746  ...  5.017838  170.481850   5.200152\n",
              "2008-04-01  2.057830  10.466692  1.396372  ...  5.265951  170.278286   5.343715\n",
              "2008-05-01  2.226578   9.844096  1.411521  ...  5.367095  172.402181   5.344488\n",
              "2008-06-01  2.112577  10.288668  1.420892  ...  4.981036  175.416596   5.398413\n",
              "\n",
              "[5 rows x 27 columns]"
            ]
          },
          "metadata": {
            "tags": []
          },
          "execution_count": 24
        }
      ]
    },
    {
      "cell_type": "markdown",
      "metadata": {
        "id": "eA7uMy6Kwee7"
      },
      "source": [
        "###Desafio 03: Melhorar o gráfico da distribuição do gráfico:\r\n",
        "\r\n",
        "Escolha apenas alguns estados.\r\n",
        "Mude a palete de cores.\r\n",
        "Posicione a legenda de forma mais adequada.\r\n",
        "Adicione título principal e nos eixos x e y.\r\n"
      ]
    },
    {
      "cell_type": "code",
      "metadata": {
        "id": "d2srb7hhaw8m",
        "colab": {
          "base_uri": "https://localhost:8080/",
          "height": 403
        },
        "outputId": "3894d0f6-1014-4ac9-bea6-050c5fa311fe"
      },
      "source": [
        "plt.figure(figsize=(10,6))\r\n",
        "mensal_filtro = mensal_aberto.query('uf == \"São Paulo\" or uf == \"Minas Gerais\" or uf == \"Rio de Janeiro\" or uf == \"Espírito Santo\"')\r\n",
        "ax = sns.lineplot(data=mensal_filtro, x=\"mes\", y=\"gasto\", hue=\"uf\")\r\n",
        "plt.xticks(rotation=30)\r\n",
        "plt.ylim(0, 350)\r\n",
        "plt.grid(linestyle=\"--\")\r\n",
        "plt.show()"
      ],
      "execution_count": 54,
      "outputs": [
        {
          "output_type": "display_data",
          "data": {
            "image/png": "[encoded data removed]",
            "text/plain": [
              "<Figure size 720x432 with 1 Axes>"
            ]
          },
          "metadata": {
            "tags": [],
            "needs_background": "light"
          }
        }
      ]
    },
    {
      "cell_type": "code",
      "metadata": {
        "colab": {
          "base_uri": "https://localhost:8080/",
          "height": 282
        },
        "id": "E51a9Ng3pjd3",
        "outputId": "4f986848-b4c8-4a1e-abea-f2ec99ebab9d"
      },
      "source": [
        "\r\n"
      ],
      "execution_count": 43,
      "outputs": [
        {
          "output_type": "error",
          "ename": "ValueError",
          "evalue": "ignored",
          "traceback": [
            "\u001b[0;31m---------------------------------------------------------------------------\u001b[0m",
            "\u001b[0;31mValueError\u001b[0m                                Traceback (most recent call last)",
            "\u001b[0;32m<ipython-input-43-deb8fd732678>\u001b[0m in \u001b[0;36m<module>\u001b[0;34m()\u001b[0m\n\u001b[0;32m----> 1\u001b[0;31m \u001b[0mquery\u001b[0m \u001b[0;34m=\u001b[0m \u001b[0;34m(\u001b[0m\u001b[0mmensal_aberto\u001b[0m\u001b[0;34m[\u001b[0m\u001b[0;34m'uf'\u001b[0m\u001b[0;34m]\u001b[0m\u001b[0;34m==\u001b[0m\u001b[0;34m'São Paulo'\u001b[0m\u001b[0;34m)\u001b[0m \u001b[0;32mor\u001b[0m \u001b[0;34m(\u001b[0m\u001b[0mmensal_aberto\u001b[0m\u001b[0;34m[\u001b[0m\u001b[0;34m'uf'\u001b[0m\u001b[0;34m]\u001b[0m\u001b[0;34m==\u001b[0m\u001b[0;34m'Rio de Janeiro'\u001b[0m\u001b[0;34m)\u001b[0m\u001b[0;34m\u001b[0m\u001b[0;34m\u001b[0m\u001b[0m\n\u001b[0m",
            "\u001b[0;32m/usr/local/lib/python3.6/dist-packages/pandas/core/generic.py\u001b[0m in \u001b[0;36m__nonzero__\u001b[0;34m(self)\u001b[0m\n\u001b[1;32m   1328\u001b[0m     \u001b[0;32mdef\u001b[0m \u001b[0m__nonzero__\u001b[0m\u001b[0;34m(\u001b[0m\u001b[0mself\u001b[0m\u001b[0;34m)\u001b[0m\u001b[0;34m:\u001b[0m\u001b[0;34m\u001b[0m\u001b[0;34m\u001b[0m\u001b[0m\n\u001b[1;32m   1329\u001b[0m         raise ValueError(\n\u001b[0;32m-> 1330\u001b[0;31m             \u001b[0;34mf\"The truth value of a {type(self).__name__} is ambiguous. \"\u001b[0m\u001b[0;34m\u001b[0m\u001b[0;34m\u001b[0m\u001b[0m\n\u001b[0m\u001b[1;32m   1331\u001b[0m             \u001b[0;34m\"Use a.empty, a.bool(), a.item(), a.any() or a.all().\"\u001b[0m\u001b[0;34m\u001b[0m\u001b[0;34m\u001b[0m\u001b[0m\n\u001b[1;32m   1332\u001b[0m         )\n",
            "\u001b[0;31mValueError\u001b[0m: The truth value of a Series is ambiguous. Use a.empty, a.bool(), a.item(), a.any() or a.all()."
          ]
        }
      ]
    },
    {
      "cell_type": "code",
      "metadata": {
        "id": "5D0O4OALqDrI"
      },
      "source": [
        ""
      ],
      "execution_count": null,
      "outputs": []
    }
  ]
}