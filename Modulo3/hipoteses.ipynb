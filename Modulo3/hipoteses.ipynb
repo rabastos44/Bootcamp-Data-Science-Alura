{
  "nbformat": 4,
  "nbformat_minor": 0,
  "metadata": {
    "kernelspec": {
      "display_name": "Python 3",
      "language": "python",
      "name": "python3"
    },
    "language_info": {
      "codemirror_mode": {
        "name": "ipython",
        "version": 3
      },
      "file_extension": ".py",
      "mimetype": "text/x-python",
      "name": "python",
      "nbconvert_exporter": "python",
      "pygments_lexer": "ipython3",
      "version": "3.7.7"
    },
    "colab": {
      "name": "hipoteses.ipynb",
      "provenance": [],
      "toc_visible": true,
      "include_colab_link": true
    }
  },
  "cells": [
    {
      "cell_type": "markdown",
      "metadata": {
        "id": "view-in-github",
        "colab_type": "text"
      },
      "source": [
        "<a href=\"https://colab.research.google.com/github/rabastos44/Bootcamp-Data-Science-Alura/blob/master/Modulo3/hipoteses.ipynb\" target=\"_parent\"><img src=\"https://colab.research.google.com/assets/colab-badge.svg\" alt=\"Open In Colab\"/></a>"
      ]
    },
    {
      "cell_type": "code",
      "metadata": {
        "id": "Ojoydn0dMMcU"
      },
      "source": [
        "url = 'https://raw.githubusercontent.com/allanspadini/linear_estatistica/main/winequality-red.csv'"
      ],
      "execution_count": null,
      "outputs": []
    },
    {
      "cell_type": "code",
      "metadata": {
        "id": "XZhOmCFoMMcZ"
      },
      "source": [
        "import pandas as pd"
      ],
      "execution_count": null,
      "outputs": []
    },
    {
      "cell_type": "code",
      "metadata": {
        "id": "8eJjFxRgMMcZ"
      },
      "source": [
        "vinho = pd.read_csv(url, sep=';')"
      ],
      "execution_count": null,
      "outputs": []
    },
    {
      "cell_type": "code",
      "metadata": {
        "id": "dqoL-nxXMMca",
        "colab": {
          "base_uri": "https://localhost:8080/",
          "height": 258
        },
        "outputId": "c328bb06-8c2f-4538-d017-9239a702e947"
      },
      "source": [
        "vinho.head()"
      ],
      "execution_count": null,
      "outputs": [
        {
          "output_type": "execute_result",
          "data": {
            "text/html": [
              "<div>\n",
              "<style scoped>\n",
              "    .dataframe tbody tr th:only-of-type {\n",
              "        vertical-align: middle;\n",
              "    }\n",
              "\n",
              "    .dataframe tbody tr th {\n",
              "        vertical-align: top;\n",
              "    }\n",
              "\n",
              "    .dataframe thead th {\n",
              "        text-align: right;\n",
              "    }\n",
              "</style>\n",
              "<table border=\"1\" class=\"dataframe\">\n",
              "  <thead>\n",
              "    <tr style=\"text-align: right;\">\n",
              "      <th></th>\n",
              "      <th>fixed acidity</th>\n",
              "      <th>volatile acidity</th>\n",
              "      <th>citric acid</th>\n",
              "      <th>residual sugar</th>\n",
              "      <th>chlorides</th>\n",
              "      <th>free sulfur dioxide</th>\n",
              "      <th>total sulfur dioxide</th>\n",
              "      <th>density</th>\n",
              "      <th>pH</th>\n",
              "      <th>sulphates</th>\n",
              "      <th>alcohol</th>\n",
              "      <th>quality</th>\n",
              "    </tr>\n",
              "  </thead>\n",
              "  <tbody>\n",
              "    <tr>\n",
              "      <th>0</th>\n",
              "      <td>7.4</td>\n",
              "      <td>0.70</td>\n",
              "      <td>0.00</td>\n",
              "      <td>1.9</td>\n",
              "      <td>0.076</td>\n",
              "      <td>11.0</td>\n",
              "      <td>34.0</td>\n",
              "      <td>0.9978</td>\n",
              "      <td>3.51</td>\n",
              "      <td>0.56</td>\n",
              "      <td>9.4</td>\n",
              "      <td>5</td>\n",
              "    </tr>\n",
              "    <tr>\n",
              "      <th>1</th>\n",
              "      <td>7.8</td>\n",
              "      <td>0.88</td>\n",
              "      <td>0.00</td>\n",
              "      <td>2.6</td>\n",
              "      <td>0.098</td>\n",
              "      <td>25.0</td>\n",
              "      <td>67.0</td>\n",
              "      <td>0.9968</td>\n",
              "      <td>3.20</td>\n",
              "      <td>0.68</td>\n",
              "      <td>9.8</td>\n",
              "      <td>5</td>\n",
              "    </tr>\n",
              "    <tr>\n",
              "      <th>2</th>\n",
              "      <td>7.8</td>\n",
              "      <td>0.76</td>\n",
              "      <td>0.04</td>\n",
              "      <td>2.3</td>\n",
              "      <td>0.092</td>\n",
              "      <td>15.0</td>\n",
              "      <td>54.0</td>\n",
              "      <td>0.9970</td>\n",
              "      <td>3.26</td>\n",
              "      <td>0.65</td>\n",
              "      <td>9.8</td>\n",
              "      <td>5</td>\n",
              "    </tr>\n",
              "    <tr>\n",
              "      <th>3</th>\n",
              "      <td>11.2</td>\n",
              "      <td>0.28</td>\n",
              "      <td>0.56</td>\n",
              "      <td>1.9</td>\n",
              "      <td>0.075</td>\n",
              "      <td>17.0</td>\n",
              "      <td>60.0</td>\n",
              "      <td>0.9980</td>\n",
              "      <td>3.16</td>\n",
              "      <td>0.58</td>\n",
              "      <td>9.8</td>\n",
              "      <td>6</td>\n",
              "    </tr>\n",
              "    <tr>\n",
              "      <th>4</th>\n",
              "      <td>7.4</td>\n",
              "      <td>0.70</td>\n",
              "      <td>0.00</td>\n",
              "      <td>1.9</td>\n",
              "      <td>0.076</td>\n",
              "      <td>11.0</td>\n",
              "      <td>34.0</td>\n",
              "      <td>0.9978</td>\n",
              "      <td>3.51</td>\n",
              "      <td>0.56</td>\n",
              "      <td>9.4</td>\n",
              "      <td>5</td>\n",
              "    </tr>\n",
              "  </tbody>\n",
              "</table>\n",
              "</div>"
            ],
            "text/plain": [
              "   fixed acidity  volatile acidity  citric acid  ...  sulphates  alcohol  quality\n",
              "0            7.4              0.70         0.00  ...       0.56      9.4        5\n",
              "1            7.8              0.88         0.00  ...       0.68      9.8        5\n",
              "2            7.8              0.76         0.04  ...       0.65      9.8        5\n",
              "3           11.2              0.28         0.56  ...       0.58      9.8        6\n",
              "4            7.4              0.70         0.00  ...       0.56      9.4        5\n",
              "\n",
              "[5 rows x 12 columns]"
            ]
          },
          "metadata": {
            "tags": []
          },
          "execution_count": 4
        }
      ]
    },
    {
      "cell_type": "markdown",
      "metadata": {
        "id": "c4UV3eqTMMca"
      },
      "source": [
        "## Teste de normalidade"
      ]
    },
    {
      "cell_type": "code",
      "metadata": {
        "id": "id7eaNCOMMcb",
        "colab": {
          "base_uri": "https://localhost:8080/",
          "height": 282
        },
        "outputId": "a4bb9253-fd49-4e12-9a36-738a9c0fda4b"
      },
      "source": [
        "vinho['density'].hist(bins=50)"
      ],
      "execution_count": null,
      "outputs": [
        {
          "output_type": "execute_result",
          "data": {
            "text/plain": [
              "<matplotlib.axes._subplots.AxesSubplot at 0x7f2e685b7ef0>"
            ]
          },
          "metadata": {
            "tags": []
          },
          "execution_count": 5
        },
        {
          "output_type": "display_data",
          "data": {
            "image/png": "[encoded data removed]",
            "text/plain": [
              "<Figure size 432x288 with 1 Axes>"
            ]
          },
          "metadata": {
            "tags": [],
            "needs_background": "light"
          }
        }
      ]
    },
    {
      "cell_type": "code",
      "metadata": {
        "id": "A64cvNTOMMcb"
      },
      "source": [
        "from scipy.stats import normaltest"
      ],
      "execution_count": null,
      "outputs": []
    },
    {
      "cell_type": "markdown",
      "metadata": {
        "id": "l45ZEQU5MMcb"
      },
      "source": [
        "O normaltest testa a hipótese nula $H_0$ de que a amostra é proveniente de uma distribuição normal. "
      ]
    },
    {
      "cell_type": "markdown",
      "metadata": {
        "id": "2lfNvPudMMcc"
      },
      "source": [
        "### Significância ($\\alpha$)"
      ]
    },
    {
      "cell_type": "code",
      "metadata": {
        "id": "27VhC4Q_MMcc"
      },
      "source": [
        "significancia = 0.05"
      ],
      "execution_count": null,
      "outputs": []
    },
    {
      "cell_type": "markdown",
      "metadata": {
        "id": "evktdufWMMcc"
      },
      "source": [
        "### Rejeitamos $H_0$ se o valor $p \\leq 0,05$ e aceitamos a hipótese alternativa $H_1$"
      ]
    },
    {
      "cell_type": "code",
      "metadata": {
        "id": "YgR_sSyYMMcc"
      },
      "source": [
        "stat_test,p_valor= normaltest(vinho['density'])"
      ],
      "execution_count": null,
      "outputs": []
    },
    {
      "cell_type": "code",
      "metadata": {
        "id": "CBpWUMs2MMcd",
        "colab": {
          "base_uri": "https://localhost:8080/"
        },
        "outputId": "0d0b426f-6954-4d41-c8ea-0b8d83aca88c"
      },
      "source": [
        "stat_test"
      ],
      "execution_count": null,
      "outputs": [
        {
          "output_type": "execute_result",
          "data": {
            "text/plain": [
              "30.707749940958617"
            ]
          },
          "metadata": {
            "tags": []
          },
          "execution_count": 9
        }
      ]
    },
    {
      "cell_type": "code",
      "metadata": {
        "id": "8zdu4n-pMMcd",
        "colab": {
          "base_uri": "https://localhost:8080/"
        },
        "outputId": "c1ad7a45-da4e-4c3f-b4a4-a9c84b9ae91f"
      },
      "source": [
        "p_valor <= significancia"
      ],
      "execution_count": null,
      "outputs": [
        {
          "output_type": "execute_result",
          "data": {
            "text/plain": [
              "True"
            ]
          },
          "metadata": {
            "tags": []
          },
          "execution_count": 10
        }
      ]
    },
    {
      "cell_type": "code",
      "metadata": {
        "id": "ibmm_HriMMcd"
      },
      "source": [
        "import numpy as np"
      ],
      "execution_count": null,
      "outputs": []
    },
    {
      "cell_type": "code",
      "metadata": {
        "id": "DBx1lXRTMMcd"
      },
      "source": [
        "media, escala = 0, 0.1"
      ],
      "execution_count": null,
      "outputs": []
    },
    {
      "cell_type": "code",
      "metadata": {
        "id": "nea6b7eGMMce"
      },
      "source": [
        "dist_normal = np.random.normal(media, escala,1000)"
      ],
      "execution_count": null,
      "outputs": []
    },
    {
      "cell_type": "code",
      "metadata": {
        "id": "b93PAv0rMMce",
        "colab": {
          "base_uri": "https://localhost:8080/"
        },
        "outputId": "400b7371-c4da-4597-9c7b-aa4d7b855050"
      },
      "source": [
        "normaltest(dist_normal)"
      ],
      "execution_count": null,
      "outputs": [
        {
          "output_type": "execute_result",
          "data": {
            "text/plain": [
              "NormaltestResult(statistic=1.2040726146679055, pvalue=0.5476952239993289)"
            ]
          },
          "metadata": {
            "tags": []
          },
          "execution_count": 14
        }
      ]
    },
    {
      "cell_type": "markdown",
      "metadata": {
        "id": "5hS1ZxBnMMce"
      },
      "source": [
        "## Testes paramétricos"
      ]
    },
    {
      "cell_type": "markdown",
      "metadata": {
        "id": "vAJQf6JtoNk5"
      },
      "source": [
        "### Teste Bicaudal"
      ]
    },
    {
      "cell_type": "markdown",
      "metadata": {
        "id": "6YiOa5kBoWHH"
      },
      "source": [
        "Este teste é muito utilizado em **testes de qualidade**. Outro exemplo é a avaliação de peças que devem ter um encaixe perfeito (porcas e parafusos, chaves e fechaduras)."
      ]
    },
    {
      "cell_type": "markdown",
      "metadata": {
        "id": "NyA0NufxoqL1"
      },
      "source": [
        "### <font color='red'>Problema</font>"
      ]
    },
    {
      "cell_type": "markdown",
      "metadata": {
        "id": "IZ2tc7mpowxD"
      },
      "source": [
        "Nossa produtora de vinhos produz garrafas de 500 ml. Seu processo de produção é quase todo automatizado e as garrafas são preenchidas por uma máquina que às vezes apresenta um certo desajuste, levando a erros no preenchimento das mesmas para mais ou menos conteúdo. Quando o volume médio cai abaixo de 500 ml, a empresa se preocupa em perder vendas e ter problemas com os orgãos fiscalizadores. Quando o volume passa de 500 ml, a empresa começa a se preocupar com prejuízos no processo de produção.\n",
        "\n",
        "O setor de controle de qualidade da empresa extrai, periodicamente, amostras de 50 garrafas para monitorar o processo de produção. Para cada amostra, é realizado um teste de hipóteses para avaliar se o maquinário se desajustou. A equipe de controle de qualidade assume um nível de significância de 5%.\n",
        "\n",
        "Suponha agora que uma amostra de 50 embalagens foi selecionada e que a média amostral observada foi de 503,24 ml. Esse valor de média amostral é suficientemente maior que 500 ml para nos fazer rejeitar a hipótese de que a média do processo é de 500 ml ao nível de significância de 5%?"
      ]
    },
    {
      "cell_type": "markdown",
      "metadata": {
        "id": "YMMHUUGUpDWz"
      },
      "source": [
        "![Teste Bicaudal](https://caelum-online-public.s3.amazonaws.com/1229-estatistica-parte3/01/img005.png)"
      ]
    },
    {
      "cell_type": "code",
      "metadata": {
        "id": "RrKAmb-vMMce"
      },
      "source": [
        "amostra = [509, 505, 495, 510, 496, 509, 497, 502, 503, 505, \n",
        "           501, 505, 510, 505, 504, 497, 506, 506, 508, 505, \n",
        "           497, 504, 500, 498, 506, 496, 508, 497, 503, 501, \n",
        "           503, 506, 499, 498, 509, 507, 503, 499, 509, 495, \n",
        "           502, 505, 504, 509, 508, 501, 505, 497, 508, 507]"
      ],
      "execution_count": null,
      "outputs": []
    },
    {
      "cell_type": "code",
      "metadata": {
        "id": "vDB-BpJQMMce",
        "colab": {
          "base_uri": "https://localhost:8080/"
        },
        "outputId": "9d1f8a68-59ae-4b0b-a481-0fa21b2fa9b4"
      },
      "source": [
        "amostra = pd.DataFrame(amostra, columns=['Amostra'])\n",
        "amostra.head()"
      ],
      "execution_count": null,
      "outputs": [
        {
          "output_type": "execute_result",
          "data": {
            "text/html": [
              "<div>\n",
              "<style scoped>\n",
              "    .dataframe tbody tr th:only-of-type {\n",
              "        vertical-align: middle;\n",
              "    }\n",
              "\n",
              "    .dataframe tbody tr th {\n",
              "        vertical-align: top;\n",
              "    }\n",
              "\n",
              "    .dataframe thead th {\n",
              "        text-align: right;\n",
              "    }\n",
              "</style>\n",
              "<table border=\"1\" class=\"dataframe\">\n",
              "  <thead>\n",
              "    <tr style=\"text-align: right;\">\n",
              "      <th></th>\n",
              "      <th>Amostra</th>\n",
              "    </tr>\n",
              "  </thead>\n",
              "  <tbody>\n",
              "    <tr>\n",
              "      <th>0</th>\n",
              "      <td>509</td>\n",
              "    </tr>\n",
              "    <tr>\n",
              "      <th>1</th>\n",
              "      <td>505</td>\n",
              "    </tr>\n",
              "    <tr>\n",
              "      <th>2</th>\n",
              "      <td>495</td>\n",
              "    </tr>\n",
              "    <tr>\n",
              "      <th>3</th>\n",
              "      <td>510</td>\n",
              "    </tr>\n",
              "    <tr>\n",
              "      <th>4</th>\n",
              "      <td>496</td>\n",
              "    </tr>\n",
              "  </tbody>\n",
              "</table>\n",
              "</div>"
            ],
            "text/plain": [
              "   Amostra\n",
              "0      509\n",
              "1      505\n",
              "2      495\n",
              "3      510\n",
              "4      496"
            ]
          },
          "metadata": {
            "tags": []
          },
          "execution_count": 16
        }
      ]
    },
    {
      "cell_type": "code",
      "metadata": {
        "id": "w4xKHVSCqnPz",
        "colab": {
          "base_uri": "https://localhost:8080/"
        },
        "outputId": "511a8ce4-e550-4d52-a54b-0c3373fd5cd4"
      },
      "source": [
        "media_amostra = amostra.mean()[0]\n",
        "media_amostra"
      ],
      "execution_count": null,
      "outputs": [
        {
          "output_type": "execute_result",
          "data": {
            "text/plain": [
              "503.24"
            ]
          },
          "metadata": {
            "tags": []
          },
          "execution_count": 17
        }
      ]
    },
    {
      "cell_type": "code",
      "metadata": {
        "id": "bbRQMUbjqp0M",
        "colab": {
          "base_uri": "https://localhost:8080/"
        },
        "outputId": "a82af2cd-b40f-4727-9951-ab5d75dad9a2"
      },
      "source": [
        "desvio_padrao_amostra = amostra.std()[0]\n",
        "desvio_padrao_amostra"
      ],
      "execution_count": null,
      "outputs": [
        {
          "output_type": "execute_result",
          "data": {
            "text/plain": [
              "4.483803050527347"
            ]
          },
          "metadata": {
            "tags": []
          },
          "execution_count": 18
        }
      ]
    },
    {
      "cell_type": "code",
      "metadata": {
        "id": "RXp5L61PrBU6"
      },
      "source": [
        "media = 500\n",
        "significancia = 0.05\n",
        "confianca = 1 - significancia\n",
        "n = 50"
      ],
      "execution_count": null,
      "outputs": []
    },
    {
      "cell_type": "markdown",
      "metadata": {
        "id": "rXfM0wacrHdz"
      },
      "source": [
        "### **Passo 1** - formulação das hipóteses $H_0$ e $H_1$\n",
        "\n",
        "#### <font color='red'>Lembre-se, a hipótese nula sempre contém a alegação de igualdade</font>"
      ]
    },
    {
      "cell_type": "markdown",
      "metadata": {
        "id": "C-j-kR57rOJA"
      },
      "source": [
        "### $H_0: \\mu = 500$\n",
        "\n",
        "### $H_1: \\mu \\neq 500$"
      ]
    },
    {
      "cell_type": "markdown",
      "metadata": {
        "id": "X9eAzI8lrVrL"
      },
      "source": [
        "### **Passo 2** - escolha da distribuição amostral adequada\n",
        "<img src='https://caelum-online-public.s3.amazonaws.com/1229-estatistica-parte3/01/img003.png' width=70%>"
      ]
    },
    {
      "cell_type": "markdown",
      "metadata": {
        "id": "v2-DrHAUruVH"
      },
      "source": [
        "### O tamanho da amostra é maior que 30?\n",
        "#### Resp.: Sim\n",
        "\n",
        "### O desvio padrão populacional é conhecido?\n",
        "#### Resp.: Não"
      ]
    },
    {
      "cell_type": "markdown",
      "metadata": {
        "id": "Q0Et3ySIsbr_"
      },
      "source": [
        "### **Passo 3** - fixação da significância do teste ($\\alpha$)"
      ]
    },
    {
      "cell_type": "code",
      "metadata": {
        "id": "2QcZLj5HrDYO"
      },
      "source": [
        "from scipy.stats import norm"
      ],
      "execution_count": null,
      "outputs": []
    },
    {
      "cell_type": "code",
      "metadata": {
        "id": "nbfdgeeasgIs",
        "colab": {
          "base_uri": "https://localhost:8080/"
        },
        "outputId": "47db7af0-f08e-4f8c-e776-3936d0755f22"
      },
      "source": [
        "probabilidade = (0.5 + (confianca / 2))\n",
        "probabilidade"
      ],
      "execution_count": null,
      "outputs": [
        {
          "output_type": "execute_result",
          "data": {
            "text/plain": [
              "0.975"
            ]
          },
          "metadata": {
            "tags": []
          },
          "execution_count": 21
        }
      ]
    },
    {
      "cell_type": "markdown",
      "metadata": {
        "id": "SE_1AoZWsobi"
      },
      "source": [
        "### Obtendo $z_{\\alpha/2}$"
      ]
    },
    {
      "cell_type": "code",
      "metadata": {
        "id": "phx23WpXsgiY",
        "colab": {
          "base_uri": "https://localhost:8080/"
        },
        "outputId": "c914fef8-05b8-4dfe-d33f-f343634bdf42"
      },
      "source": [
        "z_alpha_2 = norm.ppf(probabilidade)\n",
        "z_alpha_2"
      ],
      "execution_count": null,
      "outputs": [
        {
          "output_type": "execute_result",
          "data": {
            "text/plain": [
              "1.959963984540054"
            ]
          },
          "metadata": {
            "tags": []
          },
          "execution_count": 22
        }
      ]
    },
    {
      "cell_type": "markdown",
      "metadata": {
        "id": "34A48RS4wZps"
      },
      "source": [
        "![Região de Aceitação](https://caelum-online-public.s3.amazonaws.com/1229-estatistica-parte3/01/img006.png)"
      ]
    },
    {
      "cell_type": "markdown",
      "metadata": {
        "id": "7VmXOTD8s0Cu"
      },
      "source": [
        "### **Passo 4** - cálculo da estatística-teste e verificação desse valor com as áreas de aceitação e rejeição do teste\n",
        "\n",
        "# $$z = \\frac{\\bar{x} - \\mu_0}{\\frac{s}{\\sqrt{n}}}$$"
      ]
    },
    {
      "cell_type": "code",
      "metadata": {
        "id": "DU-DyB6as0-1",
        "colab": {
          "base_uri": "https://localhost:8080/"
        },
        "outputId": "2665c80a-86ea-45ff-f152-835a76880f13"
      },
      "source": [
        "z = (media_amostra - media) / (desvio_padrao_amostra / np.sqrt(n))\n",
        "z"
      ],
      "execution_count": null,
      "outputs": [
        {
          "output_type": "execute_result",
          "data": {
            "text/plain": [
              "5.109559775991877"
            ]
          },
          "metadata": {
            "tags": []
          },
          "execution_count": 23
        }
      ]
    },
    {
      "cell_type": "markdown",
      "metadata": {
        "id": "AbQtTf0UtdTb"
      },
      "source": [
        "![Estatística-Teste](https://caelum-online-public.s3.amazonaws.com/1229-estatistica-parte3/01/img007.png)"
      ]
    },
    {
      "cell_type": "markdown",
      "metadata": {
        "id": "zyZjYBNHtspU"
      },
      "source": [
        "### **Passo 5** - Aceitação ou rejeição da hipótese nula"
      ]
    },
    {
      "cell_type": "markdown",
      "metadata": {
        "id": "45ycKonZtvPY"
      },
      "source": [
        "<img src='https://caelum-online-public.s3.amazonaws.com/1229-estatistica-parte3/01/img013.png' width=90%>"
      ]
    },
    {
      "cell_type": "markdown",
      "metadata": {
        "id": "aF9LDs2st3AS"
      },
      "source": [
        "### <font color='red'>Critério do valor crítico</font>\n",
        "\n",
        "> ### Teste Bicaudal\n",
        "> ### Rejeitar $H_0$ se $z \\leq -z_{\\alpha / 2}$ ou se $z \\geq z_{\\alpha / 2}$"
      ]
    },
    {
      "cell_type": "code",
      "metadata": {
        "id": "QCZlzqE3tfao",
        "colab": {
          "base_uri": "https://localhost:8080/"
        },
        "outputId": "4969a4f7-c75a-4eef-88a2-4441c2c0d9ca"
      },
      "source": [
        "z <= -z_alpha_2"
      ],
      "execution_count": null,
      "outputs": [
        {
          "output_type": "execute_result",
          "data": {
            "text/plain": [
              "False"
            ]
          },
          "metadata": {
            "tags": []
          },
          "execution_count": 24
        }
      ]
    },
    {
      "cell_type": "code",
      "metadata": {
        "id": "ZSv_2N-6t7pS",
        "colab": {
          "base_uri": "https://localhost:8080/"
        },
        "outputId": "72f61321-2610-42a1-b236-c2bb48bcdb47"
      },
      "source": [
        "z >= z_alpha_2"
      ],
      "execution_count": null,
      "outputs": [
        {
          "output_type": "execute_result",
          "data": {
            "text/plain": [
              "True"
            ]
          },
          "metadata": {
            "tags": []
          },
          "execution_count": 25
        }
      ]
    },
    {
      "cell_type": "markdown",
      "metadata": {
        "id": "lnrlILh9t9mu"
      },
      "source": [
        "### <font color='green'>Conclusão: Como a média amostral $\\bar{x}$ é significativamente maior que 500 ml, rejeitamos $H_0$. Neste caso, devem ser tomadas providências para ajustar o maquinário que preenche as embalagens.</font>"
      ]
    },
    {
      "cell_type": "markdown",
      "metadata": {
        "id": "TQM1-i2_uH6t"
      },
      "source": [
        "### <font color='red'>Critério do $p-valor$</font>\n",
        "\n",
        "> ### Teste Bicaudal\n",
        "> ### Rejeitar $H_0$ se o valor $p\\leq\\alpha$"
      ]
    },
    {
      "cell_type": "code",
      "metadata": {
        "id": "W-tVCvlIt_2b",
        "colab": {
          "base_uri": "https://localhost:8080/"
        },
        "outputId": "e097c473-f3ee-4218-a8fc-04996dc2ed46"
      },
      "source": [
        "p_valor = 2 * (1 - norm.cdf(z))\n",
        "p_valor"
      ],
      "execution_count": null,
      "outputs": [
        {
          "output_type": "execute_result",
          "data": {
            "text/plain": [
              "3.2291031715203644e-07"
            ]
          },
          "metadata": {
            "tags": []
          },
          "execution_count": 26
        }
      ]
    },
    {
      "cell_type": "code",
      "metadata": {
        "id": "FGAfL-WuuK5B",
        "colab": {
          "base_uri": "https://localhost:8080/"
        },
        "outputId": "a9f7581d-8332-411f-9366-2626fbd07e44"
      },
      "source": [
        "p_valor = 2 * (norm.sf(z))\n",
        "p_valor"
      ],
      "execution_count": null,
      "outputs": [
        {
          "output_type": "execute_result",
          "data": {
            "text/plain": [
              "3.229103172445718e-07"
            ]
          },
          "metadata": {
            "tags": []
          },
          "execution_count": 27
        }
      ]
    },
    {
      "cell_type": "code",
      "metadata": {
        "id": "g-jnSb9RuNkv",
        "colab": {
          "base_uri": "https://localhost:8080/"
        },
        "outputId": "c00a8c65-9447-428b-bb9d-83764b1891ae"
      },
      "source": [
        "p_valor <= significancia"
      ],
      "execution_count": null,
      "outputs": [
        {
          "output_type": "execute_result",
          "data": {
            "text/plain": [
              "True"
            ]
          },
          "metadata": {
            "tags": []
          },
          "execution_count": 28
        }
      ]
    },
    {
      "cell_type": "markdown",
      "metadata": {
        "id": "wWVKnWuAyl2i"
      },
      "source": [
        "### Ztest"
      ]
    },
    {
      "cell_type": "code",
      "metadata": {
        "colab": {
          "base_uri": "https://localhost:8080/"
        },
        "id": "ZYrEoFxvynIT",
        "outputId": "3028cf49-b535-4c1e-c083-a743829e4f30"
      },
      "source": [
        "from statsmodels.stats.weightstats import ztest"
      ],
      "execution_count": null,
      "outputs": [
        {
          "output_type": "stream",
          "text": [
            "/usr/local/lib/python3.6/dist-packages/statsmodels/tools/_testing.py:19: FutureWarning: pandas.util.testing is deprecated. Use the functions in the public API at pandas.testing instead.\n",
            "  import pandas.util.testing as tm\n"
          ],
          "name": "stderr"
        }
      ]
    },
    {
      "cell_type": "code",
      "metadata": {
        "colab": {
          "base_uri": "https://localhost:8080/"
        },
        "id": "YK-HQmsqywfV",
        "outputId": "814c12ed-a59a-4783-dd80-862ddb3bba84"
      },
      "source": [
        "ztest(x1 = amostra, value = media)"
      ],
      "execution_count": null,
      "outputs": [
        {
          "output_type": "execute_result",
          "data": {
            "text/plain": [
              "(array([5.10955978]), array([3.22910317e-07]))"
            ]
          },
          "metadata": {
            "tags": []
          },
          "execution_count": 30
        }
      ]
    },
    {
      "cell_type": "markdown",
      "metadata": {
        "id": "sXIBEIBfU-V4"
      },
      "source": [
        "### Teste unicaudal"
      ]
    },
    {
      "cell_type": "markdown",
      "metadata": {
        "id": "vVCzfByIVdZO"
      },
      "source": [
        "## <font color='red'>Problema</font>\r\n",
        "\r\n",
        "Nossa fábrica de vinho agora está produzindo mii garrafas de 350 ml de seu principal produto que contém, no máximo, 37 gramas de açúcar. Esta alegação nos leva a entender que a quantidade média de açúcar em uma garrafa deve ser igual ou menor que 37 g.\r\n",
        "\r\n",
        "Um consumidor desconfiado e com conhecimentos em inferência estatística resolve testar a alegação do fabricante e seleciona, aleatóriamente, em um conjunto de estabelecimentos distintos, uma amostra de 25 garrafas. Utilizando o equipamento correto o consumidor obteve as quantidades de açúcar em todas as 25 amostras.\r\n",
        "\r\n",
        "Assumindo que essa população se distribua aproximadamente como uma normal e considerando um nível de significância de 5%, é possível aceitar como válida a alegação do fabricante?"
      ]
    },
    {
      "cell_type": "markdown",
      "metadata": {
        "id": "2jgceiIvYiBS"
      },
      "source": [
        "### Construindo tabela $t$ de Student"
      ]
    },
    {
      "cell_type": "code",
      "metadata": {
        "colab": {
          "base_uri": "https://localhost:8080/",
          "height": 1000
        },
        "id": "YPAQvojOVXzN",
        "outputId": "f628fc65-6f4f-47b9-f0d1-eabbd4117b64"
      },
      "source": [
        "import pandas as pd\r\n",
        "from scipy.stats import t as t_student\r\n",
        "\r\n",
        "tabela_t_student = pd.DataFrame(\r\n",
        "    [], \r\n",
        "    index=[i for i in range(1, 31)],\r\n",
        "    columns = [i / 100 for i in range(10, 0, -1)]\r\n",
        ")\r\n",
        "\r\n",
        "for index in tabela_t_student.index:\r\n",
        "    for column in tabela_t_student.columns:\r\n",
        "        tabela_t_student.loc[index, column] = t_student.ppf(1 - float(column) / 2, index)\r\n",
        "\r\n",
        "index=[('Graus de Liberdade (n - 1)', i) for i in range(1, 31)]\r\n",
        "tabela_t_student.index = pd.MultiIndex.from_tuples(index)\r\n",
        "\r\n",
        "columns = [(\"{0:0.3f}\".format(i / 100), \"{0:0.3f}\".format((i / 100) / 2)) for i in range(10, 0, -1)]\r\n",
        "tabela_t_student.columns = pd.MultiIndex.from_tuples(columns)\r\n",
        "\r\n",
        "tabela_t_student.rename_axis(['Bicaudal', 'Unicaudal'], axis=1, inplace = True)\r\n",
        "\r\n",
        "tabela_t_student"
      ],
      "execution_count": null,
      "outputs": [
        {
          "output_type": "execute_result",
          "data": {
            "text/html": [
              "<div>\n",
              "<style scoped>\n",
              "    .dataframe tbody tr th:only-of-type {\n",
              "        vertical-align: middle;\n",
              "    }\n",
              "\n",
              "    .dataframe tbody tr th {\n",
              "        vertical-align: top;\n",
              "    }\n",
              "\n",
              "    .dataframe thead tr th {\n",
              "        text-align: left;\n",
              "    }\n",
              "</style>\n",
              "<table border=\"1\" class=\"dataframe\">\n",
              "  <thead>\n",
              "    <tr>\n",
              "      <th></th>\n",
              "      <th>Bicaudal</th>\n",
              "      <th>0.100</th>\n",
              "      <th>0.090</th>\n",
              "      <th>0.080</th>\n",
              "      <th>0.070</th>\n",
              "      <th>0.060</th>\n",
              "      <th>0.050</th>\n",
              "      <th>0.040</th>\n",
              "      <th>0.030</th>\n",
              "      <th>0.020</th>\n",
              "      <th>0.010</th>\n",
              "    </tr>\n",
              "    <tr>\n",
              "      <th></th>\n",
              "      <th>Unicaudal</th>\n",
              "      <th>0.050</th>\n",
              "      <th>0.045</th>\n",
              "      <th>0.040</th>\n",
              "      <th>0.035</th>\n",
              "      <th>0.030</th>\n",
              "      <th>0.025</th>\n",
              "      <th>0.020</th>\n",
              "      <th>0.015</th>\n",
              "      <th>0.010</th>\n",
              "      <th>0.005</th>\n",
              "    </tr>\n",
              "  </thead>\n",
              "  <tbody>\n",
              "    <tr>\n",
              "      <th rowspan=\"30\" valign=\"top\">Graus de Liberdade (n - 1)</th>\n",
              "      <th>1</th>\n",
              "      <td>6.31375</td>\n",
              "      <td>7.02637</td>\n",
              "      <td>7.91582</td>\n",
              "      <td>9.05789</td>\n",
              "      <td>10.5789</td>\n",
              "      <td>12.7062</td>\n",
              "      <td>15.8945</td>\n",
              "      <td>21.2049</td>\n",
              "      <td>31.8205</td>\n",
              "      <td>63.6567</td>\n",
              "    </tr>\n",
              "    <tr>\n",
              "      <th>2</th>\n",
              "      <td>2.91999</td>\n",
              "      <td>3.10398</td>\n",
              "      <td>3.31976</td>\n",
              "      <td>3.57825</td>\n",
              "      <td>3.89643</td>\n",
              "      <td>4.30265</td>\n",
              "      <td>4.84873</td>\n",
              "      <td>5.64278</td>\n",
              "      <td>6.96456</td>\n",
              "      <td>9.92484</td>\n",
              "    </tr>\n",
              "    <tr>\n",
              "      <th>3</th>\n",
              "      <td>2.35336</td>\n",
              "      <td>2.47081</td>\n",
              "      <td>2.60543</td>\n",
              "      <td>2.7626</td>\n",
              "      <td>2.95051</td>\n",
              "      <td>3.18245</td>\n",
              "      <td>3.48191</td>\n",
              "      <td>3.89605</td>\n",
              "      <td>4.5407</td>\n",
              "      <td>5.84091</td>\n",
              "    </tr>\n",
              "    <tr>\n",
              "      <th>4</th>\n",
              "      <td>2.13185</td>\n",
              "      <td>2.2261</td>\n",
              "      <td>2.33287</td>\n",
              "      <td>2.45589</td>\n",
              "      <td>2.60076</td>\n",
              "      <td>2.77645</td>\n",
              "      <td>2.99853</td>\n",
              "      <td>3.29763</td>\n",
              "      <td>3.74695</td>\n",
              "      <td>4.60409</td>\n",
              "    </tr>\n",
              "    <tr>\n",
              "      <th>5</th>\n",
              "      <td>2.01505</td>\n",
              "      <td>2.09784</td>\n",
              "      <td>2.19096</td>\n",
              "      <td>2.29739</td>\n",
              "      <td>2.42158</td>\n",
              "      <td>2.57058</td>\n",
              "      <td>2.75651</td>\n",
              "      <td>3.00287</td>\n",
              "      <td>3.36493</td>\n",
              "      <td>4.03214</td>\n",
              "    </tr>\n",
              "    <tr>\n",
              "      <th>6</th>\n",
              "      <td>1.94318</td>\n",
              "      <td>2.0192</td>\n",
              "      <td>2.10431</td>\n",
              "      <td>2.20106</td>\n",
              "      <td>2.31326</td>\n",
              "      <td>2.44691</td>\n",
              "      <td>2.61224</td>\n",
              "      <td>2.82893</td>\n",
              "      <td>3.14267</td>\n",
              "      <td>3.70743</td>\n",
              "    </tr>\n",
              "    <tr>\n",
              "      <th>7</th>\n",
              "      <td>1.89458</td>\n",
              "      <td>1.96615</td>\n",
              "      <td>2.04601</td>\n",
              "      <td>2.13645</td>\n",
              "      <td>2.24088</td>\n",
              "      <td>2.36462</td>\n",
              "      <td>2.51675</td>\n",
              "      <td>2.71457</td>\n",
              "      <td>2.99795</td>\n",
              "      <td>3.49948</td>\n",
              "    </tr>\n",
              "    <tr>\n",
              "      <th>8</th>\n",
              "      <td>1.85955</td>\n",
              "      <td>1.92799</td>\n",
              "      <td>2.00415</td>\n",
              "      <td>2.09017</td>\n",
              "      <td>2.18915</td>\n",
              "      <td>2.306</td>\n",
              "      <td>2.44898</td>\n",
              "      <td>2.63381</td>\n",
              "      <td>2.89646</td>\n",
              "      <td>3.35539</td>\n",
              "    </tr>\n",
              "    <tr>\n",
              "      <th>9</th>\n",
              "      <td>1.83311</td>\n",
              "      <td>1.89922</td>\n",
              "      <td>1.97265</td>\n",
              "      <td>2.05539</td>\n",
              "      <td>2.15038</td>\n",
              "      <td>2.26216</td>\n",
              "      <td>2.39844</td>\n",
              "      <td>2.5738</td>\n",
              "      <td>2.82144</td>\n",
              "      <td>3.24984</td>\n",
              "    </tr>\n",
              "    <tr>\n",
              "      <th>10</th>\n",
              "      <td>1.81246</td>\n",
              "      <td>1.87677</td>\n",
              "      <td>1.9481</td>\n",
              "      <td>2.02833</td>\n",
              "      <td>2.12023</td>\n",
              "      <td>2.22814</td>\n",
              "      <td>2.35931</td>\n",
              "      <td>2.52748</td>\n",
              "      <td>2.76377</td>\n",
              "      <td>3.16927</td>\n",
              "    </tr>\n",
              "    <tr>\n",
              "      <th>11</th>\n",
              "      <td>1.79588</td>\n",
              "      <td>1.85877</td>\n",
              "      <td>1.92843</td>\n",
              "      <td>2.00666</td>\n",
              "      <td>2.09614</td>\n",
              "      <td>2.20099</td>\n",
              "      <td>2.32814</td>\n",
              "      <td>2.49066</td>\n",
              "      <td>2.71808</td>\n",
              "      <td>3.10581</td>\n",
              "    </tr>\n",
              "    <tr>\n",
              "      <th>12</th>\n",
              "      <td>1.78229</td>\n",
              "      <td>1.84402</td>\n",
              "      <td>1.91231</td>\n",
              "      <td>1.98893</td>\n",
              "      <td>2.07644</td>\n",
              "      <td>2.17881</td>\n",
              "      <td>2.30272</td>\n",
              "      <td>2.4607</td>\n",
              "      <td>2.681</td>\n",
              "      <td>3.05454</td>\n",
              "    </tr>\n",
              "    <tr>\n",
              "      <th>13</th>\n",
              "      <td>1.77093</td>\n",
              "      <td>1.8317</td>\n",
              "      <td>1.89887</td>\n",
              "      <td>1.97416</td>\n",
              "      <td>2.06004</td>\n",
              "      <td>2.16037</td>\n",
              "      <td>2.2816</td>\n",
              "      <td>2.43585</td>\n",
              "      <td>2.65031</td>\n",
              "      <td>3.01228</td>\n",
              "    </tr>\n",
              "    <tr>\n",
              "      <th>14</th>\n",
              "      <td>1.76131</td>\n",
              "      <td>1.82127</td>\n",
              "      <td>1.8875</td>\n",
              "      <td>1.96166</td>\n",
              "      <td>2.04617</td>\n",
              "      <td>2.14479</td>\n",
              "      <td>2.26378</td>\n",
              "      <td>2.4149</td>\n",
              "      <td>2.62449</td>\n",
              "      <td>2.97684</td>\n",
              "    </tr>\n",
              "    <tr>\n",
              "      <th>15</th>\n",
              "      <td>1.75305</td>\n",
              "      <td>1.81232</td>\n",
              "      <td>1.87774</td>\n",
              "      <td>1.95094</td>\n",
              "      <td>2.03429</td>\n",
              "      <td>2.13145</td>\n",
              "      <td>2.24854</td>\n",
              "      <td>2.39701</td>\n",
              "      <td>2.60248</td>\n",
              "      <td>2.94671</td>\n",
              "    </tr>\n",
              "    <tr>\n",
              "      <th>16</th>\n",
              "      <td>1.74588</td>\n",
              "      <td>1.80455</td>\n",
              "      <td>1.86928</td>\n",
              "      <td>1.94165</td>\n",
              "      <td>2.024</td>\n",
              "      <td>2.11991</td>\n",
              "      <td>2.23536</td>\n",
              "      <td>2.38155</td>\n",
              "      <td>2.58349</td>\n",
              "      <td>2.92078</td>\n",
              "    </tr>\n",
              "    <tr>\n",
              "      <th>17</th>\n",
              "      <td>1.73961</td>\n",
              "      <td>1.79776</td>\n",
              "      <td>1.86187</td>\n",
              "      <td>1.93353</td>\n",
              "      <td>2.015</td>\n",
              "      <td>2.10982</td>\n",
              "      <td>2.22385</td>\n",
              "      <td>2.36805</td>\n",
              "      <td>2.56693</td>\n",
              "      <td>2.89823</td>\n",
              "    </tr>\n",
              "    <tr>\n",
              "      <th>18</th>\n",
              "      <td>1.73406</td>\n",
              "      <td>1.79175</td>\n",
              "      <td>1.85534</td>\n",
              "      <td>1.92636</td>\n",
              "      <td>2.00707</td>\n",
              "      <td>2.10092</td>\n",
              "      <td>2.2137</td>\n",
              "      <td>2.35618</td>\n",
              "      <td>2.55238</td>\n",
              "      <td>2.87844</td>\n",
              "    </tr>\n",
              "    <tr>\n",
              "      <th>19</th>\n",
              "      <td>1.72913</td>\n",
              "      <td>1.78642</td>\n",
              "      <td>1.84953</td>\n",
              "      <td>1.91999</td>\n",
              "      <td>2.00002</td>\n",
              "      <td>2.09302</td>\n",
              "      <td>2.2047</td>\n",
              "      <td>2.34565</td>\n",
              "      <td>2.53948</td>\n",
              "      <td>2.86093</td>\n",
              "    </tr>\n",
              "    <tr>\n",
              "      <th>20</th>\n",
              "      <td>1.72472</td>\n",
              "      <td>1.78164</td>\n",
              "      <td>1.84433</td>\n",
              "      <td>1.91429</td>\n",
              "      <td>1.99371</td>\n",
              "      <td>2.08596</td>\n",
              "      <td>2.19666</td>\n",
              "      <td>2.33624</td>\n",
              "      <td>2.52798</td>\n",
              "      <td>2.84534</td>\n",
              "    </tr>\n",
              "    <tr>\n",
              "      <th>21</th>\n",
              "      <td>1.72074</td>\n",
              "      <td>1.77734</td>\n",
              "      <td>1.83965</td>\n",
              "      <td>1.90916</td>\n",
              "      <td>1.98804</td>\n",
              "      <td>2.07961</td>\n",
              "      <td>2.18943</td>\n",
              "      <td>2.32779</td>\n",
              "      <td>2.51765</td>\n",
              "      <td>2.83136</td>\n",
              "    </tr>\n",
              "    <tr>\n",
              "      <th>22</th>\n",
              "      <td>1.71714</td>\n",
              "      <td>1.77345</td>\n",
              "      <td>1.83542</td>\n",
              "      <td>1.90452</td>\n",
              "      <td>1.98291</td>\n",
              "      <td>2.07387</td>\n",
              "      <td>2.18289</td>\n",
              "      <td>2.32016</td>\n",
              "      <td>2.50832</td>\n",
              "      <td>2.81876</td>\n",
              "    </tr>\n",
              "    <tr>\n",
              "      <th>23</th>\n",
              "      <td>1.71387</td>\n",
              "      <td>1.76991</td>\n",
              "      <td>1.83157</td>\n",
              "      <td>1.90031</td>\n",
              "      <td>1.97825</td>\n",
              "      <td>2.06866</td>\n",
              "      <td>2.17696</td>\n",
              "      <td>2.31323</td>\n",
              "      <td>2.49987</td>\n",
              "      <td>2.80734</td>\n",
              "    </tr>\n",
              "    <tr>\n",
              "      <th>24</th>\n",
              "      <td>1.71088</td>\n",
              "      <td>1.76667</td>\n",
              "      <td>1.82805</td>\n",
              "      <td>1.89646</td>\n",
              "      <td>1.97399</td>\n",
              "      <td>2.0639</td>\n",
              "      <td>2.17154</td>\n",
              "      <td>2.30691</td>\n",
              "      <td>2.49216</td>\n",
              "      <td>2.79694</td>\n",
              "    </tr>\n",
              "    <tr>\n",
              "      <th>25</th>\n",
              "      <td>1.70814</td>\n",
              "      <td>1.76371</td>\n",
              "      <td>1.82483</td>\n",
              "      <td>1.89293</td>\n",
              "      <td>1.9701</td>\n",
              "      <td>2.05954</td>\n",
              "      <td>2.16659</td>\n",
              "      <td>2.30113</td>\n",
              "      <td>2.48511</td>\n",
              "      <td>2.78744</td>\n",
              "    </tr>\n",
              "    <tr>\n",
              "      <th>26</th>\n",
              "      <td>1.70562</td>\n",
              "      <td>1.76098</td>\n",
              "      <td>1.82186</td>\n",
              "      <td>1.88968</td>\n",
              "      <td>1.96651</td>\n",
              "      <td>2.05553</td>\n",
              "      <td>2.16203</td>\n",
              "      <td>2.29581</td>\n",
              "      <td>2.47863</td>\n",
              "      <td>2.77871</td>\n",
              "    </tr>\n",
              "    <tr>\n",
              "      <th>27</th>\n",
              "      <td>1.70329</td>\n",
              "      <td>1.75847</td>\n",
              "      <td>1.81913</td>\n",
              "      <td>1.88669</td>\n",
              "      <td>1.9632</td>\n",
              "      <td>2.05183</td>\n",
              "      <td>2.15782</td>\n",
              "      <td>2.29091</td>\n",
              "      <td>2.47266</td>\n",
              "      <td>2.77068</td>\n",
              "    </tr>\n",
              "    <tr>\n",
              "      <th>28</th>\n",
              "      <td>1.70113</td>\n",
              "      <td>1.75613</td>\n",
              "      <td>1.81659</td>\n",
              "      <td>1.88391</td>\n",
              "      <td>1.96014</td>\n",
              "      <td>2.04841</td>\n",
              "      <td>2.15393</td>\n",
              "      <td>2.28638</td>\n",
              "      <td>2.46714</td>\n",
              "      <td>2.76326</td>\n",
              "    </tr>\n",
              "    <tr>\n",
              "      <th>29</th>\n",
              "      <td>1.69913</td>\n",
              "      <td>1.75397</td>\n",
              "      <td>1.81424</td>\n",
              "      <td>1.88134</td>\n",
              "      <td>1.95729</td>\n",
              "      <td>2.04523</td>\n",
              "      <td>2.15033</td>\n",
              "      <td>2.28217</td>\n",
              "      <td>2.46202</td>\n",
              "      <td>2.75639</td>\n",
              "    </tr>\n",
              "    <tr>\n",
              "      <th>30</th>\n",
              "      <td>1.69726</td>\n",
              "      <td>1.75195</td>\n",
              "      <td>1.81205</td>\n",
              "      <td>1.87894</td>\n",
              "      <td>1.95465</td>\n",
              "      <td>2.04227</td>\n",
              "      <td>2.14697</td>\n",
              "      <td>2.27826</td>\n",
              "      <td>2.45726</td>\n",
              "      <td>2.75</td>\n",
              "    </tr>\n",
              "  </tbody>\n",
              "</table>\n",
              "</div>"
            ],
            "text/plain": [
              "Bicaudal                         0.100    0.090  ...    0.020    0.010\n",
              "Unicaudal                        0.050    0.045  ...    0.010    0.005\n",
              "Graus de Liberdade (n - 1) 1   6.31375  7.02637  ...  31.8205  63.6567\n",
              "                           2   2.91999  3.10398  ...  6.96456  9.92484\n",
              "                           3   2.35336  2.47081  ...   4.5407  5.84091\n",
              "                           4   2.13185   2.2261  ...  3.74695  4.60409\n",
              "                           5   2.01505  2.09784  ...  3.36493  4.03214\n",
              "                           6   1.94318   2.0192  ...  3.14267  3.70743\n",
              "                           7   1.89458  1.96615  ...  2.99795  3.49948\n",
              "                           8   1.85955  1.92799  ...  2.89646  3.35539\n",
              "                           9   1.83311  1.89922  ...  2.82144  3.24984\n",
              "                           10  1.81246  1.87677  ...  2.76377  3.16927\n",
              "                           11  1.79588  1.85877  ...  2.71808  3.10581\n",
              "                           12  1.78229  1.84402  ...    2.681  3.05454\n",
              "                           13  1.77093   1.8317  ...  2.65031  3.01228\n",
              "                           14  1.76131  1.82127  ...  2.62449  2.97684\n",
              "                           15  1.75305  1.81232  ...  2.60248  2.94671\n",
              "                           16  1.74588  1.80455  ...  2.58349  2.92078\n",
              "                           17  1.73961  1.79776  ...  2.56693  2.89823\n",
              "                           18  1.73406  1.79175  ...  2.55238  2.87844\n",
              "                           19  1.72913  1.78642  ...  2.53948  2.86093\n",
              "                           20  1.72472  1.78164  ...  2.52798  2.84534\n",
              "                           21  1.72074  1.77734  ...  2.51765  2.83136\n",
              "                           22  1.71714  1.77345  ...  2.50832  2.81876\n",
              "                           23  1.71387  1.76991  ...  2.49987  2.80734\n",
              "                           24  1.71088  1.76667  ...  2.49216  2.79694\n",
              "                           25  1.70814  1.76371  ...  2.48511  2.78744\n",
              "                           26  1.70562  1.76098  ...  2.47863  2.77871\n",
              "                           27  1.70329  1.75847  ...  2.47266  2.77068\n",
              "                           28  1.70113  1.75613  ...  2.46714  2.76326\n",
              "                           29  1.69913  1.75397  ...  2.46202  2.75639\n",
              "                           30  1.69726  1.75195  ...  2.45726     2.75\n",
              "\n",
              "[30 rows x 10 columns]"
            ]
          },
          "metadata": {
            "tags": []
          },
          "execution_count": 32
        }
      ]
    },
    {
      "cell_type": "markdown",
      "metadata": {
        "id": "6ZN4VLmCaD3J"
      },
      "source": [
        "<img src='https://caelum-online-public.s3.amazonaws.com/1229-estatistica-parte3/01/img004.png' width='250px'>\r\n",
        "\r\n",
        "As células da tabela acima são valores de $t$ para uma área ou probabilidade na cauda superior da distribuição $t$."
      ]
    },
    {
      "cell_type": "markdown",
      "metadata": {
        "id": "LpSUykneaHCQ"
      },
      "source": [
        "Os **testes unicaudais** verificam as variáveis em relação a um piso ou a um teto e avaliam os valores máximos ou mínimos esperados para os parâmetros em estudo e a chance de as estatísticas amostrais serem inferiores ou superiores a dado limite."
      ]
    },
    {
      "cell_type": "markdown",
      "metadata": {
        "id": "Axd-ZdHbaJ0H"
      },
      "source": [
        "<img src='https://caelum-online-public.s3.amazonaws.com/1229-estatistica-parte3/01/img008.png' width='700px'>"
      ]
    },
    {
      "cell_type": "markdown",
      "metadata": {
        "id": "1FSFAS87aQ2C"
      },
      "source": [
        "### Dados do problema"
      ]
    },
    {
      "cell_type": "code",
      "metadata": {
        "id": "yWkJp7_0Z_6V"
      },
      "source": [
        "amostra = [37.27, 36.42, 34.84, 34.60, 37.49, \r\n",
        "           36.53, 35.49, 36.90, 34.52, 37.30, \r\n",
        "           34.99, 36.55, 36.29, 36.06, 37.42, \r\n",
        "           34.47, 36.70, 35.86, 36.80, 36.92, \r\n",
        "           37.04, 36.39, 37.32, 36.64, 35.45]"
      ],
      "execution_count": null,
      "outputs": []
    },
    {
      "cell_type": "code",
      "metadata": {
        "colab": {
          "base_uri": "https://localhost:8080/",
          "height": 824
        },
        "id": "aIgtvzx3aV9n",
        "outputId": "39cb62e0-5b8f-4a8c-b136-35fc5663d90c"
      },
      "source": [
        "amostra = pd.DataFrame(amostra, columns=['Amostra'])\r\n",
        "amostra"
      ],
      "execution_count": null,
      "outputs": [
        {
          "output_type": "execute_result",
          "data": {
            "text/html": [
              "<div>\n",
              "<style scoped>\n",
              "    .dataframe tbody tr th:only-of-type {\n",
              "        vertical-align: middle;\n",
              "    }\n",
              "\n",
              "    .dataframe tbody tr th {\n",
              "        vertical-align: top;\n",
              "    }\n",
              "\n",
              "    .dataframe thead th {\n",
              "        text-align: right;\n",
              "    }\n",
              "</style>\n",
              "<table border=\"1\" class=\"dataframe\">\n",
              "  <thead>\n",
              "    <tr style=\"text-align: right;\">\n",
              "      <th></th>\n",
              "      <th>Amostra</th>\n",
              "    </tr>\n",
              "  </thead>\n",
              "  <tbody>\n",
              "    <tr>\n",
              "      <th>0</th>\n",
              "      <td>37.27</td>\n",
              "    </tr>\n",
              "    <tr>\n",
              "      <th>1</th>\n",
              "      <td>36.42</td>\n",
              "    </tr>\n",
              "    <tr>\n",
              "      <th>2</th>\n",
              "      <td>34.84</td>\n",
              "    </tr>\n",
              "    <tr>\n",
              "      <th>3</th>\n",
              "      <td>34.60</td>\n",
              "    </tr>\n",
              "    <tr>\n",
              "      <th>4</th>\n",
              "      <td>37.49</td>\n",
              "    </tr>\n",
              "    <tr>\n",
              "      <th>5</th>\n",
              "      <td>36.53</td>\n",
              "    </tr>\n",
              "    <tr>\n",
              "      <th>6</th>\n",
              "      <td>35.49</td>\n",
              "    </tr>\n",
              "    <tr>\n",
              "      <th>7</th>\n",
              "      <td>36.90</td>\n",
              "    </tr>\n",
              "    <tr>\n",
              "      <th>8</th>\n",
              "      <td>34.52</td>\n",
              "    </tr>\n",
              "    <tr>\n",
              "      <th>9</th>\n",
              "      <td>37.30</td>\n",
              "    </tr>\n",
              "    <tr>\n",
              "      <th>10</th>\n",
              "      <td>34.99</td>\n",
              "    </tr>\n",
              "    <tr>\n",
              "      <th>11</th>\n",
              "      <td>36.55</td>\n",
              "    </tr>\n",
              "    <tr>\n",
              "      <th>12</th>\n",
              "      <td>36.29</td>\n",
              "    </tr>\n",
              "    <tr>\n",
              "      <th>13</th>\n",
              "      <td>36.06</td>\n",
              "    </tr>\n",
              "    <tr>\n",
              "      <th>14</th>\n",
              "      <td>37.42</td>\n",
              "    </tr>\n",
              "    <tr>\n",
              "      <th>15</th>\n",
              "      <td>34.47</td>\n",
              "    </tr>\n",
              "    <tr>\n",
              "      <th>16</th>\n",
              "      <td>36.70</td>\n",
              "    </tr>\n",
              "    <tr>\n",
              "      <th>17</th>\n",
              "      <td>35.86</td>\n",
              "    </tr>\n",
              "    <tr>\n",
              "      <th>18</th>\n",
              "      <td>36.80</td>\n",
              "    </tr>\n",
              "    <tr>\n",
              "      <th>19</th>\n",
              "      <td>36.92</td>\n",
              "    </tr>\n",
              "    <tr>\n",
              "      <th>20</th>\n",
              "      <td>37.04</td>\n",
              "    </tr>\n",
              "    <tr>\n",
              "      <th>21</th>\n",
              "      <td>36.39</td>\n",
              "    </tr>\n",
              "    <tr>\n",
              "      <th>22</th>\n",
              "      <td>37.32</td>\n",
              "    </tr>\n",
              "    <tr>\n",
              "      <th>23</th>\n",
              "      <td>36.64</td>\n",
              "    </tr>\n",
              "    <tr>\n",
              "      <th>24</th>\n",
              "      <td>35.45</td>\n",
              "    </tr>\n",
              "  </tbody>\n",
              "</table>\n",
              "</div>"
            ],
            "text/plain": [
              "    Amostra\n",
              "0     37.27\n",
              "1     36.42\n",
              "2     34.84\n",
              "3     34.60\n",
              "4     37.49\n",
              "5     36.53\n",
              "6     35.49\n",
              "7     36.90\n",
              "8     34.52\n",
              "9     37.30\n",
              "10    34.99\n",
              "11    36.55\n",
              "12    36.29\n",
              "13    36.06\n",
              "14    37.42\n",
              "15    34.47\n",
              "16    36.70\n",
              "17    35.86\n",
              "18    36.80\n",
              "19    36.92\n",
              "20    37.04\n",
              "21    36.39\n",
              "22    37.32\n",
              "23    36.64\n",
              "24    35.45"
            ]
          },
          "metadata": {
            "tags": []
          },
          "execution_count": 35
        }
      ]
    },
    {
      "cell_type": "code",
      "metadata": {
        "id": "Zdw6F3FobU2e"
      },
      "source": [
        "media_amostra = amostra.mean()"
      ],
      "execution_count": null,
      "outputs": []
    },
    {
      "cell_type": "code",
      "metadata": {
        "id": "_0TK1g2jbVbF"
      },
      "source": [
        "desvio_padrao_amostra = amostra.std()"
      ],
      "execution_count": null,
      "outputs": []
    },
    {
      "cell_type": "code",
      "metadata": {
        "id": "4lIdNDnLam2Z"
      },
      "source": [
        "media = 37\r\n",
        "significancia = 0.05\r\n",
        "confianca = 1 - significancia\r\n",
        "n = 25\r\n",
        "graus_de_liberdade = n - 1"
      ],
      "execution_count": null,
      "outputs": []
    },
    {
      "cell_type": "markdown",
      "metadata": {
        "id": "5mdmwGUpbajJ"
      },
      "source": [
        "#### <font color='red'>Lembre-se, a hipótese nula sempre contém a alegação de igualdade</font>\r\n",
        "\r\n",
        "### $H_0: \\mu \\leq 37$\r\n",
        "\r\n",
        "### $H_1: \\mu > 37$"
      ]
    },
    {
      "cell_type": "markdown",
      "metadata": {
        "id": "f3xpRGuobe-W"
      },
      "source": [
        "### **Passo 2** - escolha da distribuição amostral adequada\r\n",
        "<img src='https://caelum-online-public.s3.amazonaws.com/1229-estatistica-parte3/01/img003.png' width=70%>"
      ]
    },
    {
      "cell_type": "markdown",
      "metadata": {
        "id": "6Uoue_oDboMZ"
      },
      "source": [
        "### **Passo 3** - fixação da significância do teste ($\\alpha$)"
      ]
    },
    {
      "cell_type": "code",
      "metadata": {
        "id": "9UcXq1oxbHSr"
      },
      "source": [
        "from scipy.stats import t as t_student"
      ],
      "execution_count": null,
      "outputs": []
    },
    {
      "cell_type": "code",
      "metadata": {
        "colab": {
          "base_uri": "https://localhost:8080/",
          "height": 193
        },
        "id": "pNEfws8JbqzA",
        "outputId": "a18dc2b4-6513-4741-ca02-6c516222bc57"
      },
      "source": [
        "tabela_t_student[22:25]"
      ],
      "execution_count": null,
      "outputs": [
        {
          "output_type": "execute_result",
          "data": {
            "text/html": [
              "<div>\n",
              "<style scoped>\n",
              "    .dataframe tbody tr th:only-of-type {\n",
              "        vertical-align: middle;\n",
              "    }\n",
              "\n",
              "    .dataframe tbody tr th {\n",
              "        vertical-align: top;\n",
              "    }\n",
              "\n",
              "    .dataframe thead tr th {\n",
              "        text-align: left;\n",
              "    }\n",
              "</style>\n",
              "<table border=\"1\" class=\"dataframe\">\n",
              "  <thead>\n",
              "    <tr>\n",
              "      <th></th>\n",
              "      <th>Bicaudal</th>\n",
              "      <th>0.100</th>\n",
              "      <th>0.090</th>\n",
              "      <th>0.080</th>\n",
              "      <th>0.070</th>\n",
              "      <th>0.060</th>\n",
              "      <th>0.050</th>\n",
              "      <th>0.040</th>\n",
              "      <th>0.030</th>\n",
              "      <th>0.020</th>\n",
              "      <th>0.010</th>\n",
              "    </tr>\n",
              "    <tr>\n",
              "      <th></th>\n",
              "      <th>Unicaudal</th>\n",
              "      <th>0.050</th>\n",
              "      <th>0.045</th>\n",
              "      <th>0.040</th>\n",
              "      <th>0.035</th>\n",
              "      <th>0.030</th>\n",
              "      <th>0.025</th>\n",
              "      <th>0.020</th>\n",
              "      <th>0.015</th>\n",
              "      <th>0.010</th>\n",
              "      <th>0.005</th>\n",
              "    </tr>\n",
              "  </thead>\n",
              "  <tbody>\n",
              "    <tr>\n",
              "      <th rowspan=\"3\" valign=\"top\">Graus de Liberdade (n - 1)</th>\n",
              "      <th>23</th>\n",
              "      <td>1.71387</td>\n",
              "      <td>1.76991</td>\n",
              "      <td>1.83157</td>\n",
              "      <td>1.90031</td>\n",
              "      <td>1.97825</td>\n",
              "      <td>2.06866</td>\n",
              "      <td>2.17696</td>\n",
              "      <td>2.31323</td>\n",
              "      <td>2.49987</td>\n",
              "      <td>2.80734</td>\n",
              "    </tr>\n",
              "    <tr>\n",
              "      <th>24</th>\n",
              "      <td>1.71088</td>\n",
              "      <td>1.76667</td>\n",
              "      <td>1.82805</td>\n",
              "      <td>1.89646</td>\n",
              "      <td>1.97399</td>\n",
              "      <td>2.0639</td>\n",
              "      <td>2.17154</td>\n",
              "      <td>2.30691</td>\n",
              "      <td>2.49216</td>\n",
              "      <td>2.79694</td>\n",
              "    </tr>\n",
              "    <tr>\n",
              "      <th>25</th>\n",
              "      <td>1.70814</td>\n",
              "      <td>1.76371</td>\n",
              "      <td>1.82483</td>\n",
              "      <td>1.89293</td>\n",
              "      <td>1.9701</td>\n",
              "      <td>2.05954</td>\n",
              "      <td>2.16659</td>\n",
              "      <td>2.30113</td>\n",
              "      <td>2.48511</td>\n",
              "      <td>2.78744</td>\n",
              "    </tr>\n",
              "  </tbody>\n",
              "</table>\n",
              "</div>"
            ],
            "text/plain": [
              "Bicaudal                         0.100    0.090  ...    0.020    0.010\n",
              "Unicaudal                        0.050    0.045  ...    0.010    0.005\n",
              "Graus de Liberdade (n - 1) 23  1.71387  1.76991  ...  2.49987  2.80734\n",
              "                           24  1.71088  1.76667  ...  2.49216  2.79694\n",
              "                           25  1.70814  1.76371  ...  2.48511  2.78744\n",
              "\n",
              "[3 rows x 10 columns]"
            ]
          },
          "metadata": {
            "tags": []
          },
          "execution_count": 45
        }
      ]
    },
    {
      "cell_type": "markdown",
      "metadata": {
        "id": "hxJ0qg1Jbuo0"
      },
      "source": [
        "### Obtendo $t_{\\alpha}$"
      ]
    },
    {
      "cell_type": "code",
      "metadata": {
        "colab": {
          "base_uri": "https://localhost:8080/"
        },
        "id": "HWHqvSTQbvcZ",
        "outputId": "87dcb2cb-a2dc-483e-df11-3e376b14ed66"
      },
      "source": [
        "t_alpha = t_student.ppf(confianca, graus_de_liberdade)\r\n",
        "t_alpha"
      ],
      "execution_count": null,
      "outputs": [
        {
          "output_type": "execute_result",
          "data": {
            "text/plain": [
              "1.7108820799094275"
            ]
          },
          "metadata": {
            "tags": []
          },
          "execution_count": 46
        }
      ]
    },
    {
      "cell_type": "markdown",
      "metadata": {
        "id": "CIVWj-NUcZlM"
      },
      "source": [
        "![Região de Aceitação](https://caelum-online-public.s3.amazonaws.com/1229-estatistica-parte3/01/img009.png)"
      ]
    },
    {
      "cell_type": "markdown",
      "metadata": {
        "id": "Y3sc1bIJcewH"
      },
      "source": [
        "### **Passo 4** - cálculo da estatística-teste e verificação desse valor com as áreas de aceitação e rejeição do teste\r\n",
        "\r\n",
        "# $$t = \\frac{\\bar{x} - \\mu_0}{\\frac{s}{\\sqrt{n}}}$$"
      ]
    },
    {
      "cell_type": "code",
      "metadata": {
        "colab": {
          "base_uri": "https://localhost:8080/"
        },
        "id": "c4BWChGYcY-7",
        "outputId": "a5ff5c94-8568-4867-9d80-c525351c9c9f"
      },
      "source": [
        "t = (media_amostra - media) / (desvio_padrao_amostra / np.sqrt(n))\r\n",
        "t"
      ],
      "execution_count": null,
      "outputs": [
        {
          "output_type": "execute_result",
          "data": {
            "text/plain": [
              "Amostra   -3.876893\n",
              "dtype: float64"
            ]
          },
          "metadata": {
            "tags": []
          },
          "execution_count": 47
        }
      ]
    },
    {
      "cell_type": "markdown",
      "metadata": {
        "id": "dIUWxF-wcql8"
      },
      "source": [
        "![Estatística-Teste](https://caelum-online-public.s3.amazonaws.com/1229-estatistica-parte3/01/img010.png)"
      ]
    },
    {
      "cell_type": "markdown",
      "metadata": {
        "id": "418V83becuFB"
      },
      "source": [
        "### **Passo 5** - Aceitação ou rejeição da hipótese nula"
      ]
    },
    {
      "cell_type": "markdown",
      "metadata": {
        "id": "8K0ENqe0cxj1"
      },
      "source": [
        "<img src='https://caelum-online-public.s3.amazonaws.com/1229-estatistica-parte3/01/img013.png' width=90%>"
      ]
    },
    {
      "cell_type": "markdown",
      "metadata": {
        "id": "hNNsQ15mc1CJ"
      },
      "source": [
        "### <font color='red'>Critério do valor crítico</font>\r\n",
        "\r\n",
        "> ### Teste Unicaudal Superior\r\n",
        "> ### Rejeitar $H_0$ se $t \\geq t_{\\alpha}$"
      ]
    },
    {
      "cell_type": "code",
      "metadata": {
        "colab": {
          "base_uri": "https://localhost:8080/"
        },
        "id": "50P3m4x1cjBm",
        "outputId": "f9ae6cac-3267-4bf8-d948-755aae425555"
      },
      "source": [
        "t >= t_alpha"
      ],
      "execution_count": null,
      "outputs": [
        {
          "output_type": "execute_result",
          "data": {
            "text/plain": [
              "Amostra    False\n",
              "dtype: bool"
            ]
          },
          "metadata": {
            "tags": []
          },
          "execution_count": 48
        }
      ]
    },
    {
      "cell_type": "markdown",
      "metadata": {
        "id": "cMqYLtBxc6Kr"
      },
      "source": [
        "### <font color='green'>Conclusão: Com um nível de confiança de 95% não podemos rejeitar $H_0$, ou seja, a alegação do fabricante é verdadeira.</font>"
      ]
    },
    {
      "cell_type": "markdown",
      "metadata": {
        "id": "sqFMKPYHc82G"
      },
      "source": [
        "### <font color='red'>Critério do valor $p$</font>\r\n",
        "\r\n",
        "> ### Teste Unicaudal Superior\r\n",
        "> ### Rejeitar $H_0$ se o valor $p\\leq\\alpha$"
      ]
    },
    {
      "cell_type": "code",
      "metadata": {
        "colab": {
          "base_uri": "https://localhost:8080/"
        },
        "id": "agPp32LZdAt0",
        "outputId": "74649cad-d8df-4e91-eed3-c20e569f979c"
      },
      "source": [
        "t"
      ],
      "execution_count": null,
      "outputs": [
        {
          "output_type": "execute_result",
          "data": {
            "text/plain": [
              "Amostra   -3.876893\n",
              "dtype: float64"
            ]
          },
          "metadata": {
            "tags": []
          },
          "execution_count": 49
        }
      ]
    },
    {
      "cell_type": "code",
      "metadata": {
        "colab": {
          "base_uri": "https://localhost:8080/"
        },
        "id": "OmKsrdYtc3XK",
        "outputId": "ad69e105-b233-4a7a-b274-734ed37f0e4c"
      },
      "source": [
        "p_valor = t_student.sf(t, df = 24)\r\n",
        "p_valor"
      ],
      "execution_count": null,
      "outputs": [
        {
          "output_type": "execute_result",
          "data": {
            "text/plain": [
              "array([0.99964062])"
            ]
          },
          "metadata": {
            "tags": []
          },
          "execution_count": 50
        }
      ]
    },
    {
      "cell_type": "code",
      "metadata": {
        "colab": {
          "base_uri": "https://localhost:8080/"
        },
        "id": "c-FHwfWVdEMh",
        "outputId": "d5fbb7c6-ca52-4a07-8991-77604d3d3048"
      },
      "source": [
        "p_valor <= significancia"
      ],
      "execution_count": null,
      "outputs": [
        {
          "output_type": "execute_result",
          "data": {
            "text/plain": [
              "array([False])"
            ]
          },
          "metadata": {
            "tags": []
          },
          "execution_count": 51
        }
      ]
    },
    {
      "cell_type": "code",
      "metadata": {
        "id": "g553CzdxdGE_"
      },
      "source": [
        "from statsmodels.stats.weightstats import DescrStatsW"
      ],
      "execution_count": null,
      "outputs": []
    },
    {
      "cell_type": "code",
      "metadata": {
        "id": "ihffXdgAdInc"
      },
      "source": [
        "test = DescrStatsW(amostra)"
      ],
      "execution_count": null,
      "outputs": []
    },
    {
      "cell_type": "code",
      "metadata": {
        "id": "CdFTn2VGdJ7F",
        "colab": {
          "base_uri": "https://localhost:8080/"
        },
        "outputId": "25040271-c93d-400b-af70-0148e6d10537"
      },
      "source": [
        "t, p_valor, df = test.ttest_mean(value = media, alternative = 'larger')\r\n",
        "print(t[0])\r\n",
        "print(p_valor[0])\r\n",
        "print(df)"
      ],
      "execution_count": null,
      "outputs": [
        {
          "output_type": "stream",
          "text": [
            "-3.8768931199520447\n",
            "0.9996406170303819\n",
            "24.0\n"
          ],
          "name": "stdout"
        }
      ]
    },
    {
      "cell_type": "code",
      "metadata": {
        "id": "b00Kcf4qdL3n",
        "colab": {
          "base_uri": "https://localhost:8080/"
        },
        "outputId": "32a7171d-6381-47f3-950b-5905b9b2e896"
      },
      "source": [
        "p_valor[0] <= significancia"
      ],
      "execution_count": null,
      "outputs": [
        {
          "output_type": "execute_result",
          "data": {
            "text/plain": [
              "False"
            ]
          },
          "metadata": {
            "tags": []
          },
          "execution_count": 55
        }
      ]
    },
    {
      "cell_type": "code",
      "metadata": {
        "id": "SPUcQ5SidN-z"
      },
      "source": [
        ""
      ],
      "execution_count": null,
      "outputs": []
    }
  ]
}