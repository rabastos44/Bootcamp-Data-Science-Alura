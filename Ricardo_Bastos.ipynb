{
  "nbformat": 4,
  "nbformat_minor": 0,
  "metadata": {
    "colab": {
      "name": "Ricardo_Bastos.ipynb",
      "provenance": [],
      "mount_file_id": "1k1p5l7kxOjMLW7J39zZ2ar4qEA0t__DK",
      "authorship_tag": "ABX9TyNpWZw/ImJJaScul42sR7Ug"
    },
    "kernelspec": {
      "name": "python3",
      "display_name": "Python 3"
    }
  },
  "cells": [
    {
      "cell_type": "code",
      "metadata": {
        "id": "tOhZNnEpGKyP"
      },
      "source": [
        "import pandas as pd\n",
        "import matplotlib.pyplot as plt"
      ],
      "execution_count": 2,
      "outputs": []
    },
    {
      "cell_type": "markdown",
      "metadata": {
        "id": "gUm_ud2tGpYd"
      },
      "source": [
        "Carregando base de casos de Covid-19 Fonte: https://brasil.io/dataset/covid19/caso/\n",
        "\n",
        " #   Column                          Non-Null Count   Dtype  \n",
        "---  ------                          --------------   -----  \n",
        "- 0   date                            data da coleta yyyy-mm-dd\n",
        "- 1   state                           sigla da unidade federativa, exemplo: SP\n",
        "- 2   city                            nome do município (pode estar em branco quando o registro é referente ao estado, pode ser preenchido com Importados/Indefinidos também).\n",
        "- 3   place_type                      tipo de local que esse registro descreve, pode ser city ou state.\n",
        "- 4   confirmed                       número que identifica a ordem do registro para este local. O registro referente ao primeiro boletim em que esse local aparecer será contabilizado como 1 e os demais boletins incrementarão esse valor.\n",
        "- 5   deaths                          número de mortes\n",
        "- 6   order_for_place                 tipo de local que esse registro descreve, pode ser city ou state.\n",
        "- 7   is_last                         campo pré-computado que diz se esse registro é o mais novo para esse local, pode ser True ou False (caso filtre por esse campo, use is_last=True ou is_last=False, não use o valor em minúsculas).\n",
        "- 8   estimated_population_2019       população estimada para esse município/estado em 2019, segundo o IBGE. ATENÇÃO: essa coluna possui valores desatualizados, prefira usar a coluna estimated_population.\n",
        "- 9   estimated_population            população estimada para esse município/estado em 2020, segundo o IBGE. (acesse o script que faz o download e conversão dos dados de população).\n",
        "- 10  city_ibge_code                  código IBGE do local.\n",
        "- 11  confirmed_per_100k_inhabitants  número de casos confirmados por 100.000 habitantes (baseado em estimated_population).\n",
        "- 12  death_rate                      taxa de mortalidade (mortes / confirmados)."
      ]
    },
    {
      "cell_type": "code",
      "metadata": {
        "id": "kfE51i14GV6F"
      },
      "source": [
        "dados_raw = pd.read_csv('/content/drive/My Drive/Boot Camp Alura/caso.csv')"
      ],
      "execution_count": 139,
      "outputs": []
    },
    {
      "cell_type": "code",
      "metadata": {
        "id": "VENK3p8CGg6E",
        "outputId": "edac5a85-c518-49ba-f5a3-91ea9299ff9b",
        "colab": {
          "base_uri": "https://localhost:8080/"
        }
      },
      "source": [
        "dados_raw.info()"
      ],
      "execution_count": 140,
      "outputs": [
        {
          "output_type": "stream",
          "text": [
            "<class 'pandas.core.frame.DataFrame'>\n",
            "RangeIndex: 950679 entries, 0 to 950678\n",
            "Data columns (total 13 columns):\n",
            " #   Column                          Non-Null Count   Dtype  \n",
            "---  ------                          --------------   -----  \n",
            " 0   date                            950679 non-null  object \n",
            " 1   state                           950679 non-null  object \n",
            " 2   city                            944245 non-null  object \n",
            " 3   place_type                      950679 non-null  object \n",
            " 4   confirmed                       950679 non-null  int64  \n",
            " 5   deaths                          950679 non-null  int64  \n",
            " 6   order_for_place                 950679 non-null  int64  \n",
            " 7   is_last                         950679 non-null  bool   \n",
            " 8   estimated_population_2019       946976 non-null  float64\n",
            " 9   estimated_population            946976 non-null  float64\n",
            " 10  city_ibge_code                  946976 non-null  float64\n",
            " 11  confirmed_per_100k_inhabitants  933529 non-null  float64\n",
            " 12  death_rate                      950679 non-null  float64\n",
            "dtypes: bool(1), float64(5), int64(3), object(4)\n",
            "memory usage: 87.9+ MB\n"
          ],
          "name": "stdout"
        }
      ]
    },
    {
      "cell_type": "code",
      "metadata": {
        "id": "ostdCyCUHuzr"
      },
      "source": [
        "a = pd.to_datetime(dados_raw.date)"
      ],
      "execution_count": 145,
      "outputs": []
    },
    {
      "cell_type": "code",
      "metadata": {
        "id": "UVYO_9pxhRKJ"
      },
      "source": [
        "dados_raw.insert(0,0,a)"
      ],
      "execution_count": 150,
      "outputs": []
    },
    {
      "cell_type": "code",
      "metadata": {
        "id": "mfDFUJSbhXM5",
        "outputId": "b252f07c-c3c2-48f2-86bf-887cc38aa0d7",
        "colab": {
          "base_uri": "https://localhost:8080/"
        }
      },
      "source": [
        "dados_raw.info()"
      ],
      "execution_count": 153,
      "outputs": [
        {
          "output_type": "stream",
          "text": [
            "<class 'pandas.core.frame.DataFrame'>\n",
            "RangeIndex: 950679 entries, 0 to 950678\n",
            "Data columns (total 14 columns):\n",
            " #   Column                          Non-Null Count   Dtype         \n",
            "---  ------                          --------------   -----         \n",
            " 0   0                               950679 non-null  datetime64[ns]\n",
            " 1   date                            950679 non-null  object        \n",
            " 2   state                           950679 non-null  object        \n",
            " 3   city                            944245 non-null  object        \n",
            " 4   place_type                      950679 non-null  object        \n",
            " 5   confirmed                       950679 non-null  int64         \n",
            " 6   deaths                          950679 non-null  int64         \n",
            " 7   order_for_place                 950679 non-null  int64         \n",
            " 8   is_last                         950679 non-null  bool          \n",
            " 9   estimated_population_2019       946976 non-null  float64       \n",
            " 10  estimated_population            946976 non-null  float64       \n",
            " 11  city_ibge_code                  946976 non-null  float64       \n",
            " 12  confirmed_per_100k_inhabitants  933529 non-null  float64       \n",
            " 13  death_rate                      950679 non-null  float64       \n",
            "dtypes: bool(1), datetime64[ns](1), float64(5), int64(3), object(4)\n",
            "memory usage: 95.2+ MB\n"
          ],
          "name": "stdout"
        }
      ]
    },
    {
      "cell_type": "code",
      "metadata": {
        "id": "5exniMKWkOK7"
      },
      "source": [
        ""
      ],
      "execution_count": null,
      "outputs": []
    }
  ]
}