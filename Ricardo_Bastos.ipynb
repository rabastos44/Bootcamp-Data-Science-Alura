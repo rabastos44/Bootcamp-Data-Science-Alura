{
  "nbformat": 4,
  "nbformat_minor": 0,
  "metadata": {
    "colab": {
      "name": "Ricardo_Bastos.ipynb",
      "provenance": [],
      "collapsed_sections": [],
      "mount_file_id": "1k1p5l7kxOjMLW7J39zZ2ar4qEA0t__DK",
      "authorship_tag": "ABX9TyNblMnbh7dkR3v3fGKlEfbG",
      "include_colab_link": true
    },
    "kernelspec": {
      "display_name": "Python 3",
      "name": "python3"
    }
  },
  "cells": [
    {
      "cell_type": "markdown",
      "metadata": {
        "id": "view-in-github",
        "colab_type": "text"
      },
      "source": [
        "<a href=\"https://colab.research.google.com/github/rabastos44/Bootcamp-Data-Science-Alura/blob/master/Ricardo_Bastos.ipynb\" target=\"_parent\"><img src=\"https://colab.research.google.com/assets/colab-badge.svg\" alt=\"Open In Colab\"/></a>"
      ]
    },
    {
      "cell_type": "code",
      "metadata": {
        "id": "tOhZNnEpGKyP"
      },
      "source": [
        "import pandas as pd\n",
        "import matplotlib.pyplot as plt"
      ],
      "execution_count": 1,
      "outputs": []
    },
    {
      "cell_type": "markdown",
      "metadata": {
        "id": "bzt-syfhSTAV"
      },
      "source": [
        "## Resumo:\n",
        "\n",
        "Faça aqui o resumo das suas analises, destacando os pontos principais do seu projeto"
      ]
    },
    {
      "cell_type": "markdown",
      "metadata": {
        "id": "7iQX50IUSbHi"
      },
      "source": [
        "## Análise dos dados:\n",
        "\n",
        "Inicie aqui o desenvolvimento do seu projeto, não esqueça de adicionar textos curtos e objetivos para que os avaliadores entendam sua linha de raciocínio e as conclusões que você está chegando crie uma narrativa convincente e coerênte aos dados analisados."
      ]
    },
    {
      "cell_type": "markdown",
      "metadata": {
        "id": "gUm_ud2tGpYd"
      },
      "source": [
        "Carregando base de casos de Covid-19 Fonte: https://brasil.io/dataset/covid19/caso/\n",
        "\n",
        "---  Column                          Non-Null Count   Dtype  \n",
        "---  ------                          --------------   -----  \n",
        "- 0   date                            data da coleta yyyy-mm-dd\n",
        "- 1   state                           sigla da unidade federativa, exemplo: SP\n",
        "- 2   city                            nome do município (pode estar em branco quando o registro é referente ao estado, pode ser preenchido com Importados/Indefinidos também).\n",
        "- 3   place_type                      tipo de local que esse registro descreve, pode ser city ou state.\n",
        "- 4   confirmed                       número que identifica a ordem do registro para este local. O registro referente ao primeiro boletim em que esse local aparecer será contabilizado como 1 e os demais boletins incrementarão esse valor.\n",
        "- 5   deaths                          número de mortes\n",
        "- 6   order_for_place                 tipo de local que esse registro descreve, pode ser city ou state.\n",
        "- 7   is_last                         campo pré-computado que diz se esse registro é o mais novo para esse local, pode ser True ou False (caso filtre por esse campo, use is_last=True ou is_last=False, não use o valor em minúsculas).\n",
        "- 8   estimated_population_2019       população estimada para esse município/estado em 2019, segundo o IBGE. ATENÇÃO: essa coluna possui valores desatualizados, prefira usar a coluna estimated_population.\n",
        "- 9   estimated_population            população estimada para esse município/estado em 2020, segundo o IBGE. (acesse o script que faz o download e conversão dos dados de população).\n",
        "- 10  city_ibge_code                  código IBGE do local.\n",
        "- 11  confirmed_per_100k_inhabitants  número de casos confirmados por 100.000 habitantes (baseado em estimated_population).\n",
        "- 12  death_rate                      taxa de mortalidade (mortes / confirmados)."
      ]
    },
    {
      "cell_type": "code",
      "metadata": {
        "id": "kfE51i14GV6F"
      },
      "source": [
        "data_raw = pd.read_csv('/content/drive/My Drive/Boot Camp Alura/caso.csv')"
      ],
      "execution_count": 2,
      "outputs": []
    },
    {
      "cell_type": "code",
      "metadata": {
        "id": "VENK3p8CGg6E",
        "outputId": "34ce431c-c662-494d-d866-e0aebc779ba8",
        "colab": {
          "base_uri": "https://localhost:8080/"
        }
      },
      "source": [
        "data_raw.info()"
      ],
      "execution_count": 3,
      "outputs": [
        {
          "output_type": "stream",
          "text": [
            "<class 'pandas.core.frame.DataFrame'>\n",
            "RangeIndex: 950679 entries, 0 to 950678\n",
            "Data columns (total 13 columns):\n",
            " #   Column                          Non-Null Count   Dtype  \n",
            "---  ------                          --------------   -----  \n",
            " 0   date                            950679 non-null  object \n",
            " 1   state                           950679 non-null  object \n",
            " 2   city                            944245 non-null  object \n",
            " 3   place_type                      950679 non-null  object \n",
            " 4   confirmed                       950679 non-null  int64  \n",
            " 5   deaths                          950679 non-null  int64  \n",
            " 6   order_for_place                 950679 non-null  int64  \n",
            " 7   is_last                         950679 non-null  bool   \n",
            " 8   estimated_population_2019       946976 non-null  float64\n",
            " 9   estimated_population            946976 non-null  float64\n",
            " 10  city_ibge_code                  946976 non-null  float64\n",
            " 11  confirmed_per_100k_inhabitants  933529 non-null  float64\n",
            " 12  death_rate                      950679 non-null  float64\n",
            "dtypes: bool(1), float64(5), int64(3), object(4)\n",
            "memory usage: 87.9+ MB\n"
          ],
          "name": "stdout"
        }
      ]
    },
    {
      "cell_type": "code",
      "metadata": {
        "id": "ostdCyCUHuzr",
        "outputId": "33407dfe-20bd-408d-fe0e-f7b6cc3b84f3",
        "colab": {
          "base_uri": "https://localhost:8080/"
        }
      },
      "source": [
        "data_raw.columns "
      ],
      "execution_count": 4,
      "outputs": [
        {
          "output_type": "execute_result",
          "data": {
            "text/plain": [
              "Index(['date', 'state', 'city', 'place_type', 'confirmed', 'deaths',\n",
              "       'order_for_place', 'is_last', 'estimated_population_2019',\n",
              "       'estimated_population', 'city_ibge_code',\n",
              "       'confirmed_per_100k_inhabitants', 'death_rate'],\n",
              "      dtype='object')"
            ]
          },
          "metadata": {
            "tags": []
          },
          "execution_count": 4
        }
      ]
    },
    {
      "cell_type": "code",
      "metadata": {
        "id": "nioMLaSfIYfY",
        "outputId": "6d81bc51-4b2d-4657-d460-135b4822d609",
        "colab": {
          "base_uri": "https://localhost:8080/",
          "height": 309
        }
      },
      "source": [
        "data = data_raw[[ 'state', 'city', 'place_type', 'confirmed', 'deaths',\n",
        "       'order_for_place', 'is_last', 'estimated_population_2019',\n",
        "       'estimated_population', \n",
        "       'confirmed_per_100k_inhabitants', 'death_rate']]\n",
        "data.insert(0,'date',pd.to_datetime(data_raw.date))\n",
        "data.head()"
      ],
      "execution_count": 5,
      "outputs": [
        {
          "output_type": "execute_result",
          "data": {
            "text/html": [
              "<div>\n",
              "<style scoped>\n",
              "    .dataframe tbody tr th:only-of-type {\n",
              "        vertical-align: middle;\n",
              "    }\n",
              "\n",
              "    .dataframe tbody tr th {\n",
              "        vertical-align: top;\n",
              "    }\n",
              "\n",
              "    .dataframe thead th {\n",
              "        text-align: right;\n",
              "    }\n",
              "</style>\n",
              "<table border=\"1\" class=\"dataframe\">\n",
              "  <thead>\n",
              "    <tr style=\"text-align: right;\">\n",
              "      <th></th>\n",
              "      <th>date</th>\n",
              "      <th>state</th>\n",
              "      <th>city</th>\n",
              "      <th>place_type</th>\n",
              "      <th>confirmed</th>\n",
              "      <th>deaths</th>\n",
              "      <th>order_for_place</th>\n",
              "      <th>is_last</th>\n",
              "      <th>estimated_population_2019</th>\n",
              "      <th>estimated_population</th>\n",
              "      <th>confirmed_per_100k_inhabitants</th>\n",
              "      <th>death_rate</th>\n",
              "    </tr>\n",
              "  </thead>\n",
              "  <tbody>\n",
              "    <tr>\n",
              "      <th>0</th>\n",
              "      <td>2020-11-09</td>\n",
              "      <td>AC</td>\n",
              "      <td>NaN</td>\n",
              "      <td>state</td>\n",
              "      <td>31788</td>\n",
              "      <td>701</td>\n",
              "      <td>238</td>\n",
              "      <td>True</td>\n",
              "      <td>881935.0</td>\n",
              "      <td>894470.0</td>\n",
              "      <td>3553.83635</td>\n",
              "      <td>0.0221</td>\n",
              "    </tr>\n",
              "    <tr>\n",
              "      <th>1</th>\n",
              "      <td>2020-11-08</td>\n",
              "      <td>AC</td>\n",
              "      <td>NaN</td>\n",
              "      <td>state</td>\n",
              "      <td>31707</td>\n",
              "      <td>699</td>\n",
              "      <td>237</td>\n",
              "      <td>False</td>\n",
              "      <td>881935.0</td>\n",
              "      <td>894470.0</td>\n",
              "      <td>3544.78071</td>\n",
              "      <td>0.0220</td>\n",
              "    </tr>\n",
              "    <tr>\n",
              "      <th>2</th>\n",
              "      <td>2020-11-07</td>\n",
              "      <td>AC</td>\n",
              "      <td>NaN</td>\n",
              "      <td>state</td>\n",
              "      <td>31575</td>\n",
              "      <td>699</td>\n",
              "      <td>236</td>\n",
              "      <td>False</td>\n",
              "      <td>881935.0</td>\n",
              "      <td>894470.0</td>\n",
              "      <td>3530.02337</td>\n",
              "      <td>0.0221</td>\n",
              "    </tr>\n",
              "    <tr>\n",
              "      <th>3</th>\n",
              "      <td>2020-11-06</td>\n",
              "      <td>AC</td>\n",
              "      <td>NaN</td>\n",
              "      <td>state</td>\n",
              "      <td>31326</td>\n",
              "      <td>697</td>\n",
              "      <td>235</td>\n",
              "      <td>False</td>\n",
              "      <td>881935.0</td>\n",
              "      <td>894470.0</td>\n",
              "      <td>3502.18565</td>\n",
              "      <td>0.0222</td>\n",
              "    </tr>\n",
              "    <tr>\n",
              "      <th>4</th>\n",
              "      <td>2020-11-05</td>\n",
              "      <td>AC</td>\n",
              "      <td>NaN</td>\n",
              "      <td>state</td>\n",
              "      <td>31248</td>\n",
              "      <td>697</td>\n",
              "      <td>234</td>\n",
              "      <td>False</td>\n",
              "      <td>881935.0</td>\n",
              "      <td>894470.0</td>\n",
              "      <td>3493.46540</td>\n",
              "      <td>0.0223</td>\n",
              "    </tr>\n",
              "  </tbody>\n",
              "</table>\n",
              "</div>"
            ],
            "text/plain": [
              "        date state  ... confirmed_per_100k_inhabitants death_rate\n",
              "0 2020-11-09    AC  ...                     3553.83635     0.0221\n",
              "1 2020-11-08    AC  ...                     3544.78071     0.0220\n",
              "2 2020-11-07    AC  ...                     3530.02337     0.0221\n",
              "3 2020-11-06    AC  ...                     3502.18565     0.0222\n",
              "4 2020-11-05    AC  ...                     3493.46540     0.0223\n",
              "\n",
              "[5 rows x 12 columns]"
            ]
          },
          "metadata": {
            "tags": []
          },
          "execution_count": 5
        }
      ]
    },
    {
      "cell_type": "code",
      "metadata": {
        "id": "3ky9OUdLIk9H"
      },
      "source": [
        "#segmentações\n",
        "\n",
        "data_states = data[data.place_type=='state']\n",
        "data_citys = data[data.place_type=='city']\n",
        "data_states_islast = data_states[data_states.is_last==True]\n",
        "data_citys_islast = data_citys[data_citys.is_last==True]"
      ],
      "execution_count": 6,
      "outputs": []
    },
    {
      "cell_type": "code",
      "metadata": {
        "id": "pwhcTpKrJLWY"
      },
      "source": [
        "confirmed_states= data_states.pivot(index='date',columns='state',values='confirmed')\n",
        "confirmed_states.loc['2020-02-25'].fillna(0,inplace=True)\n",
        "confirmed_states.fillna(method=\"ffill\",axis=0,inplace=True)\n",
        "data_diarios_states = confirmed_states.diff(1)"
      ],
      "execution_count": 7,
      "outputs": []
    },
    {
      "cell_type": "code",
      "metadata": {
        "id": "Mq6vWxri3zzo",
        "outputId": "96b7ec87-b8b7-40f9-9d89-7629fff87b73",
        "colab": {
          "base_uri": "https://localhost:8080/"
        }
      },
      "source": [
        "data_diarios_states.rolling(15).mean"
      ],
      "execution_count": 8,
      "outputs": [
        {
          "output_type": "execute_result",
          "data": {
            "text/plain": [
              "<bound method Rolling.mean of Rolling [window=15,center=False,axis=0]>"
            ]
          },
          "metadata": {
            "tags": []
          },
          "execution_count": 8
        }
      ]
    },
    {
      "cell_type": "code",
      "metadata": {
        "id": "sybUn8XuKyxQ",
        "outputId": "e9c86447-f130-4185-cca2-dbe9cf9a7c2b",
        "colab": {
          "base_uri": "https://localhost:8080/",
          "height": 609
        }
      },
      "source": [
        "UF = 'AC'\n",
        "window = 120\n",
        "plt.figure(figsize=(12,10))\n",
        "plt.grid(axis='y')\n",
        "plt.plot(data_diarios_states[UF].rolling(15).mean().tail(window), color='r')\n",
        "plt.bar(height=data_diarios_states[UF].tail(window).values,x=data_diarios_states[UF].tail(window).index)\n"
      ],
      "execution_count": 12,
      "outputs": [
        {
          "output_type": "execute_result",
          "data": {
            "text/plain": [
              "<BarContainer object of 120 artists>"
            ]
          },
          "metadata": {
            "tags": []
          },
          "execution_count": 12
        },
        {
          "output_type": "display_data",
          "data": {
            "image/png": "[encoded data removed]",
            "text/plain": [
              "<Figure size 864x720 with 1 Axes>"
            ]
          },
          "metadata": {
            "tags": [],
            "needs_background": "light"
          }
        }
      ]
    },
    {
      "cell_type": "code",
      "metadata": {
        "id": "hzfxT497W-4Q"
      },
      "source": [
        ""
      ],
      "execution_count": 9,
      "outputs": []
    }
  ]
}